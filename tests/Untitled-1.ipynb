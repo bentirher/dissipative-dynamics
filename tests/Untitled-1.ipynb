{
 "cells": [
  {
   "cell_type": "markdown",
   "metadata": {},
   "source": [
    "Trying the master equation and the effective one for $\\Delta^{(1)} = \\Delta^{(2)}$."
   ]
  },
  {
   "cell_type": "code",
   "execution_count": 1,
   "metadata": {},
   "outputs": [],
   "source": [
    "from qutip import *\n",
    "import numpy as np\n",
    "import matplotlib.pyplot as plt\n",
    "import itertools \n",
    "\n",
    "import matplotlib.pyplot as plt\n",
    "plt.rcParams['text.usetex'] = True\n",
    "plt.rcParams['figure.dpi'] = 100\n",
    "plt.rcParams['savefig.dpi'] = 600\n",
    "\n",
    "from efficient_circuit_TEST_NEW import create_parametrized_ipd_circuit\n",
    "from efficient_qiskit_solver_TEST_NEW import efficient_qiskit_solver\n",
    "from qiskit_aer import AerSimulator\n",
    "from find_optimal_layout import find_optimal_layout\n",
    "from qiskit_ibm_runtime import QiskitRuntimeService, Session, EstimatorV2\n",
    "from qiskit.transpiler.preset_passmanagers import generate_preset_pass_manager\n",
    "from qiskit.transpiler import Layout"
   ]
  },
  {
   "cell_type": "code",
   "execution_count": 12,
   "metadata": {},
   "outputs": [],
   "source": [
    "service = QiskitRuntimeService(\n",
    "    channel='ibm_quantum',\n",
    "    instance='ibm-q-ikerbasque/upv-ehu/dynamics-of-mole',\n",
    "    token='ac55769048d74690dcec2e0219671ebcfb53eb44d32ee50608858b25572950cf0c789f133deb5ff884e342bffa02bed17167a747733f4e6ea69fd531bf4f39d7'\n",
    ")\n",
    "backend = service.backend('ibm_fez')"
   ]
  },
  {
   "cell_type": "markdown",
   "metadata": {},
   "source": [
    "Below is the function that solves the original master equation without removing the cavity."
   ]
  },
  {
   "cell_type": "code",
   "execution_count": 2,
   "metadata": {},
   "outputs": [],
   "source": [
    "def solve(n_mol, n_cav, N, w_m, w_c, gamma, kappa, g, t, initial_state, initial_cavity_photons):\n",
    "\n",
    "    evs = {}\n",
    "\n",
    "    n = n_mol + n_cav # Total \n",
    "\n",
    "    h_0 = []\n",
    "\n",
    "    h_int = []\n",
    "\n",
    "    for i in range(n):\n",
    "\n",
    "        identity_list = [x for x in itertools.chain.from_iterable(itertools.zip_longest([qeye(2)]*n_mol, [qeye(N)]*n_cav)) if x] # Tensor product of identities on each system\n",
    "        \n",
    "        if (i%2==0): # i even (i.e., molecule site)\n",
    "\n",
    "            identity_list[i] = w_m[int(i/2)]*sigmap()*sigmam()\n",
    "\n",
    "        else: # i odd (i.e., cavity site)\n",
    "            \n",
    "            identity_list[i] = w_c*destroy(N).dag()*destroy(N)\n",
    "\n",
    "        h_0.append(tensor(identity_list))\n",
    "\n",
    "        free_hamiltonian = sum(h_0)\n",
    "\n",
    "    for i in range(n-1):\n",
    "\n",
    "        identity_list = [x for x in itertools.chain.from_iterable(itertools.zip_longest([qeye(2)]*n_mol, [qeye(N)]*n_cav)) if x]\n",
    "\n",
    "        if (i%2==0):\n",
    "\n",
    "            identity_list[i] = sigmam()\n",
    "            identity_list[i+1] = destroy(N).dag()\n",
    "\n",
    "            first_summand = tensor(identity_list)\n",
    "\n",
    "            identity_list[i] = sigmap()\n",
    "            identity_list[i+1] = destroy(N)\n",
    "\n",
    "            second_summand = tensor(identity_list)\n",
    "        \n",
    "        else:\n",
    "\n",
    "            identity_list[i] = destroy(N)\n",
    "            identity_list[i+1] = sigmap()\n",
    "\n",
    "            first_summand = tensor(identity_list)\n",
    "\n",
    "            identity_list[i] = destroy(N).dag()\n",
    "            identity_list[i+1] = sigmam()\n",
    "\n",
    "            second_summand = tensor(identity_list)\n",
    "\n",
    "        h_int.append(g[i]*(first_summand + second_summand))\n",
    "\n",
    "        interaction_hamiltonian = sum(h_int)\n",
    "\n",
    "    hamiltonian = free_hamiltonian + interaction_hamiltonian\n",
    "\n",
    "    initial_mole_state = Qobj(initial_state)\n",
    "    initial_mole_state.dims = [[2,2],[1,1]]\n",
    "\n",
    "    #initial_mole_state = [basis(2,1)]*n_mol\n",
    "\n",
    "    #for index in initial_excited_molecule:\n",
    "\n",
    "        #initial_mole_state[index] = basis(2,0)\n",
    "    \n",
    "    initial_cavity_state = tensor([basis(N, initial_cavity_photons)]*n_cav)\n",
    "\n",
    "    #psi0 = tensor([x for x in itertools.chain.from_iterable(itertools.zip_longest(initial_mole_state, initial_cavity_state)) if x]) # Start with the molecule on the ground state and the cavity in a 1 photon fock state\n",
    "    psi0 = tensor(initial_mole_state, initial_cavity_state)\n",
    "    obs = []\n",
    "\n",
    "    for i in range(n):\n",
    "\n",
    "        identity_list = [x for x in itertools.chain.from_iterable(itertools.zip_longest([qeye(2)]*n_mol, [qeye(N)]*n_cav)) if x]\n",
    "\n",
    "        if (i%2 == 0):\n",
    "\n",
    "            identity_list[i] = sigmap()*sigmam()\n",
    "            obs.append(tensor(identity_list))\n",
    "        \n",
    "        else:\n",
    "\n",
    "            identity_list[i] = destroy(N).dag()*destroy(N)\n",
    "            obs.append(tensor(identity_list))\n",
    "\n",
    "    c_ops = []\n",
    "\n",
    "    counter_mole = 0\n",
    "\n",
    "    counter_cav = 0\n",
    "\n",
    "    for i in range(n):\n",
    "\n",
    "        identity_list = [x for x in itertools.chain.from_iterable(itertools.zip_longest([qeye(2)]*n_mol, [qeye(N)]*n_cav)) if x]\n",
    "\n",
    "        if (i%2 == 0):\n",
    "\n",
    "            identity_list[i] = np.sqrt(gamma[counter_mole])*sigmam()\n",
    "\n",
    "            c_ops.append(tensor(identity_list))\n",
    "\n",
    "            counter_mole = counter_mole + 1\n",
    "        \n",
    "        else:\n",
    "\n",
    "            identity_list[i] = np.sqrt(kappa[counter_cav])*destroy(N)\n",
    "\n",
    "            c_ops.append(tensor(identity_list))\n",
    "\n",
    "            counter_cav = counter_cav + 1\n",
    "\n",
    "\n",
    "    output = mesolve(H = hamiltonian, rho0 = psi0, tlist = t, e_ops = obs, c_ops = c_ops)\n",
    "\n",
    "    for i in range(n):\n",
    "\n",
    "        if (i%2 == 0):\n",
    "\n",
    "            evs['spsm %d' %i] = output.expect[i]\n",
    "\n",
    "        else:\n",
    "\n",
    "            evs['adaga %d' %i] = output.expect[i]\n",
    "\n",
    "    return evs"
   ]
  },
  {
   "cell_type": "code",
   "execution_count": 2,
   "metadata": {},
   "outputs": [],
   "source": [
    "def solve_for_two(w_m, w_c, gamma, kappa, g, t, initial_state):\n",
    "\n",
    "    ket_1 = Qobj([[0],[1]])\n",
    "    ket_0 = Qobj([[1],[0]])\n",
    "\n",
    "    lambda_plus = (1/np.sqrt(2))*(tensor(ket_0, ket_1) + tensor(ket_1, ket_0))\n",
    "    lambda_plus.dims = [[2,2],[1,1]]\n",
    "\n",
    "    e = tensor(ket_1, ket_1)\n",
    "    e.dims = [[2,2],[1,1]]\n",
    "\n",
    "    sigmam = ket_0*ket_1.dag()\n",
    "\n",
    "    sigma_1 = tensor(sigmam, qeye(2), qeye(2))\n",
    "    sigma_2 = tensor(qeye(2), sigmam, qeye(2))\n",
    "    a = tensor(qeye(2), qeye(2), destroy(2))\n",
    "\n",
    "    h_0 = w_m[0]*sigma_1.dag()*sigma_1 + w_m[1]*sigma_2.dag()*sigma_2 + w_c*a.dag()*a\n",
    "    h_int = g[0]*(sigma_1.dag()*a + sigma_1*a.dag()) + g[1]*(sigma_2.dag()*a + sigma_2*a.dag())\n",
    "\n",
    "    initial_molecular_state = Qobj(initial_state)\n",
    "    initial_molecular_state.dims = [[2,2],[1,1]]\n",
    "\n",
    "    rho0 = tensor(initial_molecular_state, basis(2,0))\n",
    "    \n",
    "    obs = [sigma_1.dag()*sigma_1, sigma_2.dag()*sigma_2, tensor(lambda_plus*lambda_plus.dag(), qeye(2)), tensor(e*e.dag(), qeye(2))]\n",
    "\n",
    "    c_ops = [np.sqrt(gamma[0])*sigma_1, np.sqrt(gamma[1])*sigma_2, np.sqrt(kappa[0])*a]\n",
    "\n",
    "    output = mesolve(H = h_0 + h_int, rho0 = rho0, tlist = t, e_ops = obs, c_ops = c_ops)\n",
    "\n",
    "    evs_spsm_0 = output.expect[0]\n",
    "\n",
    "    evs_spsm_1 = output.expect[1]\n",
    "\n",
    "    evs_lambda_plus = output.expect[2]\n",
    "\n",
    "    evs_e = output.expect[3]\n",
    "\n",
    "    evs = [evs_spsm_0, evs_spsm_1, evs_lambda_plus, evs_e]\n",
    "\n",
    "    return evs\n"
   ]
  },
  {
   "cell_type": "code",
   "execution_count": 11,
   "metadata": {},
   "outputs": [
    {
     "data": {
      "text/latex": [
       "Quantum object: dims=[[2, 2], [2, 2]], shape=(4, 4), type='oper', dtype=Dense, isherm=True$$\\left(\\begin{array}{cc}0 & 0 & 0 & 0\\\\0 & 0 & 0 & 0\\\\0 & 0 & 1 & 0\\\\0 & 0 & 0 & 0\\end{array}\\right)$$"
      ],
      "text/plain": [
       "Quantum object: dims=[[2, 2], [2, 2]], shape=(4, 4), type='oper', dtype=Dense, isherm=True\n",
       "Qobj data =\n",
       "[[0. 0. 0. 0.]\n",
       " [0. 0. 0. 0.]\n",
       " [0. 0. 1. 0.]\n",
       " [0. 0. 0. 0.]]"
      ]
     },
     "execution_count": 11,
     "metadata": {},
     "output_type": "execute_result"
    }
   ],
   "source": [
    "ket_10 = tensor(ket_1, ket_0)\n",
    "ket_10*ket_10.dag()"
   ]
  },
  {
   "cell_type": "code",
   "execution_count": 10,
   "metadata": {},
   "outputs": [],
   "source": [
    "ket_1 = Qobj([[0],[1]])\n",
    "ket_0 = Qobj([[1],[0]])"
   ]
  },
  {
   "cell_type": "code",
   "execution_count": null,
   "metadata": {},
   "outputs": [
    {
     "data": {
      "image/png": "[encoded data removed]",
      "text/plain": [
       "<Figure size 640x480 with 1 Axes>"
      ]
     },
     "metadata": {},
     "output_type": "display_data"
    }
   ],
   "source": [
    "t = np.linspace(0, 750, 1500)\n",
    "\n",
    "n_mol = 2 # Number of molecules\n",
    "n_cav = 1 # Number of cavities\n",
    "\n",
    "w = [1.2, 1.2]\n",
    "w_c = 1.1 # frequency of the cavity\n",
    "N = 2 # Number of cavity Fock states\n",
    "g = [0.01, 0.015] # Coupling strengths\n",
    "i = 1j\n",
    "det = [x-w_c for x in w] # Detunings\n",
    "\n",
    "gamma = [0.8*(10**(-6)), 0.8*(10**(-6))]\n",
    "kappa = [0.2]\n",
    "\n",
    "\n",
    "self_factors = [((g[j]**2))/((0.5*kappa[0])**2 + det[j]**2) for j in range(n_mol)] # adim\n",
    "cross_denom_1 = (kappa[0]/2)**2 + (kappa[0]/2)*(w[1] - w[0])*i + det[0]*det[1]\n",
    "cross_denom_2 = (kappa[0]/2)**2 - (kappa[0]/2)*(w[1] - w[0])*i + det[0]*det[1]\n",
    "\n",
    "eff_gamma = [ gamma[j] + self_factors[j]*kappa[0] for j in range(n_mol)]\n",
    "\n",
    "H_0 = (w[0] + self_factors[0]*det[0])*(tensor(sigmap()*sigmam(), qeye(2))) + (w[1] + self_factors[1]*det[1])*tensor(qeye(2), sigmap()*sigmam())\n",
    "H_int = (0.5*g[0]*g[1]*(det[0] + det[1]))*((1/cross_denom_1)*tensor(sigmam(),sigmap()) + (1/cross_denom_2)*tensor(sigmap(), sigmam()))\n",
    "\n",
    "initial_excited_molecule = [0]\n",
    "\n",
    "initial_cavity_photons = 0\n",
    "\n",
    "indiv_decay_0 = np.sqrt(eff_gamma[0])*tensor(sigmam(), qeye(2))\n",
    "indiv_decay_1 = np.sqrt(eff_gamma[1])*tensor(qeye(2), sigmam())\n",
    "\n",
    "cross_c_op_1 = (g[0]*g[1]*(kappa[0] + i*(det[1] - det[0])))/cross_denom_1*lindblad_dissipator(a = tensor(sigmam(), qeye(2)), b = tensor(qeye(2), sigmam()))\n",
    "\n",
    "cross_c_op_2 = (g[0]*g[1]*(kappa[0] + i*(det[0] - det[1])))/cross_denom_2*lindblad_dissipator(a = tensor(qeye(2), sigmam()), b = tensor(sigmam(), qeye(2)))\n",
    "\n",
    "rho0 = basis(dimensions = [2]*2, n = [0,1])\n",
    "\n",
    "c_ops = [indiv_decay_0, indiv_decay_1, cross_c_op_1, cross_c_op_2]\n",
    "\n",
    "obs = [tensor(sigmap()*sigmam(), qeye(2)), tensor(qeye(2), sigmap()*sigmam())]\n",
    "\n",
    "output = mesolve(H = H_0 + H_int , rho0 = rho0, tlist = t, e_ops = obs, c_ops = c_ops)\n",
    "\n",
    "evs_spsm_0 = output.expect[0]\n",
    "\n",
    "evs_spsm_1 = output.expect[1]\n",
    "\n",
    "\n",
    "plt.plot(t, evs_spsm_0, color = 'red', label = '$\\\\sigma_{+}\\\\sigma_{-}^{0}$')\n",
    "plt.plot(t, evs_spsm_1, color = 'blue', label = '$\\\\sigma_{+}\\\\sigma_{-}^{1}$')\n",
    "\n",
    "evs = solve(n_mol, n_cav, N, w, w_c, gamma, kappa, g, t, initial_excited_molecule, initial_cavity_photons)\n",
    "\n",
    "for key in evs:\n",
    "\n",
    "    plt.plot(t, evs[key], color = 'grey', linestyle = 'dashed')\n",
    "\n",
    "plt.legend()\n",
    "plt.ylim([0, 1.1])\n",
    "plt.show()"
   ]
  },
  {
   "cell_type": "markdown",
   "metadata": {},
   "source": [
    "Now for the quantum circuit, we will use a modified version of the `efficient_circuit.py` and `efficient_qiskit_solver.py`. "
   ]
  },
  {
   "cell_type": "code",
   "execution_count": 4,
   "metadata": {},
   "outputs": [],
   "source": [
    "def markov_solve(n_mol, w, w_c, gamma, kappa, g, t, initial_state):\n",
    "\n",
    "    i = 1j\n",
    "    det = [x-w_c for x in w]\n",
    "\n",
    "    self_factors = [((g[j]**2))/((0.5*kappa[0])**2 + det[j]**2) for j in range(n_mol)] # adim\n",
    "    cross_denom_1 = (kappa[0]/2)**2 + (kappa[0]/2)*(w[1] - w[0])*i + det[0]*det[1]\n",
    "    cross_denom_2 = (kappa[0]/2)**2 - (kappa[0]/2)*(w[1] - w[0])*i + det[0]*det[1]\n",
    "\n",
    "    eff_gamma = [ gamma[j] + self_factors[j]*kappa[0] for j in range(n_mol)]\n",
    "\n",
    "    H_0 = (w[0] + self_factors[0]*det[0])*(tensor(sigmap()*sigmam(), qeye(2))) + (w[1] + self_factors[1]*det[1])*tensor(qeye(2), sigmap()*sigmam())\n",
    "    H_int = (0.5*g[0]*g[1]*(det[0] + det[1]))*((1/cross_denom_1)*tensor(sigmam(),sigmap()) + (1/cross_denom_2)*tensor(sigmap(), sigmam()))\n",
    "\n",
    "    indiv_decay_0 = np.sqrt(eff_gamma[0])*tensor(sigmam(), qeye(2))\n",
    "    indiv_decay_1 = np.sqrt(eff_gamma[1])*tensor(qeye(2), sigmam())\n",
    "\n",
    "    cross_c_op_1 = (g[0]*g[1]*(kappa[0] + i*(det[1] - det[0])))/cross_denom_1*lindblad_dissipator(a = tensor(sigmam(), qeye(2)), b = tensor(qeye(2), sigmam()))\n",
    "\n",
    "    cross_c_op_2 = (g[0]*g[1]*(kappa[0] + i*(det[0] - det[1])))/cross_denom_2*lindblad_dissipator(a = tensor(qeye(2), sigmam()), b = tensor(sigmam(), qeye(2)))\n",
    "\n",
    "    #initial_mole_state = [basis(2,1)]*n_mol\n",
    "\n",
    "    #for index in initial_excited_molecule:\n",
    "\n",
    "        #initial_mole_state[index] = basis(2,0)\n",
    "\n",
    "    #rho0 = tensor(initial_mole_state)\n",
    "\n",
    "    rho0 = Qobj(initial_state[::-1])\n",
    "    rho0.dims = [[2,2],[1,1]]\n",
    "    #rho0.dims = [[2,2],[2,2]]\n",
    "\n",
    "    c_ops = [indiv_decay_0, indiv_decay_1]#, cross_c_op_1, cross_c_op_2]\n",
    "\n",
    "    obs = [tensor(sigmap()*sigmam(), qeye(2)), tensor(qeye(2), sigmap()*sigmam())]\n",
    "\n",
    "    output = mesolve(H = H_0 + H_int , rho0 = rho0, tlist = t, e_ops = obs, c_ops = c_ops)\n",
    "\n",
    "    evs_spsm_0 = output.expect[0]\n",
    "\n",
    "    evs_spsm_1 = output.expect[1]\n",
    "\n",
    "    evs = [evs_spsm_0, evs_spsm_1]\n",
    "\n",
    "    return evs"
   ]
  },
  {
   "cell_type": "code",
   "execution_count": 5,
   "metadata": {},
   "outputs": [],
   "source": [
    "def markov_solve_diagonal_basis_manual(n_mol, w, w_c, gamma, kappa, g, t, initial_state):\n",
    "\n",
    "    e = Qobj([[0],[0],[0],[1]])\n",
    "    lambda_plus = Qobj([[0],[0],[1],[0]])\n",
    "    lambda_minus = Qobj([[0],[1],[0],[0]])\n",
    "    gr = Qobj([[1],[0],[0],[0]])\n",
    "\n",
    "    sigma_gplus = Qobj(lambda_plus*gr.dag()).dag()\n",
    "    sigma_gminus = Qobj(lambda_minus*gr.dag()).dag()\n",
    "    sigma_pluse = Qobj(e*lambda_plus.dag()).dag()\n",
    "    sigma_minuse = Qobj(e*lambda_minus.dag()).dag()\n",
    "\n",
    "    i = 1j\n",
    "    det = [x-w_c for x in w]\n",
    "\n",
    "    self_factors = [((g[j]**2))/((0.5*kappa[0])**2 + det[j]**2) for j in range(n_mol)] # adim\n",
    "    cross_denom_1 = (kappa[0]/2)**2 + (kappa[0]/2)*(w[1] - w[0])*i + det[0]*det[1]\n",
    "\n",
    "    eff_gamma = [ gamma[j] + self_factors[j]*kappa[0] for j in range(n_mol)]\n",
    "    gamma_cross = (g[0]*g[1]*(kappa[0] + i*(det[1] - det[0])))/cross_denom_1\n",
    "    omega_eff = w[0] + self_factors[0]*det[0]\n",
    "    g_eff = (0.5*g[0]*g[1]*(det[0] + det[1]))*(1/cross_denom_1)\n",
    "\n",
    "    H = Qobj(np.array([[0, 0, 0, 0], [0, omega_eff - g_eff, 0, 0], [0, 0, omega_eff+g_eff, 0],[0, 0, 0, 2*omega_eff]]))\n",
    "\n",
    "    # This below is the initial state on the computational basis\n",
    "\n",
    "    comp_rho0 = Qobj(initial_state)\n",
    "\n",
    "    #initial_mole_state = [basis(2,0)]*n_mol\n",
    "\n",
    "    #for index in initial_excited_molecule:\n",
    "\n",
    "        #initial_mole_state[index] = basis(2,1)\n",
    "\n",
    "    # We will define the basis change matrix and apply it to transform rho0 into the diagonal basis.\n",
    "\n",
    "    U = Qobj(np.array([[1, 0, 0, 0], [0, -1/np.sqrt(2), 1/np.sqrt(2), 0], [0, 1/np.sqrt(2), 1/np.sqrt(2), 0], [0, 0, 0, 1]]))\n",
    "\n",
    "    #comp_rho0 = tensor(initial_mole_state)\n",
    "    #comp_rho0.dims = [[4],[1]]\n",
    "\n",
    "    rho0 = U*comp_rho0\n",
    "\n",
    "    diss_gplus = np.sqrt(gamma_cross + (eff_gamma[0] + eff_gamma[1])/2)*sigma_gplus\n",
    "    diss_gminus = np.sqrt(- gamma_cross + (eff_gamma[0] + eff_gamma[1])/2)*sigma_gminus\n",
    "    diss_pluse = np.sqrt(gamma_cross + (eff_gamma[0] + eff_gamma[1])/2)*sigma_pluse\n",
    "    diss_minuse = np.sqrt(- gamma_cross + (eff_gamma[0] + eff_gamma[1])/2)*sigma_minuse\n",
    "\n",
    "    cross_gplus_pluse = (gamma_cross + (eff_gamma[0] + eff_gamma[1])/2)*lindblad_dissipator(a = sigma_gplus, b = sigma_pluse)\n",
    "    cross_gminus_minuse = (gamma_cross - (eff_gamma[0] + eff_gamma[1])/2)*lindblad_dissipator(a = sigma_gminus, b = sigma_minuse)\n",
    "    cross_pluse_gplus = (gamma_cross + (eff_gamma[0] + eff_gamma[1])/2)*lindblad_dissipator(a = sigma_pluse, b = sigma_gplus)\n",
    "    cross_minuse_gminus = (gamma_cross - (eff_gamma[0] + eff_gamma[1])/2)*lindblad_dissipator(a = sigma_minuse, b = sigma_gminus)\n",
    "\n",
    "    #c_ops = [diss_gplus, diss_gminus, diss_pluse, diss_minuse]#, cross_gplus_pluse, cross_gminus_minuse, cross_pluse_gplus, cross_minuse_gminus]\n",
    "    c_ops = [diss_pluse, diss_minuse]\n",
    "\n",
    "\n",
    "    sigmaplus_sigmaminus_1 = (1/2)*(lambda_plus*gr.dag() + lambda_minus*gr.dag() + e*lambda_plus.dag() - e*lambda_minus.dag())*(lambda_plus*gr.dag() + lambda_minus*gr.dag() + e*lambda_plus.dag() - e*lambda_minus.dag()).dag()\n",
    "    sigmaplus_sigmaminus_2 = (1/2)*(lambda_plus*gr.dag() - lambda_minus*gr.dag() + e*lambda_plus.dag() + e*lambda_minus.dag())*(lambda_plus*gr.dag() - lambda_minus*gr.dag() + e*lambda_plus.dag() + e*lambda_minus.dag()).dag()\n",
    "    obs = [sigmaplus_sigmaminus_1, sigmaplus_sigmaminus_2]\n",
    "\n",
    "    output = mesolve(H = H , rho0 = rho0, tlist = t, e_ops = obs, c_ops = c_ops)\n",
    "\n",
    "    evs_spsm_0 = output.expect[0]\n",
    "\n",
    "    evs_spsm_1 = output.expect[1]\n",
    "\n",
    "    evs = [evs_spsm_0, evs_spsm_1]\n",
    "\n",
    "    return evs"
   ]
  },
  {
   "cell_type": "markdown",
   "metadata": {},
   "source": [
    "First we will check that the circuit works without the cross dissipators"
   ]
  },
  {
   "cell_type": "code",
   "execution_count": 6,
   "metadata": {},
   "outputs": [
    {
     "data": {
      "image/png": "[encoded data removed]",
      "text/plain": [
       "<Figure size 640x480 with 1 Axes>"
      ]
     },
     "metadata": {},
     "output_type": "display_data"
    }
   ],
   "source": [
    "n_mol = 2\n",
    "t = np.linspace(0, 750, 1500)\n",
    "\n",
    "n_mol = 2 # Number of molecules\n",
    "n_cav = 1 # Number of cavities\n",
    "\n",
    "w = [1.2, 1.2]\n",
    "w_c = 1.1 # frequency of the cavity\n",
    "N = 2 # Number of cavity Fock states\n",
    "g = [0.01, 0.015]\n",
    "\n",
    "gamma = [0.8*(10**(-6)), 0.8*(10**(-6))]\n",
    "kappa = [0.2]\n",
    "lam = [0,0]\n",
    "\n",
    "r = 8\n",
    "\n",
    "initial_excited_molecule = [0]\n",
    "initial_cavity_photons = 0\n",
    "\n",
    "backend = AerSimulator()\n",
    "optimization_level = 0\n",
    "options = {'resilience_level' : 1,\n",
    "           'default_shots' : 1024,\n",
    "           'optimization_level' : 1}\n",
    "\n",
    "population = efficient_qiskit_solver(n = n_mol, omega_m = w, omega_c = w_c, gamma = gamma, lam = lam, g = g, kappa = kappa, t = t, r = r, initial_excited = initial_excited_molecule, backend = backend, optimization_level = optimization_level, options = options)\n",
    "markov_population = markov_solve(n_mol, w, w_c, gamma, kappa, g, t)\n",
    "exact_population = solve(n_mol, n_cav, N, w, w_c, gamma, kappa, g, t, initial_excited_molecule, initial_cavity_photons)\n",
    "\n",
    "plt.plot(t, exact_population['spsm 0'], color = 'grey')\n",
    "plt.plot(t, exact_population['spsm 2'], color = 'grey')\n",
    "\n",
    "for i in range(n_mol):\n",
    "\n",
    "    plt.plot(t, population[i], color = 'blue', label = '$q_{%d}$' %int(i))\n",
    "\n",
    "plt.plot(t, markov_population[0], linestyle = 'dashed', color = 'grey')\n",
    "plt.plot(t, markov_population[1], linestyle = 'dashed', color = 'grey')\n",
    "plt.legend()\n",
    "\n",
    "plt.show()"
   ]
  },
  {
   "cell_type": "code",
   "execution_count": 3,
   "metadata": {},
   "outputs": [
    {
     "data": {
      "image/png": "[encoded data removed]",
      "text/plain": [
       "<Figure size 1233.17x294.311 with 1 Axes>"
      ]
     },
     "execution_count": 3,
     "metadata": {},
     "output_type": "execute_result"
    }
   ],
   "source": [
    "n_mol = 2\n",
    "t = np.linspace(0, 750, 1500)\n",
    "\n",
    "n_mol = 2 # Number of molecules\n",
    "n_cav = 1 # Number of cavities\n",
    "\n",
    "w = [1.2, 1.2]\n",
    "w_c = 1.1 # frequency of the cavity\n",
    "N = 2 # Number of cavity Fock states\n",
    "g = [0.01, 0.01]\n",
    "\n",
    "gamma = [0.8*(10**(-6)), 0.8*(10**(-6))]\n",
    "kappa = [0.2]\n",
    "lam = [0,0]\n",
    "\n",
    "r = 1\n",
    "\n",
    "initial_state = [1,0,0,0]\n",
    "initial_cavity_photons = 0\n",
    "\n",
    "qc = create_parametrized_ipd_circuit(n_mol = n_mol, omega_m = w, omega_c = w_c,\n",
    "                                    gamma = gamma, lam = lam, g = g, kappa = kappa,\n",
    "                                    r = r, initial_qubit_state = initial_state)\n",
    "\n",
    "\n",
    "#layout = find_optimal_layout(10**3, qc, backend, 3)\n",
    "#pm = generate_preset_pass_manager(backend  = backend, optimization_level = 3)\n",
    "#transpiled_qc = pm.run(qc)\n",
    "#print(transpiled_qc.depth(lambda instr: len(instr.qubits) > 1))\n",
    "qc.draw('mpl', scale = 0.8)\n",
    "#transpiled_qc.draw('mpl', scale = 0.6, idle_wires=False)\n",
    "\n",
    "#observables = [obs, population_e]\n",
    "#transpiled_observables = [x.apply_layout(transpiled_qc.layout) for x in observables]\n",
    "#transpiled_observables\n",
    "#reshaped_obs = np.fromiter(transpiled_observables, dtype=object)\n",
    "\n",
    "#reshaped_obs = reshaped_obs.reshape((2, 1))\n",
    "#reshaped_obs"
   ]
  },
  {
   "cell_type": "code",
   "execution_count": 9,
   "metadata": {},
   "outputs": [
    {
     "data": {
      "text/plain": [
       "[4]"
      ]
     },
     "execution_count": 9,
     "metadata": {},
     "output_type": "execute_result"
    }
   ],
   "source": [
    "initial_state = [2]\n",
    "initial_state[0] = initial_state[0] + 2\n",
    "initial_state"
   ]
  },
  {
   "cell_type": "code",
   "execution_count": 7,
   "metadata": {},
   "outputs": [
    {
     "data": {
      "image/png": "[encoded data removed]",
      "text/plain": [
       "<Figure size 640x480 with 1 Axes>"
      ]
     },
     "metadata": {},
     "output_type": "display_data"
    }
   ],
   "source": [
    "n_mol = 2\n",
    "t = np.linspace(0, 750, 25)\n",
    "\n",
    "n_mol = 2 # Number of molecules\n",
    "n_cav = 1 # Number of cavities\n",
    "\n",
    "w = [1.1, 1.1]\n",
    "w_c = 1.1 # frequency of the cavity\n",
    "N = 2 # Number of cavity Fock states\n",
    "g = [0.01, 0.01]\n",
    "\n",
    "gamma = [0.8*(10**(-6)), 0.8*(10**(-6))]\n",
    "kappa = [0.1]\n",
    "lam = [0,0]\n",
    "\n",
    "r = 1\n",
    "\n",
    "initial_state = [0,1/np.sqrt(2),1/np.sqrt(2),0] # Coordinates in |q_0q_1> = |00>, |01>, |10>, |11>\n",
    "initial_qubit_state = [0,1,0,0]\n",
    "\n",
    "initial_cavity_photons = 0\n",
    "\n",
    "backend = AerSimulator()\n",
    "optimization_level = 0\n",
    "options = {'resilience_level' : 1,\n",
    "           'default_shots' : 1024,\n",
    "           'optimization_level' : 1}\n",
    "\n",
    "population = efficient_qiskit_solver(n = n_mol, omega_m = w, omega_c = w_c, gamma = gamma, lam = lam, g = g, kappa = kappa, t = t, r = r, initial_state = initial_qubit_state, backend = backend, optimization_level = optimization_level, options = options)\n",
    "#markov_population = markov_solve(n_mol, w, w_c, gamma, kappa, g, t, initial_state)\n",
    "#diagonal_pop = markov_solve_diagonal_basis_manual(n_mol, w, w_c, gamma, kappa, g, t, initial_state)\n",
    "exact_population = solve_for_two(w, w_c, gamma, kappa, g, t, initial_state)\n",
    "\n",
    "plt.plot(t, exact_population[2], color = 'grey', label = 'full')\n",
    "#plt.plot(t, exact_population[1], color = 'grey')\n",
    "\n",
    "for i in range(n_mol):\n",
    "\n",
    "    plt.plot(t, population[i], linestyle = 'dashed', label = '$q_{%d}$' %int(i))\n",
    "\n",
    "plt.plot(t, population[3], linestyle = 'dashed', label = '.')\n",
    "\n",
    "#plt.plot(t, markov_population[0], linestyle = 'dashed', color = 'grey', label = 'computational basis (only $\\\\mathcal{D}_{\\\\sigma_1}, \\\\mathcal{D}_{\\\\sigma_2}$)')\n",
    "#plt.plot(t, markov_population[1], linestyle = 'dashed', color = 'grey')\n",
    "#plt.plot(t, diagonal_pop[0], linestyle = 'dashed', color = 'purple', label = 'coupled basis (only $\\\\mathcal{D}_{+E}, \\\\mathcal{D}_{-E}$)')\n",
    "#plt.plot(t, diagonal_pop[1], linestyle = 'dashed', color = 'purple')\n",
    "\n",
    "###########################################################################################################################################################################################\n",
    "\n",
    "detunings = [x-w_c for x in w]\n",
    "denom = ((0.5*kappa[0])**2 + detunings[0]**2)\n",
    "gamma_eff = [gamma[i] + (((g[i]**2))/denom)*kappa[0] for i in range(n_mol)]\n",
    "gamma_cross = (g[0]*g[1]*(kappa[0]))/denom \n",
    "gamma_plus = (gamma_cross + (gamma_eff[0] + gamma_eff[1])/2)\n",
    "gamma_minus = (-gamma_cross + (gamma_eff[0] + gamma_eff[1])/2)\n",
    "eff = (gamma_plus + gamma_minus)\n",
    "\n",
    "#plt.plot(t, np.exp(-eff/2*t), label = '$e^{-(\\\\gamma_+ + \\\\gamma_-)t/2}$')\n",
    "#plt.plot(t, 1/2*(np.exp(-gamma_plus*t) + np.exp(-gamma_minus*t)), label = '$1/2(e^{-\\\\gamma_+t} + e^{-\\\\gamma_-t})$')\n",
    "\n",
    "plt.legend()\n",
    "\n",
    "plt.show()"
   ]
  },
  {
   "cell_type": "code",
   "execution_count": 11,
   "metadata": {},
   "outputs": [
    {
     "data": {
      "text/plain": [
       "2"
      ]
     },
     "execution_count": 11,
     "metadata": {},
     "output_type": "execute_result"
    }
   ],
   "source": [
    "from qiskit.quantum_info import SparsePauliOp\n",
    "\n",
    "identity_str = list('I'*2*2)\n",
    "\n",
    "identity_str[0] = 'Z'\n",
    "\n",
    "identity_str.reverse()\n",
    "\n",
    "spin_op = ''.join(identity_str)\n",
    "\n",
    "obs = 0.5*(SparsePauliOp('I'*(2*2)) - SparsePauliOp(spin_op))\n",
    "\n",
    "obs.size"
   ]
  },
  {
   "cell_type": "code",
   "execution_count": 9,
   "metadata": {},
   "outputs": [
    {
     "data": {
      "text/plain": [
       "SparsePauliOp(['IIII', 'IIIZ', 'IIZI', 'IIZZ'],\n",
       "              coeffs=[ 0.25+0.j, -0.25+0.j, -0.25+0.j,  0.25+0.j])"
      ]
     },
     "execution_count": 9,
     "metadata": {},
     "output_type": "execute_result"
    }
   ],
   "source": [
    "population_e = SparsePauliOp('II').tensor(SparsePauliOp.from_operator(np.array([[0,0,0,0],[0,0,0,0],[0,0,0,0],[0,0,0,1]])))\n",
    "population_e"
   ]
  },
  {
   "cell_type": "code",
   "execution_count": 69,
   "metadata": {},
   "outputs": [
    {
     "data": {
      "text/latex": [
       "Quantum object: dims=[[4], [4]], shape=(4, 4), type='oper', dtype=Dense, isherm=True$$\\left(\\begin{array}{cc}1 & 0 & 0 & 0\\\\0 & 0 & 0 & 0\\\\0 & 0 & 0 & 0\\\\0 & 0 & 0 & 0\\end{array}\\right)$$"
      ],
      "text/plain": [
       "Quantum object: dims=[[4], [4]], shape=(4, 4), type='oper', dtype=Dense, isherm=True\n",
       "Qobj data =\n",
       "[[1. 0. 0. 0.]\n",
       " [0. 0. 0. 0.]\n",
       " [0. 0. 0. 0.]\n",
       " [0. 0. 0. 0.]]"
      ]
     },
     "execution_count": 69,
     "metadata": {},
     "output_type": "execute_result"
    }
   ],
   "source": [
    "initial_mole_state = [basis(2,1)]*n_mol\n",
    "\n",
    "for index in initial_excited_molecule:\n",
    "\n",
    "    initial_mole_state[index] = basis(2,0)\n",
    "\n",
    "rho0 = tensor(initial_mole_state)\n",
    "rho0.dims = [[4],[1]]\n",
    "rho0*rho0.dag()"
   ]
  },
  {
   "cell_type": "code",
   "execution_count": 81,
   "metadata": {},
   "outputs": [
    {
     "data": {
      "text/latex": [
       "Quantum object: dims=[[4], [4]], shape=(4, 4), type='oper', dtype=Dense, isherm=True$$\\left(\\begin{array}{cc}1 & 0 & 0 & 0\\\\0 & -0.707 & 0.707 & 0\\\\0 & 0.707 & 0.707 & 0\\\\0 & 0 & 0 & 1\\end{array}\\right)$$"
      ],
      "text/plain": [
       "Quantum object: dims=[[4], [4]], shape=(4, 4), type='oper', dtype=Dense, isherm=True\n",
       "Qobj data =\n",
       "[[ 1.          0.          0.          0.        ]\n",
       " [ 0.         -0.70710678  0.70710678  0.        ]\n",
       " [ 0.          0.70710678  0.70710678  0.        ]\n",
       " [ 0.          0.          0.          1.        ]]"
      ]
     },
     "execution_count": 81,
     "metadata": {},
     "output_type": "execute_result"
    }
   ],
   "source": [
    "U = Qobj(np.array([[1, 0, 0, 0], [0, -1/np.sqrt(2), 1/np.sqrt(2), 0], [0, 1/np.sqrt(2), 1/np.sqrt(2), 0], [0, 0, 0, 1]]))\n",
    "U"
   ]
  },
  {
   "cell_type": "code",
   "execution_count": 15,
   "metadata": {},
   "outputs": [
    {
     "data": {
      "image/png": "[encoded data removed]",
      "text/plain": [
       "<Figure size 287.294x367.889 with 1 Axes>"
      ]
     },
     "execution_count": 15,
     "metadata": {},
     "output_type": "execute_result"
    }
   ],
   "source": [
    "from qiskit import QuantumCircuit, QuantumRegister\n",
    "from qiskit.circuit.library import Initialize\n",
    "from qiskit.quantum_info import Statevector\n",
    "\n",
    "initial = [0, 1, 1, 0]\n",
    "init_state = Statevector(initial)\n",
    "system = QuantumRegister(2, 'q')\n",
    "environment = QuantumRegister(2, 'e')\n",
    "qc = QuantumCircuit(system, environment)\n",
    "qc.initialize(init_state, qubits = system, normalize = True)\n",
    "qc.draw('mpl')"
   ]
  },
  {
   "cell_type": "code",
   "execution_count": 63,
   "metadata": {},
   "outputs": [
    {
     "data": {
      "text/latex": [
       "Quantum object: dims=[[4], [4]], shape=(4, 4), type='oper', dtype=Dense, isherm=False$$\\left(\\begin{array}{cc}0 & 0 & 1 & 0\\\\0 & 0 & 0 & 0\\\\0 & 0 & 0 & 0\\\\0 & 0 & 0 & 0\\end{array}\\right)$$"
      ],
      "text/plain": [
       "Quantum object: dims=[[4], [4]], shape=(4, 4), type='oper', dtype=Dense, isherm=False\n",
       "Qobj data =\n",
       "[[0. 0. 1. 0.]\n",
       " [0. 0. 0. 0.]\n",
       " [0. 0. 0. 0.]\n",
       " [0. 0. 0. 0.]]"
      ]
     },
     "execution_count": 63,
     "metadata": {},
     "output_type": "execute_result"
    }
   ],
   "source": [
    "e = Qobj([[0],[0],[0],[1]])\n",
    "lambda_plus = Qobj([[0],[0],[1],[0]])\n",
    "lambda_minus = Qobj([[0],[1],[0],[0]])\n",
    "gr = Qobj([[1],[0],[0],[0]])\n",
    "\n",
    "sigma_gplus = Qobj(lambda_plus*gr.dag()).dag()\n",
    "sigma_gplus"
   ]
  },
  {
   "cell_type": "code",
   "execution_count": 18,
   "metadata": {},
   "outputs": [
    {
     "data": {
      "text/latex": [
       "Quantum object: dims=[[4], [1]], shape=(4, 1), type='ket', dtype=Dense$$\\left(\\begin{array}{cc}0\\\\0\\\\1\\\\0\\end{array}\\right)$$"
      ],
      "text/plain": [
       "Quantum object: dims=[[4], [1]], shape=(4, 1), type='ket', dtype=Dense\n",
       "Qobj data =\n",
       "[[0.]\n",
       " [0.]\n",
       " [1.]\n",
       " [0.]]"
      ]
     },
     "execution_count": 18,
     "metadata": {},
     "output_type": "execute_result"
    }
   ],
   "source": [
    "ket1 = basis(4,2)\n",
    "ket1"
   ]
  },
  {
   "cell_type": "code",
   "execution_count": 19,
   "metadata": {},
   "outputs": [
    {
     "data": {
      "text/latex": [
       "Quantum object: dims=[[4], [1]], shape=(4, 1), type='ket', dtype=Dense$$\\left(\\begin{array}{cc}0\\\\0\\\\1\\\\0\\end{array}\\right)$$"
      ],
      "text/plain": [
       "Quantum object: dims=[[4], [1]], shape=(4, 1), type='ket', dtype=Dense\n",
       "Qobj data =\n",
       "[[0.]\n",
       " [0.]\n",
       " [1.]\n",
       " [0.]]"
      ]
     },
     "execution_count": 19,
     "metadata": {},
     "output_type": "execute_result"
    }
   ],
   "source": [
    "Qobj([0,0,1,0])"
   ]
  },
  {
   "cell_type": "code",
   "execution_count": 41,
   "metadata": {},
   "outputs": [
    {
     "data": {
      "image/png": "[encoded data removed]",
      "text/plain": [
       "<Figure size 640x480 with 1 Axes>"
      ]
     },
     "metadata": {},
     "output_type": "display_data"
    }
   ],
   "source": [
    "omega_m = [1.2, 1.2]\n",
    "\n",
    "omega_c = 1.1\n",
    "\n",
    "detunings = [x-omega_c for x in omega_m]\n",
    "\n",
    "t = np.linspace(0, 750, 15)\n",
    "\n",
    "denom = ((0.5*kappa[0])**2 + detunings[0]**2)\n",
    "\n",
    "gamma_eff = [gamma[i] + (((g[i]**2))/denom)*kappa[0] for i in range(n_mol)]\n",
    "\n",
    "gamma_cross = (g[0]*g[1]*(kappa[0]))/denom \n",
    "\n",
    "p_plus = (np.exp(-t*((gamma_eff[0] + gamma_eff[1])/2)))\n",
    "\n",
    "p_minus = np.exp(-t*(-gamma_cross + (gamma_eff[0] + gamma_eff[1])/2))\n",
    "\n",
    "plt.plot(t, p_plus)\n",
    "plt.show()"
   ]
  },
  {
   "cell_type": "code",
   "execution_count": 9,
   "metadata": {},
   "outputs": [
    {
     "data": {
      "image/png": "[encoded data removed]",
      "text/plain": [
       "<Figure size 640x480 with 1 Axes>"
      ]
     },
     "metadata": {},
     "output_type": "display_data"
    }
   ],
   "source": [
    "n_mol = 2\n",
    "t = np.linspace(0, 750, 50)\n",
    "\n",
    "n_mol = 2 # Number of molecules\n",
    "n_cav = 1 # Number of cavities\n",
    "\n",
    "w = [1.2, 1.2]\n",
    "w_c = 1.1 # frequency of the cavity\n",
    "N = 2 # Number of cavity Fock states\n",
    "g = [0.01, 0.01]\n",
    "\n",
    "gamma = [0.8*(10**(-6)), 0.8*(10**(-6))]\n",
    "kappa = [0.2]\n",
    "lam = [0,0]\n",
    "\n",
    "r = 1\n",
    "\n",
    "initial_excited_molecule = [0]\n",
    "initial_cavity_photons = 0\n",
    "\n",
    "backend = service.backend('ibm_fez')\n",
    "optimization_level = 3\n",
    "options = {'resilience_level' : 2,\n",
    "           'default_shots' : 10**4,\n",
    "           'optimization_level' : 1}\n",
    "\n",
    "population = efficient_qiskit_solver(n = n_mol, omega_m = w, omega_c = w_c, gamma = gamma, lam = lam, g = g, kappa = kappa, t = t, r = r, initial_excited = initial_excited_molecule, backend = backend, optimization_level = optimization_level, options = options)\n",
    "markov_population = markov_solve(n_mol, w, w_c, gamma, kappa, g, t)\n",
    "exact_population = solve(n_mol, n_cav, N, w, w_c, gamma, kappa, g, t, initial_excited_molecule, initial_cavity_photons)\n",
    "\n",
    "plt.plot(t, exact_population['spsm 0'], color = 'grey', label = 'with cross')\n",
    "plt.plot(t, exact_population['spsm 2'], color = 'grey')\n",
    "\n",
    "for i in range(n_mol):\n",
    "\n",
    "    plt.plot(t, population[i], label = '$q_{%d}$' %int(i))\n",
    "\n",
    "plt.plot(t, markov_population[0], linestyle = 'dashed', color = 'grey', label = 'without cross')\n",
    "plt.plot(t, markov_population[1], linestyle = 'dashed', color = 'grey')\n",
    "plt.legend()\n",
    "\n",
    "plt.show()"
   ]
  },
  {
   "cell_type": "code",
   "execution_count": 2,
   "metadata": {},
   "outputs": [
    {
     "data": {
      "image/png": "[encoded data removed]",
      "text/plain": [
       "<Figure size 640x480 with 1 Axes>"
      ]
     },
     "metadata": {},
     "output_type": "display_data"
    }
   ],
   "source": [
    "from updated_qutip_solver import solve_markovian\n",
    "from original_qutip_solver import solve_original\n",
    "import numpy as np\n",
    "import matplotlib.pyplot as plt\n",
    "\n",
    "t = np.linspace(0, 750, 25)\n",
    "\n",
    "w = [1.2, 1.2]\n",
    "w_c = 1.1 # frequency of the cavity\n",
    "g = [0.01, 0.01]\n",
    "\n",
    "gamma = [0.8*(10**(-6)), 0.8*(10**(-6))]\n",
    "kappa = [0.1]\n",
    "lam = [0,0]\n",
    "\n",
    "r = 1\n",
    "\n",
    "initial_state = [0,1/np.sqrt(2),1/np.sqrt(2),0] # Coordinates in |q_0q_1> = |00>, |01>, |10>, |11>\n",
    "\n",
    "evs = solve_markovian(w, w_c, gamma, kappa, g, t, initial_state)\n",
    "original_evs = solve_original(w, w_c, gamma, kappa, g, t, initial_state)\n",
    "\n",
    "labels = ['00', '01', '10', '11', 'G', '-', '+', 'E']\n",
    "\n",
    "for i in range(4):\n",
    "\n",
    "    plt.plot(t, evs[labels[i]], label = labels[i])\n",
    "    plt.plot(t, original_evs[labels[i]], label = labels[i])\n",
    "\n",
    "#for key, item in original_evs.items():\n",
    "\n",
    "    #plt.plot(t, item, linestyle = 'dashed', label = key)\n",
    "plt.legend()\n",
    "plt.show()"
   ]
  },
  {
   "cell_type": "code",
   "execution_count": 7,
   "metadata": {},
   "outputs": [
    {
     "name": "stdout",
     "output_type": "stream",
     "text": [
      "\n",
      "QuTiP: Quantum Toolbox in Python\n",
      "================================\n",
      "Copyright (c) QuTiP team 2011 and later.\n",
      "Current admin team: Alexander Pitchford, Nathan Shammah, Shahnawaz Ahmed, Neill Lambert, Eric Giguère, Boxi Li, Jake Lishman, Simon Cross and Asier Galicia.\n",
      "Board members: Daniel Burgarth, Robert Johansson, Anton F. Kockum, Franco Nori and Will Zeng.\n",
      "Original developers: R. J. Johansson & P. D. Nation.\n",
      "Previous lead developers: Chris Granade & A. Grimsmo.\n",
      "Currently developed through wide collaboration. See https://github.com/qutip for details.\n",
      "\n",
      "QuTiP Version:      5.0.2\n",
      "Numpy Version:      1.26.4\n",
      "Scipy Version:      1.13.1\n",
      "Cython Version:     None\n",
      "Matplotlib Version: 3.9.0\n",
      "Python Version:     3.12.3\n",
      "Number of CPUs:     36\n",
      "BLAS Info:          Generic\n",
      "INTEL MKL Ext:      False\n",
      "Platform Info:      Windows (AMD64)\n",
      "Installation path:  c:\\Users\\Benjamin\\AppData\\Local\\Programs\\Python\\Python312\\Lib\\site-packages\\qutip\n",
      "================================================================================\n",
      "Please cite QuTiP in your publication.\n",
      "================================================================================\n",
      "For your convenience a bibtex reference can be easily generated using `qutip.cite()`\n"
     ]
    }
   ],
   "source": [
    "from qutip import *\n",
    "\n",
    "about()"
   ]
  },
  {
   "cell_type": "code",
   "execution_count": 11,
   "metadata": {},
   "outputs": [
    {
     "data": {
      "text/plain": [
       "[3, 4, 5]"
      ]
     },
     "execution_count": 11,
     "metadata": {},
     "output_type": "execute_result"
    }
   ],
   "source": [
    "a = [2,3,4]\n",
    "a = [x +1 for x in a]\n",
    "a"
   ]
  },
  {
   "cell_type": "code",
   "execution_count": 16,
   "metadata": {},
   "outputs": [
    {
     "data": {
      "text/plain": [
       "[3,\n",
       " 4,\n",
       " 5,\n",
       " <generator object <genexpr> at 0x000002D5D3C2D180>,\n",
       " <generator object <genexpr> at 0x000002D5D3C2CA00>,\n",
       " <generator object <genexpr> at 0x000002D5D3C2D600>,\n",
       " <generator object <genexpr> at 0x000002D5D3C2D480>,\n",
       " <generator object <genexpr> at 0x000002D5D3C2D840>]"
      ]
     },
     "execution_count": 16,
     "metadata": {},
     "output_type": "execute_result"
    }
   ],
   "source": []
  },
  {
   "cell_type": "code",
   "execution_count": 6,
   "metadata": {},
   "outputs": [
    {
     "data": {
      "image/png": "[encoded data removed]",
      "text/plain": [
       "<Figure size 640x480 with 1 Axes>"
      ]
     },
     "metadata": {},
     "output_type": "display_data"
    }
   ],
   "source": [
    "from merge_methods import solve_master_equation\n",
    "import numpy as np \n",
    "import matplotlib.pyplot as plt\n",
    "\n",
    "t = np.linspace(0, 750, 25)\n",
    "\n",
    "w = [1.2, 1.2]\n",
    "w_c = 1.1 # frequency of the cavity\n",
    "g = [0.01, 0.01]\n",
    "\n",
    "gamma = [0.8*(10**(-6)), 0.8*(10**(-6))]\n",
    "kappa = [0.1]\n",
    "lam = [0,0]\n",
    "\n",
    "r = 1\n",
    "\n",
    "initial_state = [0,1/np.sqrt(2),1/np.sqrt(2),0] # Coordinates in |q_0q_1> = |00>, |01>, |10>, |11>\n",
    "\n",
    "\n",
    "evs_original = solve_master_equation(w, w_c, gamma, kappa, g, t, initial_state, 'original')\n",
    "evs_markov = solve_master_equation(w, w_c, gamma, kappa, g, t, initial_state, 'markovian')\n",
    "\n",
    "labels = ['00', '01', '10', '11', 'G', '-', '+', 'E']\n",
    "\n",
    "for i in range(2):\n",
    "\n",
    "    plt.plot(t, evs_original[labels[i]], label = labels[i])\n",
    "    plt.plot(t, evs_markov[labels[i]], label = labels[i])\n",
    "\n",
    "#plt.plot(t, evs_markov['+'])\n",
    "\n",
    "#for key, item in original_evs.items():\n",
    "\n",
    "    #plt.plot(t, item, linestyle = 'dashed', label = key)\n",
    "plt.legend()\n",
    "plt.show()"
   ]
  },
  {
   "cell_type": "code",
   "execution_count": 7,
   "metadata": {},
   "outputs": [
    {
     "data": {
      "text/plain": [
       "matrix([[0.],\n",
       "        [0.],\n",
       "        [1.],\n",
       "        [0.]])"
      ]
     },
     "execution_count": 7,
     "metadata": {},
     "output_type": "execute_result"
    }
   ],
   "source": [
    "state = np.matrix([0,1/np.sqrt(2),1/np.sqrt(2),0])\n",
    "a = np.array([[1, 0, 0, 0], [0, -1/np.sqrt(2), 1/np.sqrt(2), 0], [0, 1/np.sqrt(2), 1/np.sqrt(2), 0], [0, 0, 0, 1]])\n",
    "\n",
    "a*state.transpose()"
   ]
  },
  {
   "cell_type": "code",
   "execution_count": 11,
   "metadata": {},
   "outputs": [
    {
     "data": {
      "text/plain": [
       "array([0.        , 0.        , 1.41421356, 0.        ])"
      ]
     },
     "execution_count": 11,
     "metadata": {},
     "output_type": "execute_result"
    }
   ],
   "source": [
    "import numpy as np\n",
    "\n",
    "state = [0,1,1,0]\n",
    "P = np.array([[1, 0, 0, 0], [0, -1/np.sqrt(2), 1/np.sqrt(2), 0], [0, 1/np.sqrt(2), 1/np.sqrt(2), 0], [0, 0, 0, 1]])\n",
    "\n",
    "initial_qubit_state = np.matmul(P,state)\n",
    "initial_qubit_state"
   ]
  },
  {
   "cell_type": "code",
   "execution_count": 4,
   "metadata": {},
   "outputs": [],
   "source": [
    "from merge_methods import solve_master_equation\n",
    "\n",
    "evs = solve_master_equation(omega, omega_c, )"
   ]
  },
  {
   "cell_type": "code",
   "execution_count": 12,
   "metadata": {},
   "outputs": [
    {
     "data": {
      "text/plain": [
       "array([[1, 0],\n",
       "       [0, 0]])"
      ]
     },
     "execution_count": 12,
     "metadata": {},
     "output_type": "execute_result"
    }
   ],
   "source": [
    "ket_0 = np.array([[1],[0]])\n",
    "np.kron(ket_0, ket_0.transpose())"
   ]
  },
  {
   "cell_type": "code",
   "execution_count": 3,
   "metadata": {},
   "outputs": [
    {
     "data": {
      "image/png": "[encoded data removed]",
      "text/plain": [
       "<Figure size 640x480 with 1 Axes>"
      ]
     },
     "metadata": {},
     "output_type": "display_data"
    }
   ],
   "source": [
    "from merge_methods_TEST import solve_master_equation\n",
    "from efficient_qiskit_solver_markovian import markovian_qiskit_solver\n",
    "import numpy as np \n",
    "import matplotlib.pyplot as plt\n",
    "from qiskit_aer import AerSimulator\n",
    "plt.rcParams['text.usetex'] = True\n",
    "plt.rcParams['figure.dpi'] = 100\n",
    "plt.rcParams['savefig.dpi'] = 600\n",
    "\n",
    "t = np.linspace(0, 750, 25)\n",
    "\n",
    "w = [1.2, 1.2]\n",
    "w_c = 1.1 # frequency of the cavity\n",
    "g = [0.01, 0.01]\n",
    "\n",
    "gamma = [0.8*(10**(-6)), 0.8*(10**(-6))]\n",
    "kappa = [0.2]\n",
    "\n",
    "r = 1\n",
    "\n",
    "initial_state = [0, 1/np.sqrt(2), 1/np.sqrt(2), 0] # Coordinates in |q_0q_1> = |00>, |01>, |10>, |11>\n",
    "\n",
    "#initial_state = [0,0,0,1]\n",
    "\n",
    "backend = AerSimulator()\n",
    "optimization_level = 0\n",
    "options = {'resilience_level' : 1,\n",
    "           'default_shots' : 1024,\n",
    "           'optimization_level' : 1}\n",
    "\n",
    "#evs_original = solve_master_equation(w, w_c, gamma, kappa, g, t, initial_state, 'original')\n",
    "#evs_markov = solve_master_equation(w, w_c, gamma, kappa, g, t, initial_state, 'markovian')\n",
    "evs_diagonal = solve_master_equation(w, w_c, gamma, kappa, g, t, initial_state, 'diagonal')\n",
    "\n",
    "evs_qc = markovian_qiskit_solver(2, w, w_c, gamma, g, kappa, t, r, initial_state, backend, optimization_level, options)\n",
    "\n",
    "#labels =  ['E', '-', 'G']\n",
    "\n",
    "labels = ['01', '10']\n",
    "\n",
    "import random\n",
    "\n",
    "def random_color():\n",
    "    return (random.random(), random.random(), random.random())\n",
    "\n",
    "for l in labels:\n",
    "\n",
    "    color = random_color()\n",
    "    #plt.plot(t, evs_original[l], label = l)\n",
    "    #plt.plot(t, evs_markov[l], label = l)\n",
    "    plt.plot(t, evs_diagonal[l], label = 'Markov %s' %l, color = color)\n",
    "    plt.plot(t, evs_qc[l], linestyle = 'dashed', label = 'qc %s' %l, color = color)\n",
    "\n",
    "    \n",
    "plt.ylabel('population')\n",
    "plt.xlabel('t')\n",
    "plt.legend()\n",
    "plt.show()"
   ]
  },
  {
   "cell_type": "code",
   "execution_count": 5,
   "metadata": {},
   "outputs": [],
   "source": [
    "from qutip import Qobj\n",
    "gr = Qobj([[1],[0],[0],[0]])\n",
    "lambda_minus = Qobj([[0],[1],[0],[0]])\n",
    "lambda_plus = Qobj([[0],[0],[1],[0]])\n",
    "e = Qobj([[0],[0],[0],[1]])\n",
    "# Operators definition\n",
    "\n",
    "sigma_gplus = Qobj(gr*lambda_plus.dag())\n",
    "sigma_gminus = Qobj(gr*lambda_minus.dag())\n",
    "sigma_pluse = Qobj(lambda_plus*e.dag())\n",
    "sigma_minuse = Qobj(lambda_minus*e.dag())"
   ]
  },
  {
   "cell_type": "code",
   "execution_count": 9,
   "metadata": {},
   "outputs": [
    {
     "data": {
      "text/latex": [
       "Quantum object: dims=[[4], [1]], shape=(4, 1), type='ket', dtype=Dense$$\\left(\\begin{array}{cc}1\\\\0\\\\0\\\\0\\end{array}\\right)$$"
      ],
      "text/plain": [
       "Quantum object: dims=[[4], [1]], shape=(4, 1), type='ket', dtype=Dense\n",
       "Qobj data =\n",
       "[[1.]\n",
       " [0.]\n",
       " [0.]\n",
       " [0.]]"
      ]
     },
     "execution_count": 9,
     "metadata": {},
     "output_type": "execute_result"
    }
   ],
   "source": [
    "gr"
   ]
  },
  {
   "cell_type": "code",
   "execution_count": 18,
   "metadata": {},
   "outputs": [
    {
     "data": {
      "text/latex": [
       "Quantum object: dims=[[2], [2]], shape=(2, 2), type='oper', dtype=CSR, isherm=False$$\\left(\\begin{array}{cc}0 & 2\\\\0 & 0\\end{array}\\right)$$"
      ],
      "text/plain": [
       "Quantum object: dims=[[2], [2]], shape=(2, 2), type='oper', dtype=CSR, isherm=False\n",
       "Qobj data =\n",
       "[[0. 2.]\n",
       " [0. 0.]]"
      ]
     },
     "execution_count": 18,
     "metadata": {},
     "output_type": "execute_result"
    }
   ],
   "source": [
    "i = 1j\n",
    "from qutip import sigmax, sigmay\n",
    "\n",
    "sigmax() + i*sigmay()\n"
   ]
  },
  {
   "cell_type": "code",
   "execution_count": 12,
   "metadata": {},
   "outputs": [
    {
     "data": {
      "text/latex": [
       "Quantum object: dims=[[2, 2], [1, 1]], shape=(4, 1), type='ket', dtype=Dense$$\\left(\\begin{array}{cc}1\\\\0\\\\0\\\\0\\end{array}\\right)$$"
      ],
      "text/plain": [
       "Quantum object: dims=[[2, 2], [1, 1]], shape=(4, 1), type='ket', dtype=Dense\n",
       "Qobj data =\n",
       "[[1.]\n",
       " [0.]\n",
       " [0.]\n",
       " [0.]]"
      ]
     },
     "execution_count": 12,
     "metadata": {},
     "output_type": "execute_result"
    }
   ],
   "source": [
    "from qutip import tensor\n",
    "ket_0 = Qobj([[1],[0]])\n",
    "\n",
    "ket_00 = tensor(ket_0,ket_0)\n",
    "ket_00"
   ]
  },
  {
   "cell_type": "code",
   "execution_count": 4,
   "metadata": {},
   "outputs": [
    {
     "data": {
      "text/latex": [
       "Quantum object: dims=[[4], [4]], shape=(4, 4), type='oper', dtype=Dense, isherm=False$$\\left(\\begin{array}{cc}0 & 0 & 1 & 0\\\\0 & 0 & 0 & 0\\\\0 & 0 & 0 & 0\\\\0 & 0 & 0 & 0\\end{array}\\right)$$"
      ],
      "text/plain": [
       "Quantum object: dims=[[4], [4]], shape=(4, 4), type='oper', dtype=Dense, isherm=False\n",
       "Qobj data =\n",
       "[[0. 0. 1. 0.]\n",
       " [0. 0. 0. 0.]\n",
       " [0. 0. 0. 0.]\n",
       " [0. 0. 0. 0.]]"
      ]
     },
     "execution_count": 4,
     "metadata": {},
     "output_type": "execute_result"
    }
   ],
   "source": [
    "sigma_gplus"
   ]
  },
  {
   "cell_type": "code",
   "execution_count": 2,
   "metadata": {},
   "outputs": [
    {
     "data": {
      "text/latex": [
       "Quantum object: dims=[[4], [1]], shape=(4, 1), type='ket', dtype=Dense$$\\left(\\begin{array}{cc}0\\\\0\\\\1.000\\\\0\\end{array}\\right)$$"
      ],
      "text/plain": [
       "Quantum object: dims=[[4], [1]], shape=(4, 1), type='ket', dtype=Dense\n",
       "Qobj data =\n",
       "[[0.]\n",
       " [0.]\n",
       " [1.]\n",
       " [0.]]"
      ]
     },
     "execution_count": 2,
     "metadata": {},
     "output_type": "execute_result"
    }
   ],
   "source": [
    "from qutip import Qobj\n",
    "P = Qobj(np.array([[1, 0, 0, 0], [0, -1/np.sqrt(2), 1/np.sqrt(2), 0], [0, 1/np.sqrt(2), 1/np.sqrt(2), 0], [0, 0, 0, 1]]))\n",
    "initial_state = Qobj([0,1/np.sqrt(2),1/np.sqrt(2),0])\n",
    "rho0 = P*initial_state\n",
    "rho0"
   ]
  },
  {
   "cell_type": "code",
   "execution_count": 3,
   "metadata": {},
   "outputs": [
    {
     "data": {
      "text/latex": [
       "Quantum object: dims=[[4], [4]], shape=(4, 4), type='oper', dtype=Dense, isherm=True$$\\left(\\begin{array}{cc}1 & 0 & 0 & 0\\\\0 & -0.707 & 0.707 & 0\\\\0 & 0.707 & 0.707 & 0\\\\0 & 0 & 0 & 1\\end{array}\\right)$$"
      ],
      "text/plain": [
       "Quantum object: dims=[[4], [4]], shape=(4, 4), type='oper', dtype=Dense, isherm=True\n",
       "Qobj data =\n",
       "[[ 1.          0.          0.          0.        ]\n",
       " [ 0.         -0.70710678  0.70710678  0.        ]\n",
       " [ 0.          0.70710678  0.70710678  0.        ]\n",
       " [ 0.          0.          0.          1.        ]]"
      ]
     },
     "execution_count": 3,
     "metadata": {},
     "output_type": "execute_result"
    }
   ],
   "source": [
    "P"
   ]
  },
  {
   "cell_type": "code",
   "execution_count": 7,
   "metadata": {},
   "outputs": [
    {
     "data": {
      "text/latex": [
       "Quantum object: dims=[[4], [4]], shape=(4, 4), type='oper', dtype=Dense, isherm=True$$\\left(\\begin{array}{cc}0 & 0 & 0 & 0\\\\0 & 0.500 & 0.500 & 0\\\\0 & 0.500 & 0.500 & 0\\\\0 & 0 & 0 & 0\\end{array}\\right)$$"
      ],
      "text/plain": [
       "Quantum object: dims=[[4], [4]], shape=(4, 4), type='oper', dtype=Dense, isherm=True\n",
       "Qobj data =\n",
       "[[0.  0.  0.  0. ]\n",
       " [0.  0.5 0.5 0. ]\n",
       " [0.  0.5 0.5 0. ]\n",
       " [0.  0.  0.  0. ]]"
      ]
     },
     "execution_count": 7,
     "metadata": {},
     "output_type": "execute_result"
    }
   ],
   "source": [
    "initial_state*initial_state.dag()"
   ]
  },
  {
   "cell_type": "code",
   "execution_count": 3,
   "metadata": {},
   "outputs": [],
   "source": [
    "from merge_methods import solve_master_equation\n",
    "from efficient_qiskit_solver_markovian import markovian_qiskit_solver\n",
    "import numpy as np \n",
    "import matplotlib.pyplot as plt\n",
    "from qiskit_aer import AerSimulator\n",
    "from qiskit_ibm_runtime import QiskitRuntimeService\n",
    "\n",
    "plt.rcParams['text.usetex'] = True\n",
    "plt.rcParams['figure.dpi'] = 100\n",
    "plt.rcParams['savefig.dpi'] = 600\n",
    "\n",
    "t = np.linspace(0, 750, 25)\n",
    "\n",
    "w = [1.2, 1.2]\n",
    "w_c = 1.1 # frequency of the cavity\n",
    "g = [0.01, 0.01]\n",
    "\n",
    "gamma = [0.8*(10**(-6)), 0.8*(10**(-6))]\n",
    "kappa = [0.1]\n",
    "\n",
    "r = 1\n",
    "\n",
    "initial_state = [0,1/np.sqrt(2),1/np.sqrt(2),0] # Coordinates in |q_0q_1> = |00>, |01>, |10>, |11>\n",
    "\n",
    "service = QiskitRuntimeService(\n",
    "    channel='ibm_quantum',\n",
    "    instance='ibm-q-ikerbasque/upv-ehu/dynamics-of-mole',\n",
    "    token='ac55769048d74690dcec2e0219671ebcfb53eb44d32ee50608858b25572950cf0c789f133deb5ff884e342bffa02bed17167a747733f4e6ea69fd531bf4f39d7'\n",
    ")\n",
    "backend = service.backend('ibm_fez')\n",
    "\n",
    "optimization_level = 3\n",
    "options = {'resilience_level' : 1,\n",
    "           'default_shots' : 1024,\n",
    "           'optimization_level' : 1}\n",
    "\n",
    "evs_original = solve_master_equation(w, w_c, gamma, kappa, g, t, initial_state, 'original')\n",
    "evs_markov = solve_master_equation(w, w_c, gamma, kappa, g, t, initial_state, 'markovian')\n",
    "evs_qc = markovian_qiskit_solver(2, w, w_c, gamma, g, kappa, t, r, initial_state, backend, optimization_level, options)\n",
    "\n",
    "labels =  ['+']\n",
    "\n",
    "for l in labels:\n",
    "\n",
    "    plt.plot(t, evs_original[l], label = l)\n",
    "    plt.plot(t, evs_markov[l], label = l)\n",
    "    plt.plot(t, evs_qc[l], label = l)\n",
    "\n",
    "plt.legend()\n",
    "plt.show()"
   ]
  },
  {
   "cell_type": "code",
   "execution_count": 4,
   "metadata": {},
   "outputs": [
    {
     "data": {
      "text/plain": [
       "{'00': array([0.        , 0.04589844, 0.08837891, 0.1484375 , 0.18139648,\n",
       "        0.20654297, 0.27026367, 0.28344727, 0.30102539, 0.35400391,\n",
       "        0.37670898, 0.37524414, 0.41015625, 0.44189453, 0.4440918 ,\n",
       "        0.45263672, 0.46508789, 0.47460938, 0.48364258, 0.47827148,\n",
       "        0.48999023, 0.49145508, 0.48999023, 0.48950195, 0.47583008]),\n",
       " '01': array([0.5       , 0.47680664, 0.45483398, 0.42248535, 0.40490723,\n",
       "        0.38781738, 0.35253906, 0.34130859, 0.33117676, 0.296875  ,\n",
       "        0.28027344, 0.27233887, 0.2545166 , 0.2286377 , 0.22229004,\n",
       "        0.20727539, 0.19018555, 0.17712402, 0.16748047, 0.15356445,\n",
       "        0.140625  , 0.12548828, 0.12023926, 0.11120605, 0.09997559]),\n",
       " '10': array([0.        , 0.00024414, 0.00097656, 0.0032959 , 0.00439453,\n",
       "        0.00891113, 0.0123291 , 0.01696777, 0.01831055, 0.02612305,\n",
       "        0.03137207, 0.04003906, 0.04040527, 0.05041504, 0.05566406,\n",
       "        0.06640625, 0.07727051, 0.08557129, 0.09069824, 0.1072998 ,\n",
       "        0.11437988, 0.12878418, 0.13476562, 0.14404297, 0.16210937]),\n",
       " '11': array([0., 0., 0., 0., 0., 0., 0., 0., 0., 0., 0., 0., 0., 0., 0., 0., 0.,\n",
       "        0., 0., 0., 0., 0., 0., 0., 0.]),\n",
       " 'G': array([0.        , 0.04589844, 0.08837891, 0.1484375 , 0.18139648,\n",
       "        0.20654297, 0.27026367, 0.28344727, 0.30102539, 0.35400391,\n",
       "        0.37670898, 0.37524414, 0.41015625, 0.44189453, 0.4440918 ,\n",
       "        0.45263672, 0.46508789, 0.47460938, 0.48364258, 0.47827148,\n",
       "        0.48999023, 0.49145508, 0.48999023, 0.48950195, 0.47583008]),\n",
       " '-': array([0.25018311, 0.23675537, 0.22717285, 0.21661377, 0.20550537,\n",
       "        0.20440674, 0.18109131, 0.17669678, 0.17694092, 0.1583252 ,\n",
       "        0.15155029, 0.16149902, 0.14855957, 0.14154053, 0.14367676,\n",
       "        0.13354492, 0.13726807, 0.13592529, 0.128479  , 0.13220215,\n",
       "        0.12615967, 0.12609863, 0.13250732, 0.12384033, 0.13146973]),\n",
       " '+': array([0.24981689, 0.24029541, 0.2286377 , 0.20916748, 0.20379639,\n",
       "        0.19232178, 0.18377686, 0.18157959, 0.17254639, 0.16467285,\n",
       "        0.16009521, 0.15087891, 0.1463623 , 0.13751221, 0.13427734,\n",
       "        0.14013672, 0.13018799, 0.12677002, 0.12969971, 0.12866211,\n",
       "        0.12884521, 0.12817383, 0.12249756, 0.13140869, 0.13061523]),\n",
       " 'E': array([0., 0., 0., 0., 0., 0., 0., 0., 0., 0., 0., 0., 0., 0., 0., 0., 0.,\n",
       "        0., 0., 0., 0., 0., 0., 0., 0.])}"
      ]
     },
     "execution_count": 4,
     "metadata": {},
     "output_type": "execute_result"
    }
   ],
   "source": [
    "evs_qc"
   ]
  },
  {
   "cell_type": "code",
   "execution_count": 5,
   "metadata": {},
   "outputs": [
    {
     "data": {
      "text/plain": [
       "SparsePauliOp(['IIII', 'IIIZ', 'IIZI', 'IIZZ'],\n",
       "              coeffs=[0.25+0.j, 0.25+0.j, 0.25+0.j, 0.25+0.j])"
      ]
     },
     "execution_count": 5,
     "metadata": {},
     "output_type": "execute_result"
    }
   ],
   "source": [
    "from qiskit.quantum_info import SparsePauliOp\n",
    "ket_0 = np.array([[1],[0]])\n",
    "ket_00 = np.kron(ket_0,ket_0)\n",
    "matrix_rep = ket_00*ket_00.transpose()\n",
    "SparsePauliOp('II').tensor(SparsePauliOp.from_operator(matrix_rep))\n",
    "obser"
   ]
  },
  {
   "cell_type": "code",
   "execution_count": 14,
   "metadata": {},
   "outputs": [
    {
     "name": "stdout",
     "output_type": "stream",
     "text": [
      "Statevector([0.+0.j, 1.+0.j, 0.+0.j, 0.+0.j],\n",
      "            dims=(2, 2))\n"
     ]
    }
   ],
   "source": [
    "P = np.array([[1, 0, 0, 0], [0, 1/np.sqrt(2), 1/np.sqrt(2), 0], [0, -1/np.sqrt(2), 1/np.sqrt(2), 0], [0, 0, 0, 1]])\n",
    "\n",
    "initial_qubit_state = np.matmul(P, initial_state)\n",
    "\n",
    "from qiskit.quantum_info import Statevector\n",
    "\n",
    "Statevector(initial_qubit_state)\n"
   ]
  },
  {
   "cell_type": "code",
   "execution_count": 8,
   "metadata": {},
   "outputs": [
    {
     "data": {
      "text/plain": [
       "array([[ 0.,  0.,  0.,  0.],\n",
       "       [ 0.,  0., -0.,  0.],\n",
       "       [ 0., -0.,  1.,  0.],\n",
       "       [ 0.,  0.,  0.,  0.]])"
      ]
     },
     "execution_count": 8,
     "metadata": {},
     "output_type": "execute_result"
    }
   ],
   "source": [
    "ket_0 = np.array([[1],[0]])\n",
    "ket_1 = np.array([[0],[1]])\n",
    "\n",
    "ket_01 = np.kron(ket_0, ket_1) \n",
    "ket_10 = np.kron(ket_1, ket_0) \n",
    "\n",
    "ket_lambda_plus = 1/(np.sqrt(2))*( ket_01 + ket_10 )\n",
    "P = np.array([[1, 0, 0, 0], [0, -1/np.sqrt(2), 1/np.sqrt(2), 0], [0, 1/np.sqrt(2), 1/np.sqrt(2), 0], [0, 0, 0, 1]])\n",
    "matrix_rep = np.matmul(np.matmul(P.transpose(), ket_lambda_plus*ket_lambda_plus.transpose()), P).round(2)\n",
    "matrix_rep\n",
    "\n",
    "#np.matmul(P.transpose(), ket_lambda_plus)"
   ]
  },
  {
   "cell_type": "code",
   "execution_count": 5,
   "metadata": {},
   "outputs": [
    {
     "data": {
      "text/plain": [
       "array([[0, 0, 0, 0],\n",
       "       [0, 0, 0, 0],\n",
       "       [0, 0, 1, 0],\n",
       "       [0, 0, 0, 0]])"
      ]
     },
     "execution_count": 5,
     "metadata": {},
     "output_type": "execute_result"
    }
   ],
   "source": [
    "np.array([[0,0,0,0],[0,0,0,0],[0,0,1,0],[0,0,0,0]])"
   ]
  },
  {
   "cell_type": "code",
   "execution_count": 2,
   "metadata": {},
   "outputs": [
    {
     "name": "stderr",
     "output_type": "stream",
     "text": [
      "c:\\Users\\Benjamin\\AppData\\Local\\Programs\\Python\\Python312\\Lib\\site-packages\\qiskit_ibm_runtime\\qiskit_runtime_service.py:853: UserWarning: The backend ibm_fez currently has a status of internal.\n",
      "  warnings.warn(\n"
     ]
    }
   ],
   "source": [
    "from merge_methods_TEST import solve_master_equation\n",
    "from efficient_qiskit_solver_markovian import markovian_qiskit_solver\n",
    "import numpy as np \n",
    "import matplotlib.pyplot as plt\n",
    "plt.rcParams['text.usetex'] = True\n",
    "plt.rcParams['figure.dpi'] = 100\n",
    "plt.rcParams['savefig.dpi'] = 600\n",
    "\n",
    "from qiskit_aer import AerSimulator\n",
    "from qiskit_ibm_runtime import QiskitRuntimeService\n",
    "\n",
    "omega_m = [1.2, 1.2]\n",
    "omega_c = 1.1\n",
    "gamma = [0.8*(10**-6), 0.8*(10**-6)]\n",
    "kappa = [0.2]\n",
    "g = [0.01, 0.01]\n",
    "t = np.linspace(0, 750, 25)\n",
    "initial_state = [0, 0, 0, 1] # Coordinates in computational basis\n",
    "types = ['original', 'markovian', 'diagonal']\n",
    "\n",
    "evs_diagonal = solve_master_equation(omega_m, omega_c, gamma, kappa, g, t, initial_state, 'diagonal')\n",
    "\n",
    "r = 1\n",
    "\n",
    "service = QiskitRuntimeService(\n",
    "    channel='ibm_quantum',\n",
    "    instance='ibm-q-ikerbasque/upv-ehu/dynamics-of-mole',\n",
    "    token='ac55769048d74690dcec2e0219671ebcfb53eb44d32ee50608858b25572950cf0c789f133deb5ff884e342bffa02bed17167a747733f4e6ea69fd531bf4f39d7'\n",
    ")\n",
    "\n",
    "backend = service.backend('ibm_fez')\n",
    "optimization_level = 3\n",
    "options = {'resilience_level' : 2,\n",
    "           'default_shots' : 10**4,\n",
    "           'optimization_level' : 1}\n",
    "\n",
    "evs_qc = markovian_qiskit_solver(2, omega_m, omega_c, gamma, g, kappa, t, r, initial_state, backend, optimization_level, options)\n",
    "\n",
    "labels = ['E', '-', 'G']\n",
    "\n",
    "for l in labels:\n",
    "\n",
    "    plt.plot(t, evs_diagonal[l], label = 'diagonal %s' %l)\n",
    "    plt.plot(t, evs_qc[l], linestyle = 'dashed', label = 'qc %s' %l)\n",
    "\n",
    "#plt.plot(t, evs_markovian['E'] + evs_markovian['+'] + evs_diagonal['G'])\n",
    "\n",
    "plt.ylabel('population')\n",
    "plt.xlabel('time')\n",
    "plt.legend()\n",
    "plt.show()"
   ]
  },
  {
   "cell_type": "code",
   "execution_count": 3,
   "metadata": {},
   "outputs": [],
   "source": [
    "from merge_methods_WORKS import solve_master_equation\n",
    "from efficient_qiskit_solver_markovian_WORKS import markovian_qiskit_solver\n",
    "import numpy as np \n",
    "import matplotlib.pyplot as plt\n",
    "plt.rcParams['text.usetex'] = True\n",
    "plt.rcParams['figure.dpi'] = 100\n",
    "plt.rcParams['savefig.dpi'] = 600\n",
    "\n",
    "from qiskit_ibm_runtime import QiskitRuntimeService\n",
    "from qiskit_aer import AerSimulator\n",
    "\n",
    "omega_m = [1.2, 1.2]\n",
    "omega_c = 1.1\n",
    "gamma = [0.8*(10**-6), 0.8*(10**-6)]\n",
    "kappa = [0.2]\n",
    "g = [0.01, 0.01]\n",
    "t = np.linspace(0, 750, 25)\n",
    "initial_state = [0, 0, 0, 1] # Coordinates in computational basis\n",
    "types = ['original', 'markovian', 'diagonal']\n",
    "\n",
    "evs_diagonal = solve_master_equation(omega_m, omega_c, gamma, kappa, g, t, initial_state, 'diagonal')\n",
    "\n",
    "r = 6\n",
    "service = QiskitRuntimeService(\n",
    "    channel='ibm_quantum',\n",
    "    instance='ibm-q-ikerbasque/upv-ehu/dynamics-of-mole',\n",
    "    token='ac55769048d74690dcec2e0219671ebcfb53eb44d32ee50608858b25572950cf0c789f133deb5ff884e342bffa02bed17167a747733f4e6ea69fd531bf4f39d7'\n",
    ")\n",
    "\n",
    "backend = service.backend('ibm_fez')\n",
    "optimization_level = 3\n",
    "options = {'resilience_level' : 2,\n",
    "           'default_shots' : 1024,\n",
    "           'optimization_level' : 1}\n",
    "\n",
    "#evs_qc_diagonal = markovian_qiskit_solver(2, omega_m, omega_c, gamma, g, kappa, t, r, initial_state, backend, optimization_level, options, 'diagonal')\n",
    "evs_qc_regular = markovian_qiskit_solver(2, omega_m, omega_c, gamma, g, kappa, t, r, initial_state, backend, optimization_level, options, 'regular')\n",
    "\n",
    "labels = ['E', '+', 'G']\n",
    "\n",
    "for l in labels:\n",
    "\n",
    "    plt.plot(t, evs_diagonal[l], label = 'qutip %s' %l)\n",
    "    #plt.plot(t, evs_qc_diagonal[l], linestyle = 'dashed', label = 'qc-diag %s' %l)\n",
    "    plt.plot(t, evs_qc_regular[l], linestyle = 'dashed', label = 'qc-reg %s' %l)\n",
    "\n",
    "#plt.plot(t, evs_markovian['E'] + evs_markovian['+'] + evs_diagonal['G'])\n",
    "\n",
    "plt.ylabel('population')\n",
    "plt.xlabel('time')\n",
    "plt.legend()\n",
    "plt.show()"
   ]
  }
 ],
 "metadata": {
  "kernelspec": {
   "display_name": "Python 3",
   "language": "python",
   "name": "python3"
  },
  "language_info": {
   "codemirror_mode": {
    "name": "ipython",
    "version": 3
   },
   "file_extension": ".py",
   "mimetype": "text/x-python",
   "name": "python",
   "nbconvert_exporter": "python",
   "pygments_lexer": "ipython3",
   "version": "3.12.3"
  }
 },
 "nbformat": 4,
 "nbformat_minor": 2
}
