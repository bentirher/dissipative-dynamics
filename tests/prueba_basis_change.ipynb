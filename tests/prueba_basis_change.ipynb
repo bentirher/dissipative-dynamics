{
 "cells": [
  {
   "cell_type": "markdown",
   "metadata": {},
   "source": [
    "Diagonalization of the 3 qubit Hamiltonian and comparison with the approximate diagonalization through $P$"
   ]
  },
  {
   "cell_type": "code",
   "execution_count": 17,
   "metadata": {},
   "outputs": [
    {
     "data": {
      "text/latex": [
       "$\\displaystyle \\left[\\begin{matrix}0 & 0 & 0 & 0 & 0 & 0 & 0 & 0\\\\0 & w & g & 0 & 0 & 0 & 0 & 0\\\\0 & g & w & g & 0 & 0 & 0 & 0\\\\0 & 0 & g & w & 0 & 0 & 0 & 0\\\\0 & 0 & 0 & 0 & 2 w & g & 0 & 0\\\\0 & 0 & 0 & 0 & g & 2 w & g & 0\\\\0 & 0 & 0 & 0 & 0 & g & 2 w & 0\\\\0 & 0 & 0 & 0 & 0 & 0 & 0 & 3 w\\end{matrix}\\right]$"
      ],
      "text/plain": [
       "Matrix([\n",
       "[0, 0, 0, 0,   0,   0,   0,   0],\n",
       "[0, w, g, 0,   0,   0,   0,   0],\n",
       "[0, g, w, g,   0,   0,   0,   0],\n",
       "[0, 0, g, w,   0,   0,   0,   0],\n",
       "[0, 0, 0, 0, 2*w,   g,   0,   0],\n",
       "[0, 0, 0, 0,   g, 2*w,   g,   0],\n",
       "[0, 0, 0, 0,   0,   g, 2*w,   0],\n",
       "[0, 0, 0, 0,   0,   0,   0, 3*w]])"
      ]
     },
     "execution_count": 17,
     "metadata": {},
     "output_type": "execute_result"
    }
   ],
   "source": [
    "import sympy as sp\n",
    "from sympy import Matrix\n",
    "from sympy.physics.quantum import TensorProduct\n",
    "from sympy import Symbol, sqrt\n",
    "import numpy as np\n",
    "\n",
    "omega = Symbol('w')\n",
    "g_01 = Symbol('$g_{01}$')\n",
    "g_12 = Symbol('$g_{12}$')\n",
    "\n",
    "g_01 = Symbol('g')\n",
    "\n",
    "g_12 = g_01\n",
    "\n",
    "#H = Matrix([[3*omega, 0, 0, 0, 0, 0, 0, 0],[0, 2*omega, g_12, 0, 0, 0, 0, 0], [0, g_12, 2*omega, g_01, 0, 0, 0, 0],[0, 0, g_01, 2*omega, 0, 0, 0, 0], [0, 0, 0, 0, omega, g_12, 0, 0], [0, 0, 0, 0, g_01, omega, g_12, 0],  [0, 0, 0, 0, 0, g_01, omega, 0],  [0, 0, 0, 0, 0, 0, 0, 0]])\n",
    "H = Matrix([[0, 0, 0, 0, 0, 0, 0, 0],[0, omega, g_12, 0, 0, 0, 0, 0], [0, g_12, omega, g_01, 0, 0, 0, 0],[0, 0, g_01, omega, 0, 0, 0, 0], [0, 0, 0, 0, 2*omega, g_12, 0, 0], [0, 0, 0, 0, g_01, 2*omega, g_12, 0],  [0, 0, 0, 0, 0, g_01, 2*omega, 0],  [0, 0, 0, 0, 0, 0, 0, 3*omega]])\n",
    "H"
   ]
  },
  {
   "cell_type": "code",
   "execution_count": 18,
   "metadata": {},
   "outputs": [
    {
     "data": {
      "text/latex": [
       "$\\displaystyle \\left[\\begin{matrix}0 & 0 & 0 & 0 & 0 & 0 & 0 & 0\\\\0 & - g + w & 0 & - \\frac{g}{2} & 0 & \\frac{g}{2} & 0 & 0\\\\0 & 0 & \\frac{g}{2} + \\frac{3 w}{2} & 0 & - \\frac{g}{2} + \\frac{w}{2} & - \\frac{\\sqrt{2} g}{2} & \\frac{g}{2} & 0\\\\0 & - \\frac{g}{2} & 0 & - \\frac{g}{2} + \\frac{3 w}{2} & - \\frac{\\sqrt{2} g}{2} & - \\frac{g}{2} + \\frac{w}{2} & 0 & 0\\\\0 & 0 & - \\frac{g}{2} + \\frac{w}{2} & - \\frac{\\sqrt{2} g}{2} & \\frac{g}{2} + \\frac{3 w}{2} & 0 & \\frac{g}{2} & 0\\\\0 & \\frac{g}{2} & - \\frac{\\sqrt{2} g}{2} & - \\frac{g}{2} + \\frac{w}{2} & 0 & - \\frac{g}{2} + \\frac{3 w}{2} & 0 & 0\\\\0 & 0 & \\frac{g}{2} & 0 & \\frac{g}{2} & 0 & g + 2 w & 0\\\\0 & 0 & 0 & 0 & 0 & 0 & 0 & 3 w\\end{matrix}\\right]$"
      ],
      "text/plain": [
       "Matrix([\n",
       "[0,      0,            0,            0,            0,            0,       0,   0],\n",
       "[0, -g + w,            0,         -g/2,            0,          g/2,       0,   0],\n",
       "[0,      0,  g/2 + 3*w/2,            0,   -g/2 + w/2, -sqrt(2)*g/2,     g/2,   0],\n",
       "[0,   -g/2,            0, -g/2 + 3*w/2, -sqrt(2)*g/2,   -g/2 + w/2,       0,   0],\n",
       "[0,      0,   -g/2 + w/2, -sqrt(2)*g/2,  g/2 + 3*w/2,            0,     g/2,   0],\n",
       "[0,    g/2, -sqrt(2)*g/2,   -g/2 + w/2,            0, -g/2 + 3*w/2,       0,   0],\n",
       "[0,      0,          g/2,            0,          g/2,            0, g + 2*w,   0],\n",
       "[0,      0,            0,            0,            0,            0,       0, 3*w]])"
      ]
     },
     "execution_count": 18,
     "metadata": {},
     "output_type": "execute_result"
    }
   ],
   "source": [
    "from sympy.physics.quantum.tensorproduct import TensorProduct\n",
    "from sympy.matrices import eye\n",
    "\n",
    "P = Matrix([[1, 0, 0, 0],[0, -1/sqrt(2), 1/sqrt(2), 0],[0, 1/sqrt(2), 1/sqrt(2), 0],[0, 0, 0, 1]])\n",
    "P_prime = TensorProduct(P, eye(2))*TensorProduct(eye(2), P)\n",
    "H_prime = sp.simplify(P_prime*H*P_prime.transpose())\n",
    "H_prime"
   ]
  },
  {
   "cell_type": "code",
   "execution_count": 19,
   "metadata": {},
   "outputs": [
    {
     "name": "stdout",
     "output_type": "stream",
     "text": [
      "\\left[\\begin{matrix}0 & 0 & 0 & 0 & 0 & 0 & 0 & 0\\\\0 & - g + w & 0 & - \\frac{g}{2} & 0 & \\frac{g}{2} & 0 & 0\\\\0 & 0 & \\frac{g}{2} + \\frac{3 w}{2} & 0 & - \\frac{g}{2} + \\frac{w}{2} & - \\frac{\\sqrt{2} g}{2} & \\frac{g}{2} & 0\\\\0 & - \\frac{g}{2} & 0 & - \\frac{g}{2} + \\frac{3 w}{2} & - \\frac{\\sqrt{2} g}{2} & - \\frac{g}{2} + \\frac{w}{2} & 0 & 0\\\\0 & 0 & - \\frac{g}{2} + \\frac{w}{2} & - \\frac{\\sqrt{2} g}{2} & \\frac{g}{2} + \\frac{3 w}{2} & 0 & \\frac{g}{2} & 0\\\\0 & \\frac{g}{2} & - \\frac{\\sqrt{2} g}{2} & - \\frac{g}{2} + \\frac{w}{2} & 0 & - \\frac{g}{2} + \\frac{3 w}{2} & 0 & 0\\\\0 & 0 & \\frac{g}{2} & 0 & \\frac{g}{2} & 0 & g + 2 w & 0\\\\0 & 0 & 0 & 0 & 0 & 0 & 0 & 3 w\\end{matrix}\\right]\n"
     ]
    }
   ],
   "source": [
    "from sympy import init_printing, latex\n",
    "\n",
    "init_printing()\n",
    "latex_code = latex(H_prime)\n",
    "print(latex_code)"
   ]
  },
  {
   "cell_type": "markdown",
   "metadata": {},
   "source": [
    "checking now for diagonal dominance\n"
   ]
  },
  {
   "cell_type": "code",
   "execution_count": 20,
   "metadata": {},
   "outputs": [
    {
     "data": {
      "image/png": "[encoded data removed]",
      "text/latex": [
       "$\\displaystyle \\left[ \\text{True}, \\  \\left|{g}\\right| \\leq \\left|{g - w}\\right|, \\  \\left|{\\frac{g}{2} + \\frac{3 w}{2}}\\right| \\geq \\frac{\\left|{g}\\right|}{2} + \\frac{\\sqrt{2} \\left|{g}\\right|}{2} + \\frac{\\left|{g - w}\\right|}{2}, \\  \\left|{\\frac{g}{2} - \\frac{3 w}{2}}\\right| \\geq \\frac{\\left|{g}\\right|}{2} + \\frac{\\sqrt{2} \\left|{g}\\right|}{2} + \\frac{\\left|{g - w}\\right|}{2}, \\  \\left|{\\frac{g}{2} + \\frac{3 w}{2}}\\right| \\geq \\frac{\\left|{g}\\right|}{2} + \\frac{\\sqrt{2} \\left|{g}\\right|}{2} + \\frac{\\left|{g - w}\\right|}{2}, \\  \\left|{\\frac{g}{2} - \\frac{3 w}{2}}\\right| \\geq \\frac{\\left|{g}\\right|}{2} + \\frac{\\sqrt{2} \\left|{g}\\right|}{2} + \\frac{\\left|{g - w}\\right|}{2}, \\  \\left|{g}\\right| \\leq \\left|{g + 2 w}\\right|, \\  \\text{True}\\right]$"
      ],
      "text/plain": [
       "⎡                     │g   3⋅w│   │g│   √2⋅│g│   │g - w│  │g   3⋅w│   │g│   √2\n",
       "⎢True, │g│ ≤ │g - w│, │─ + ───│ ≥ ─── + ────── + ───────, │─ - ───│ ≥ ─── + ──\n",
       "⎣                     │2    2 │    2      2         2     │2    2 │    2      \n",
       "\n",
       "⋅│g│   │g - w│  │g   3⋅w│   │g│   √2⋅│g│   │g - w│  │g   3⋅w│   │g│   √2⋅│g│  \n",
       "──── + ───────, │─ + ───│ ≥ ─── + ────── + ───────, │─ - ───│ ≥ ─── + ────── +\n",
       "2         2     │2    2 │    2      2         2     │2    2 │    2      2     \n",
       "\n",
       " │g - w│                       ⎤\n",
       " ───────, │g│ ≤ │g + 2⋅w│, True⎥\n",
       "    2                          ⎦"
      ]
     },
     "execution_count": 20,
     "metadata": {},
     "output_type": "execute_result"
    }
   ],
   "source": [
    "from sympy import Abs, simplify\n",
    "\n",
    "def is_diagonally_dominant_symbolic(matrix):\n",
    "    \"\"\"\n",
    "    Check if a symbolic matrix is diagonally dominant.\n",
    "    :param matrix: A SymPy Matrix\n",
    "    :return: A list of inequalities that must hold for diagonal dominance.\n",
    "    \"\"\"\n",
    "    rows, cols = matrix.shape\n",
    "    if rows != cols:\n",
    "        raise ValueError(\"Matrix must be square\")\n",
    "    \n",
    "    inequalities = []\n",
    "    for i in range(rows):\n",
    "        diag_element = Abs(matrix[i, i])\n",
    "        row_sum = sum(Abs(matrix[i, j]) for j in range(cols) if j != i)\n",
    "        inequalities.append(simplify(diag_element >= row_sum))\n",
    "    \n",
    "    return inequalities\n",
    "\n",
    "is_diagonally_dominant_symbolic(H_prime)"
   ]
  },
  {
   "cell_type": "markdown",
   "metadata": {},
   "source": [
    "for our values of omega and g"
   ]
  },
  {
   "cell_type": "code",
   "execution_count": 52,
   "metadata": {},
   "outputs": [
    {
     "data": {
      "image/png": "[encoded data removed]",
      "text/latex": [
       "$\\displaystyle \\left[\\begin{matrix}0 & 0 & 0 & 0 & 0 & 0 & 0 & 0\\\\0 & 1.2 & 0 & -0.00025 & 0 & 0.00025 & 0 & 0\\\\0 & 0 & 1.801 & 0 & 0.6 & - 0.00025 \\sqrt{2} & 0.00025 & 0\\\\0 & -0.00025 & 0 & 1.8005 & - 0.00025 \\sqrt{2} & 0.6 & 0 & 0\\\\0 & 0 & 0.6 & - 0.00025 \\sqrt{2} & 1.801 & 0 & 0.00025 & 0\\\\0 & 0.00025 & - 0.00025 \\sqrt{2} & 0.6 & 0 & 1.8005 & 0 & 0\\\\0 & 0 & 0.00025 & 0 & 0.00025 & 0 & 2.4015 & 0\\\\0 & 0 & 0 & 0 & 0 & 0 & 0 & 3.6015\\end{matrix}\\right]$"
      ],
      "text/plain": [
       "⎡0     0           0            0            0            0          0       0\n",
       "⎢                                                                             \n",
       "⎢0    1.2          0        -0.00025         0         0.00025       0       0\n",
       "⎢                                                                             \n",
       "⎢0     0         1.801          0           0.6      -0.00025⋅√2  0.00025    0\n",
       "⎢                                                                             \n",
       "⎢0  -0.00025       0         1.8005     -0.00025⋅√2      0.6         0       0\n",
       "⎢                                                                             \n",
       "⎢0     0          0.6      -0.00025⋅√2     1.801          0       0.00025    0\n",
       "⎢                                                                             \n",
       "⎢0  0.00025   -0.00025⋅√2      0.6           0         1.8005        0       0\n",
       "⎢                                                                             \n",
       "⎢0     0        0.00025         0         0.00025         0       2.4015     0\n",
       "⎢                                                                             \n",
       "⎣0     0           0            0            0            0          0     3.6\n",
       "\n",
       "   ⎤\n",
       "   ⎥\n",
       "   ⎥\n",
       "   ⎥\n",
       "   ⎥\n",
       "   ⎥\n",
       "   ⎥\n",
       "   ⎥\n",
       "   ⎥\n",
       "   ⎥\n",
       "   ⎥\n",
       "   ⎥\n",
       "   ⎥\n",
       "   ⎥\n",
       "015⎦"
      ]
     },
     "execution_count": 52,
     "metadata": {},
     "output_type": "execute_result"
    }
   ],
   "source": [
    "omega_c = 1.1\n",
    "n = 2\n",
    "kappa = [0.2]\n",
    "omega_m = [1.2]*n\n",
    "g = [0.01]*(2*(n-1))\n",
    "gamma = [0.8*(10**-6)]*n\n",
    "\n",
    "delta = [ x - omega_c for x in omega_m ]\n",
    "omega_eff = [ omega_m[i] + (delta[i]*(g[i]**2))/((0.5*kappa[0])**2 + delta[i]**2) for i in range(n) ]\n",
    "g_eff = [ (0.5*g[i]*g[i+1]*(delta[i] + delta[i+1]))/((kappa[0]/2)**2 + delta[i]*delta[i+1]) for i in range(n-1) ]\n",
    "gamma_eff = [ gamma[i] + (kappa[0]*(g[i]**2))/((0.5*kappa[0])**2 + delta[i]**2) for i in range(n) ]\n",
    "gamma_cross = [ (g[i]*g[i+1]*(kappa[0]))/((kappa[0]/2)**2 + delta[i]*delta[i+1]) for i in range(n-1)]  \n",
    "gamma_plus = [(gamma_eff[i] + gamma_eff[i+1])/2 + gamma_cross[i] for i in range(n-1)]\n",
    "gamma_minus = [(gamma_eff[i] + gamma_eff[i+1])/2 - gamma_cross[i] for i in range(n-1)]\n",
    "\n",
    "omega = Symbol('w')\n",
    "g_01 = Symbol('$g_{01}$')\n",
    "g_12 = Symbol('$g_{12}$')\n",
    "\n",
    "g_01 = Symbol('g')\n",
    "\n",
    "g_12 = g_01\n",
    "\n",
    "#H = Matrix([[3*omega, 0, 0, 0, 0, 0, 0, 0],[0, 2*omega, g_12, 0, 0, 0, 0, 0], [0, g_12, 2*omega, g_01, 0, 0, 0, 0],[0, 0, g_01, 2*omega, 0, 0, 0, 0], [0, 0, 0, 0, omega, g_12, 0, 0], [0, 0, 0, 0, g_01, omega, g_12, 0],  [0, 0, 0, 0, 0, g_01, omega, 0],  [0, 0, 0, 0, 0, 0, 0, 0]])\n",
    "H = Matrix([[0, 0, 0, 0, 0, 0, 0, 0],[0, omega_eff[0], g_eff[0], 0, 0, 0, 0, 0], [0, g_eff[0], omega_eff[0], g_eff[0], 0, 0, 0, 0],[0, 0, g_eff[0], omega_eff[0], 0, 0, 0, 0], [0, 0, 0, 0, 2*omega_eff[0], g_eff[0], 0, 0], [0, 0, 0, 0, g_eff[0], 2*omega_eff[0], g_eff[0], 0],  [0, 0, 0, 0, 0, g_eff[0], 2*omega_eff[0], 0],  [0, 0, 0, 0, 0, 0, 0, 3*omega_eff[0]]])\n",
    "H\n",
    "\n",
    "P = Matrix([[1, 0, 0, 0],[0, -1/sqrt(2), 1/sqrt(2), 0],[0, 1/sqrt(2), 1/sqrt(2), 0],[0, 0, 0, 1]])\n",
    "P_prime = TensorProduct(P, eye(2))*TensorProduct(eye(2), P)\n",
    "H_prime = sp.simplify(P_prime*H*P_prime.transpose())\n",
    "H_prime"
   ]
  },
  {
   "cell_type": "code",
   "execution_count": 44,
   "metadata": {},
   "outputs": [
    {
     "data": {
      "text/plain": [
       "True"
      ]
     },
     "execution_count": 44,
     "metadata": {},
     "output_type": "execute_result"
    }
   ],
   "source": [
    "def is_diagonally_dominant(matrix):\n",
    "    \"\"\"\n",
    "    Check if a matrix is diagonally dominant.\n",
    "    :param matrix: A SymPy Matrix\n",
    "    :return: True if the matrix is diagonally dominant, False otherwise\n",
    "    \"\"\"\n",
    "    rows, cols = matrix.shape\n",
    "    if rows != cols:\n",
    "        raise ValueError(\"Matrix must be square\")\n",
    "    \n",
    "    for i in range(rows):\n",
    "        diag_element = Abs(matrix[i, i])\n",
    "        row_sum = sum(Abs(matrix[i, j]) for j in range(cols) if j != i)\n",
    "        if diag_element < row_sum:\n",
    "            return False\n",
    "    return True\n",
    "\n",
    "is_diagonally_dominant(H_prime)"
   ]
  },
  {
   "cell_type": "markdown",
   "metadata": {},
   "source": [
    "rounding for clarity\n"
   ]
  },
  {
   "cell_type": "code",
   "execution_count": 53,
   "metadata": {},
   "outputs": [
    {
     "data": {
      "image/png": "[encoded data removed]",
      "text/latex": [
       "$\\displaystyle \\left[\\begin{matrix}0 & 0 & 0 & 0 & 0 & 0 & 0 & 0\\\\0 & 1.2 & 0 & 0 & 0 & 0 & 0 & 0\\\\0 & 0 & 1.801 & 0 & 0.6 & 0 & 0 & 0\\\\0 & 0 & 0 & 1.8 & 0 & 0.6 & 0 & 0\\\\0 & 0 & 0.6 & 0 & 1.801 & 0 & 0 & 0\\\\0 & 0 & 0 & 0.6 & 0 & 1.8 & 0 & 0\\\\0 & 0 & 0 & 0 & 0 & 0 & 2.402 & 0\\\\0 & 0 & 0 & 0 & 0 & 0 & 0 & 3.602\\end{matrix}\\right]$"
      ],
      "text/plain": [
       "⎡0   0     0     0     0     0     0      0  ⎤\n",
       "⎢                                            ⎥\n",
       "⎢0  1.2    0     0     0     0     0      0  ⎥\n",
       "⎢                                            ⎥\n",
       "⎢0   0   1.801   0    0.6    0     0      0  ⎥\n",
       "⎢                                            ⎥\n",
       "⎢0   0     0    1.8    0    0.6    0      0  ⎥\n",
       "⎢                                            ⎥\n",
       "⎢0   0    0.6    0   1.801   0     0      0  ⎥\n",
       "⎢                                            ⎥\n",
       "⎢0   0     0    0.6    0    1.8    0      0  ⎥\n",
       "⎢                                            ⎥\n",
       "⎢0   0     0     0     0     0   2.402    0  ⎥\n",
       "⎢                                            ⎥\n",
       "⎣0   0     0     0     0     0     0    3.602⎦"
      ]
     },
     "execution_count": 53,
     "metadata": {},
     "output_type": "execute_result"
    }
   ],
   "source": [
    "roundMatrix = lambda m, n: Matrix([[round(m[x, y], n) for y in range(m.shape[1])] for x in range(m.shape[0])])\n",
    "roundMatrix(H_prime, 3)"
   ]
  },
  {
   "cell_type": "code",
   "execution_count": 36,
   "metadata": {},
   "outputs": [
    {
     "name": "stdout",
     "output_type": "stream",
     "text": [
      "\\left[\\begin{matrix}0 & 0 & 0 & 0 & 0 & 0 & 0 & 0\\\\0 & 1.2 & 0 & 0 & 0 & 0 & 0 & 0\\\\0 & 0 & 1.801 & 0 & 0.6 & 0 & 0 & 0\\\\0 & 0 & 0 & 1.8 & 0 & 0.6 & 0 & 0\\\\0 & 0 & 0.6 & 0 & 1.801 & 0 & 0 & 0\\\\0 & 0 & 0 & 0.6 & 0 & 1.8 & 0 & 0\\\\0 & 0 & 0 & 0 & 0 & 0 & 2.402 & 0\\\\0 & 0 & 0 & 0 & 0 & 0 & 0 & 3.602\\end{matrix}\\right]\n"
     ]
    }
   ],
   "source": [
    "latex_code = latex(roundMatrix(H_prime, 3))\n",
    "print(latex_code)"
   ]
  },
  {
   "cell_type": "markdown",
   "metadata": {},
   "source": [
    "now computing the frobenius norm (distance between the matrices element-wise) as a metric of the approximation accuracy\n"
   ]
  },
  {
   "cell_type": "code",
   "execution_count": 54,
   "metadata": {},
   "outputs": [
    {
     "data": {
      "image/png": "[encoded data removed]",
      "text/latex": [
       "$\\displaystyle \\left[\\begin{matrix}0 & 0 & 0 & 0 & 0 & 0 & 0 & 0\\\\0 & 1.19979289321881 & 0 & 0 & 0 & 0 & 0 & 0\\\\0 & 0 & 1.2005 & 0 & 0 & 0 & 0 & 0\\\\0 & 0 & 0 & 1.20120710678119 & 0 & 0 & 0 & 0\\\\0 & 0 & 0 & 0 & 2.40029289321881 & 0 & 0 & 0\\\\0 & 0 & 0 & 0 & 0 & 2.401 & 0 & 0\\\\0 & 0 & 0 & 0 & 0 & 0 & 2.40170710678119 & 0\\\\0 & 0 & 0 & 0 & 0 & 0 & 0 & 3.6015\\end{matrix}\\right]$"
      ],
      "text/plain": [
       "⎡0         0            0            0                 0            0         \n",
       "⎢                                                                             \n",
       "⎢0  1.19979289321881    0            0                 0            0         \n",
       "⎢                                                                             \n",
       "⎢0         0          1.2005         0                 0            0         \n",
       "⎢                                                                             \n",
       "⎢0         0            0     1.20120710678119         0            0         \n",
       "⎢                                                                             \n",
       "⎢0         0            0            0          2.40029289321881    0         \n",
       "⎢                                                                             \n",
       "⎢0         0            0            0                 0          2.401       \n",
       "⎢                                                                             \n",
       "⎢0         0            0            0                 0            0    2.401\n",
       "⎢                                                                             \n",
       "⎣0         0            0            0                 0            0         \n",
       "\n",
       "  0            0   ⎤\n",
       "                   ⎥\n",
       "  0            0   ⎥\n",
       "                   ⎥\n",
       "  0            0   ⎥\n",
       "                   ⎥\n",
       "  0            0   ⎥\n",
       "                   ⎥\n",
       "  0            0   ⎥\n",
       "                   ⎥\n",
       "  0            0   ⎥\n",
       "                   ⎥\n",
       "70710678119    0   ⎥\n",
       "                   ⎥\n",
       "  0          3.6015⎦"
      ]
     },
     "execution_count": 54,
     "metadata": {},
     "output_type": "execute_result"
    }
   ],
   "source": [
    "H.diagonalize()[1]"
   ]
  },
  {
   "cell_type": "code",
   "execution_count": 55,
   "metadata": {},
   "outputs": [
    {
     "data": {
      "image/png": "[encoded data removed]",
      "text/latex": [
       "$\\displaystyle 0.288530122819593$"
      ],
      "text/plain": [
       "0.288530122819593"
      ]
     },
     "execution_count": 55,
     "metadata": {},
     "output_type": "execute_result"
    }
   ],
   "source": [
    "relative_error = (H_prime - H.diagonalize()[1]).norm('fro')/(H.diagonalize()[1].norm('fro'))\n",
    "relative_error"
   ]
  },
  {
   "cell_type": "code",
   "execution_count": 2,
   "metadata": {},
   "outputs": [
    {
     "data": {
      "text/plain": [
       "array([[1, 0, 0, 0, 0, 0, 0, 0],\n",
       "       [0, -1, 0, 0, 1, 0, 1, 0],\n",
       "       [0, 0, 0, 0, -sqrt(2), 0, sqrt(2), 0],\n",
       "       [0, 1, 0, 0, 1, 0, 1, 0],\n",
       "       [0, 0, -1, 0, 0, 1, 0, 1],\n",
       "       [0, 0, 0, 0, 0, -sqrt(2), 0, sqrt(2)],\n",
       "       [0, 0, 1, 0, 0, 1, 0, 1],\n",
       "       [0, 0, 0, 1, 0, 0, 0, 0]], dtype=object)"
      ]
     },
     "execution_count": 2,
     "metadata": {},
     "output_type": "execute_result"
    }
   ],
   "source": [
    "np.array(H.diagonalize()[0])\n"
   ]
  },
  {
   "cell_type": "code",
   "execution_count": null,
   "metadata": {},
   "outputs": [],
   "source": [
    "H = np.array([[3*omega, 0, 0, 0, 0, 0, 0, 0],[0, 2*omega, g_12, 0, 0, 0, 0, 0], [0, g_12, 2*omega, g_01, 0, 0, 0, 0],[0, 0, g_01, 2*omega, 0, 0, 0, 0], [0, 0, 0, 0, omega, g_12, 0, 0], [0, 0, 0, 0, g_01, omega, g_12, 0],  [0, 0, 0, 0, 0, g_01, omega, 0],  [0, 0, 0, 0, 0, 0, 0, 0]])\n"
   ]
  },
  {
   "cell_type": "code",
   "execution_count": 38,
   "metadata": {},
   "outputs": [
    {
     "data": {
      "text/plain": [
       "[(0,\n",
       "  1,\n",
       "  [Matrix([\n",
       "   [0],\n",
       "   [0],\n",
       "   [0],\n",
       "   [0],\n",
       "   [0],\n",
       "   [0],\n",
       "   [0],\n",
       "   [1]])]),\n",
       " (w,\n",
       "  1,\n",
       "  [Matrix([\n",
       "   [ 0],\n",
       "   [ 0],\n",
       "   [ 0],\n",
       "   [ 0],\n",
       "   [-1],\n",
       "   [ 0],\n",
       "   [ 1],\n",
       "   [ 0]])]),\n",
       " (2*w,\n",
       "  1,\n",
       "  [Matrix([\n",
       "   [ 0],\n",
       "   [-1],\n",
       "   [ 0],\n",
       "   [ 1],\n",
       "   [ 0],\n",
       "   [ 0],\n",
       "   [ 0],\n",
       "   [ 0]])]),\n",
       " (3*w,\n",
       "  1,\n",
       "  [Matrix([\n",
       "   [1],\n",
       "   [0],\n",
       "   [0],\n",
       "   [0],\n",
       "   [0],\n",
       "   [0],\n",
       "   [0],\n",
       "   [0]])]),\n",
       " (-sqrt(2)*g + w,\n",
       "  1,\n",
       "  [Matrix([\n",
       "   [                        0],\n",
       "   [                        0],\n",
       "   [                        0],\n",
       "   [                        0],\n",
       "   [                        1],\n",
       "   [-w/g + (-sqrt(2)*g + w)/g],\n",
       "   [                        1],\n",
       "   [                        0]])]),\n",
       " (-sqrt(2)*g + 2*w,\n",
       "  1,\n",
       "  [Matrix([\n",
       "   [                            0],\n",
       "   [                            1],\n",
       "   [-2*w/g + (-sqrt(2)*g + 2*w)/g],\n",
       "   [                            1],\n",
       "   [                            0],\n",
       "   [                            0],\n",
       "   [                            0],\n",
       "   [                            0]])]),\n",
       " (sqrt(2)*g + w,\n",
       "  1,\n",
       "  [Matrix([\n",
       "   [                       0],\n",
       "   [                       0],\n",
       "   [                       0],\n",
       "   [                       0],\n",
       "   [                       1],\n",
       "   [-w/g + (sqrt(2)*g + w)/g],\n",
       "   [                       1],\n",
       "   [                       0]])]),\n",
       " (sqrt(2)*g + 2*w,\n",
       "  1,\n",
       "  [Matrix([\n",
       "   [                           0],\n",
       "   [                           1],\n",
       "   [-2*w/g + (sqrt(2)*g + 2*w)/g],\n",
       "   [                           1],\n",
       "   [                           0],\n",
       "   [                           0],\n",
       "   [                           0],\n",
       "   [                           0]])])]"
      ]
     },
     "execution_count": 38,
     "metadata": {},
     "output_type": "execute_result"
    }
   ],
   "source": [
    "H.eigenvects()"
   ]
  },
  {
   "cell_type": "code",
   "execution_count": 36,
   "metadata": {},
   "outputs": [
    {
     "data": {
      "text/plain": [
       "{3*w: 1,\n",
       " 2*w: 1,\n",
       " -sqrt(2)*g + 2*w: 1,\n",
       " sqrt(2)*g + 2*w: 1,\n",
       " w: 1,\n",
       " -sqrt(2)*g + w: 1,\n",
       " sqrt(2)*g + w: 1,\n",
       " 0: 1}"
      ]
     },
     "execution_count": 36,
     "metadata": {},
     "output_type": "execute_result"
    }
   ],
   "source": [
    "H.eigenvals()"
   ]
  },
  {
   "cell_type": "code",
   "execution_count": 56,
   "metadata": {},
   "outputs": [
    {
     "data": {
      "text/latex": [
       "$\\displaystyle \\left[\\begin{matrix}3.0 w & 0 & 0 & 0 & 0 & 0 & 0 & 0\\\\0 & 1.4142135623731 g + 2.0 w & 0 & - 2.22044604925031 \\cdot 10^{-16} w & 0 & 0 & 0 & 0\\\\0 & 0 & 2.0 w & 0 & 0 & 0 & 0 & 0\\\\0 & - 2.22044604925031 \\cdot 10^{-16} w & 0 & - 1.4142135623731 g + 2.0 w & 0 & 0 & 0 & 0\\\\0 & 0 & 0 & 0 & 1.4142135623731 g + 1.0 w & 0 & - 1.11022302462516 \\cdot 10^{-16} w & 0\\\\0 & 0 & 0 & 0 & 0 & 1.0 w & 0 & 0\\\\0 & 0 & 0 & 0 & - 1.11022302462516 \\cdot 10^{-16} w & 0 & - 1.4142135623731 g + 1.0 w & 0\\\\0 & 0 & 0 & 0 & 0 & 0 & 0 & 0\\end{matrix}\\right]$"
      ],
      "text/plain": [
       "Matrix([\n",
       "[3.0*w,                         0,     0,                          0,                         0,     0,                          0, 0],\n",
       "[    0, 1.4142135623731*g + 2.0*w,     0,    -2.22044604925031e-16*w,                         0,     0,                          0, 0],\n",
       "[    0,                         0, 2.0*w,                          0,                         0,     0,                          0, 0],\n",
       "[    0,   -2.22044604925031e-16*w,     0, -1.4142135623731*g + 2.0*w,                         0,     0,                          0, 0],\n",
       "[    0,                         0,     0,                          0, 1.4142135623731*g + 1.0*w,     0,    -1.11022302462516e-16*w, 0],\n",
       "[    0,                         0,     0,                          0,                         0, 1.0*w,                          0, 0],\n",
       "[    0,                         0,     0,                          0,   -1.11022302462516e-16*w,     0, -1.4142135623731*g + 1.0*w, 0],\n",
       "[    0,                         0,     0,                          0,                         0,     0,                          0, 0]])"
      ]
     },
     "execution_count": 56,
     "metadata": {},
     "output_type": "execute_result"
    }
   ],
   "source": [
    "v1 = np.array([[1,0,0,0,0,0,0,0]]).transpose()\n",
    "v2 = (1/2)*np.array([[0, 1, np.sqrt(2), 1, 0, 0, 0, 0]]).transpose()\n",
    "v3 = (1/np.sqrt(2))*np.array([[0, -1, 0, 1, 0, 0, 0, 0]]).transpose()\n",
    "v4 = (1/2)*np.array([[0, 1, -np.sqrt(2), 1, 0, 0, 0, 0]]).transpose()\n",
    "v5 = (1/2)*np.array([[0, 0, 0, 0, 1, np.sqrt(2), 1, 0]]).transpose()\n",
    "v6 = (1/np.sqrt(2))*np.array([[0, 0, 0, 0, -1, 0, 1, 0]]).transpose()\n",
    "v7 = (1/2)*np.array([[0, 0, 0, 0, 1, -np.sqrt(2), 1, 0]]).transpose()\n",
    "v8 = np.array([[0,0,0,0,0,0,0,1]]).transpose()\n",
    "true_P = Matrix(np.hstack((v1, v2, v3, v4, v5, v6, v7, v8)))\n",
    "\n",
    "(true_P.transpose()*H*true_P)"
   ]
  },
  {
   "cell_type": "code",
   "execution_count": null,
   "metadata": {},
   "outputs": [],
   "source": [
    "from qiskit import QuantumCircuit, QuantumRegister\n",
    "from qiskit.circuit import Parameter, Gate, ControlledGate\n",
    "import numpy as np\n",
    "from qiskit.quantum_info import Operator, Statevector\n",
    "from qiskit.circuit.library import RYGate, RYYGate, Initialize\n",
    "\n",
    "def true_basis_change(n:int, omega_m:list, omega_c:list, g:list, gamma:list, kappa:list, initial_state:list, r:int):\n",
    "\n",
    "    n = 3\n",
    "\n",
    "    delta = [ x - omega_c for x in omega_m ]\n",
    "    \n",
    "    omega_eff = [ omega_m[i] + (delta[i]*(g[i]**2))/((0.5*kappa[0])**2 + delta[i]**2) for i in range(n) ]\n",
    "    \n",
    "    g_eff = [ (0.5*g[i]*g[i+1]*(delta[i] + delta[i+1]))/((kappa[0]/2)**2 + delta[i]*delta[i+1]) for i in range(n-1) ]\n",
    "\n",
    "    gamma_eff = [ gamma[i] + (kappa[0]*(g[i]**2))/((0.5*kappa[0])**2 + delta[i]**2) for i in range(n) ]\n",
    "\n",
    "    gamma_cross = [ (g[i]*g[i+1]*(kappa[0]))/((kappa[0]/2)**2 + delta[i]*delta[i+1]) for i in range(n-1)]  \n",
    "    \n",
    "    gamma_plus = [(gamma_eff[i] + gamma_eff[i+1])/2 + gamma_cross[i] for i in range(n-1)]\n",
    "\n",
    "    gamma_minus = [(gamma_eff[i] + gamma_eff[i+1])/2 - gamma_cross[i] for i in range(n-1)]\n",
    "\n",
    "    system = QuantumRegister(n, 'q')\n",
    "    environment = QuantumRegister(n, 'e')\n",
    "\n",
    "    # Parameter definition\n",
    "\n",
    "    delta_t = Parameter('$t$')/r\n",
    "\n",
    "    beta = [ 2*omega_eff[j]*delta_t for j in range(n) ]\n",
    "\n",
    "    alpha = [ g_eff[j]*delta_t for j in range(n-1) ]\n",
    "\n",
    "    theta_plus = [ (((1 - (-delta_t*gamma_plus[j]).exp())**(1/2)).arcsin())*2 for j in range(n-1)]\n",
    "\n",
    "    theta_minus = [ (((1 - (-delta_t*gamma_minus[j]).exp())**(1/2)).arcsin())*2 for j in range(n-1)]\n",
    "\n",
    "    init = QuantumCircuit(system, environment)\n",
    "    \n",
    "    initial_qubit_state = initial_state    \n",
    "\n",
    "    initial_statevector = Statevector(initial_qubit_state) \n",
    "\n",
    "    init.initialize(params = initial_statevector, qubits = system, normalize = True)\n",
    "\n",
    "    u_0 = QuantumCircuit(system, environment)\n",
    "\n",
    "    for i in range(n):\n",
    "\n",
    "        u_0.rz(beta[i], system[i])\n",
    "\n",
    "    # Two-layer interaction circuit\n",
    "\n",
    "    \n",
    "    u1 = QuantumCircuit(system, environment)\n",
    "\n",
    "    for j in range(0, n-1, 2):\n",
    "\n",
    "        u1.ryy(alpha[j], qubit1 = system[j], qubit2 = system[j+1])\n",
    "        u1.rxx(alpha[j], qubit1 = system[j], qubit2 = system[j+1])\n",
    "\n",
    "    if n > 2:\n",
    "\n",
    "        u2 = QuantumCircuit(system, environment)\n",
    "\n",
    "        for k in range(1, n-1, 2):\n",
    "\n",
    "            u2.ryy(alpha[k], qubit1 = system[k], qubit2 = system[k+1])\n",
    "            u2.rxx(alpha[k], qubit1 = system[k], qubit2 = system[k+1])\n",
    "\n",
    "        u_int = u1.compose(u2)\n",
    "\n",
    "    else:\n",
    "\n",
    "        u_int = u1\n",
    "\n",
    "    u_decay_first_layer = QuantumCircuit(system, environment)\n",
    "\n",
    "    # Basis change gate definition\n",
    "\n",
    "    true_P = np.array([[1, 0, 0, 0], [0, -1/np.sqrt(2), 1/np.sqrt(2), 0], [0, 1/np.sqrt(2), 1/np.sqrt(2), 0], [0, 0, 0, 1]])\n",
    "\n",
    "    true_P_gate = Operator(true_P).to_instruction()\n",
    "\n",
    "    true_P_dag_gate = Operator(true_P.transpose()).to_instruction()\n",
    "\n",
    "    # Now we do the same as before just changing the two-layered P by the true P.\n",
    "\n",
    "    u_decay_first_layer.append(true_P_gate, [system[0], system[1], system[2]])\n",
    "\n",
    "    for j in range(0, n-1, 2):\n",
    "\n",
    "        ccry_plus = RYGate(theta_plus[j] - theta_minus[j]).control(2)\n",
    "\n",
    "        ccry_minus = RYGate(theta_minus[j] - theta_plus[j]).control(2)\n",
    "\n",
    "        u_decay_first_layer.append(ccry_plus, [system[j], system[j+1], environment[j]])\n",
    "\n",
    "        u_decay_first_layer.append(ccry_minus, [system[j], system[j+1], environment[j+1]])\n",
    "\n",
    "        u_decay_first_layer.cry(theta_minus[j], system[j], environment[j])\n",
    "\n",
    "        u_decay_first_layer.cry(theta_plus[j], system[j+1], environment[j+1])\n",
    "\n",
    "        u_decay_first_layer.cx(environment[j], system[j])\n",
    "\n",
    "        u_decay_first_layer.cx(environment[j+1], system[j+1])\n",
    "\n",
    "        u_decay_first_layer.reset([environment[j], environment[j+1]])\n",
    "    \n",
    "    # And onto the second layer\n",
    "\n",
    "    if n > 2:\n",
    "\n",
    "        u_decay_second_layer = QuantumCircuit(system, environment)\n",
    "\n",
    "        for j in range(1, n-1, 2):\n",
    "\n",
    "            ccry_plus = RYGate(theta_plus[j] - theta_minus[j]).control(2)\n",
    "\n",
    "            ccry_minus = RYGate(theta_minus[j] - theta_plus[j]).control(2)\n",
    "\n",
    "            u_decay_second_layer.append(ccry_plus, [system[j], system[j+1], environment[j]])\n",
    "\n",
    "            u_decay_second_layer.append(ccry_minus, [system[j], system[j+1], environment[j+1]])\n",
    "\n",
    "            u_decay_second_layer.cry(theta_minus[j], system[j], environment[j])\n",
    "\n",
    "            u_decay_second_layer.cry(theta_plus[j], system[j+1], environment[j+1])\n",
    "\n",
    "            u_decay_second_layer.cx(environment[j], system[j])\n",
    "\n",
    "            u_decay_second_layer.cx(environment[j+1], system[j+1])\n",
    "\n",
    "            u_decay_second_layer.reset([environment[j], environment[j+1]])\n",
    "\n",
    "        u_decay_second_layer.append(true_P_dag_gate, [system[0], system[1], system[2]])\n",
    "        u_decay = u_decay_first_layer.compose(u_decay_second_layer)\n",
    "\n",
    "    else:\n",
    "\n",
    "        u_decay = u_decay_first_layer\n",
    "\n",
    "\n",
    "    # Putting everything (except the initialization) together\n",
    "    # for Trotterization\n",
    "\n",
    "    u = ((u_0.compose(u_int)).compose(u_decay))\n",
    "\n",
    "    trotterized_u = u.repeat(r).decompose()\n",
    "\n",
    "    # Finally, we put the initialization right at the beginning.\n",
    "    \n",
    "    parametrized_qc = trotterized_u.compose(init, front = True)\n",
    "\n",
    "    return parametrized_qc"
   ]
  },
  {
   "cell_type": "code",
   "execution_count": 153,
   "metadata": {},
   "outputs": [
    {
     "data": {
      "image/png": "[encoded data removed]",
      "text/plain": [
       "<Figure size 556.56x284.278 with 1 Axes>"
      ]
     },
     "execution_count": 153,
     "metadata": {},
     "output_type": "execute_result"
    }
   ],
   "source": [
    "from qiskit import QuantumCircuit\n",
    "from qiskit import QuantumRegister\n",
    "\n",
    "system = QuantumRegister(3)\n",
    "\n",
    "omega = 1\n",
    "g_01 = 2\n",
    "g_12 = 3\n",
    "\n",
    "qc = QuantumCircuit(system)\n",
    "\n",
    "beta = 2*omega\n",
    "alpha_01 = g_01\n",
    "alpha_12 = g_12\n",
    "\n",
    "qc.rz(beta, system)\n",
    "qc.rxx(alpha_01, system[0], system[1])\n",
    "qc.ryy(alpha_01, system[0], system[1])\n",
    "qc.rxx(alpha_12, system[1], system[2])\n",
    "qc.ryy(alpha_12, system[1], system[2])\n",
    "\n",
    "a = qc.repeat(10)\n",
    "qc.draw('mpl')"
   ]
  },
  {
   "cell_type": "code",
   "execution_count": 182,
   "metadata": {},
   "outputs": [
    {
     "data": {
      "text/plain": [
       "<qiskit.circuit.instructionset.InstructionSet at 0x1ed263b5720>"
      ]
     },
     "execution_count": 182,
     "metadata": {},
     "output_type": "execute_result"
    }
   ],
   "source": [
    "from qiskit.circuit.library import PauliEvolutionGate\n",
    "from qiskit.quantum_info import SparsePauliOp\n",
    "\n",
    "r = 1\n",
    "omega = 1\n",
    "\n",
    "H_0 = (1/r)*omega*1/2*(SparsePauliOp('III') + SparsePauliOp('IIZ') + SparsePauliOp('III') + SparsePauliOp('IZI') + SparsePauliOp('III') + SparsePauliOp('ZII'))\n",
    "#H_int = (1/r)*0.5*g_01*(SparsePauliOp('IXX') + SparsePauliOp('IYY')) #+ 0.5*g_12*(SparsePauliOp('XXI') + SparsePauliOp('YYI'))\n",
    "H_int = 0.5*g_12*(SparsePauliOp('XXI') + SparsePauliOp('YYI'))\n",
    "u_0 = PauliEvolutionGate(H_0, time = 1)\n",
    "u_int = PauliEvolutionGate(H_int, time = 1)\n",
    "\n",
    "qc = QuantumCircuit(system)\n",
    "qc.append(u_0, system)\n",
    "#qc.append(u_int, system)\n",
    "#qc_trott = qc.repeat(r)\n",
    "#qc.decompose().decompose().draw('mpl')"
   ]
  },
  {
   "cell_type": "code",
   "execution_count": 183,
   "metadata": {},
   "outputs": [
    {
     "data": {
      "text/latex": [
       "$$\n",
       "\n",
       "\\begin{bmatrix}\n",
       "-0.9899924966 - 0.1411200081 i & 0 & 0 & 0 & 0 & 0 & 0 & 0  \\\\\n",
       " 0 & -0.4161468365 - 0.9092974268 i & 0 & 0 & 0 & 0 & 0 & 0  \\\\\n",
       " 0 & 0 & -0.4161468365 - 0.9092974268 i & 0 & 0 & 0 & 0 & 0  \\\\\n",
       " 0 & 0 & 0 & 0.5403023059 - 0.8414709848 i & 0 & 0 & 0 & 0  \\\\\n",
       " 0 & 0 & 0 & 0 & -0.4161468365 - 0.9092974268 i & 0 & 0 & 0  \\\\\n",
       " 0 & 0 & 0 & 0 & 0 & 0.5403023059 - 0.8414709848 i & 0 & 0  \\\\\n",
       " 0 & 0 & 0 & 0 & 0 & 0 & 0.5403023059 - 0.8414709848 i & 0  \\\\\n",
       " 0 & 0 & 0 & 0 & 0 & 0 & 0 & 1  \\\\\n",
       " \\end{bmatrix}\n",
       "$$"
      ],
      "text/plain": [
       "<IPython.core.display.Latex object>"
      ]
     },
     "execution_count": 183,
     "metadata": {},
     "output_type": "execute_result"
    }
   ],
   "source": [
    "from qiskit.quantum_info import Operator\n",
    "\n",
    "a = Operator.from_circuit(qc)\n",
    "a.draw('latex')"
   ]
  },
  {
   "cell_type": "code",
   "execution_count": 184,
   "metadata": {},
   "outputs": [
    {
     "name": "stderr",
     "output_type": "stream",
     "text": [
      "C:\\Users\\Benjamin\\AppData\\Local\\Temp\\ipykernel_31120\\2162258693.py:9: ComplexWarning: Casting complex values to real discards the imaginary part\n",
      "  arguments[i][j] = b[i][j]\n"
     ]
    },
    {
     "data": {
      "text/plain": [
       "array([[3., 0., 0., 0., 0., 0., 0., 0.],\n",
       "       [0., 2., 0., 0., 0., 0., 0., 0.],\n",
       "       [0., 0., 2., 0., 0., 0., 0., 0.],\n",
       "       [0., 0., 0., 1., 0., 0., 0., 0.],\n",
       "       [0., 0., 0., 0., 2., 0., 0., 0.],\n",
       "       [0., 0., 0., 0., 0., 1., 0., 0.],\n",
       "       [0., 0., 0., 0., 0., 0., 1., 0.],\n",
       "       [0., 0., 0., 0., 0., 0., 0., 0.]])"
      ]
     },
     "execution_count": 184,
     "metadata": {},
     "output_type": "execute_result"
    }
   ],
   "source": [
    "\n",
    "b = a.to_matrix()\n",
    "arguments = np.zeros((8,8))\n",
    "\n",
    "for i in range(8):\n",
    "    for j in range(8):\n",
    "\n",
    "        if (b[i][j] - 0)==0 :\n",
    "\n",
    "            arguments[i][j] = b[i][j]\n",
    "\n",
    "        else:\n",
    "\n",
    "            r, theta = cmath.polar(b[i][j])\n",
    "            arguments[i][j] = -round(theta,2)\n",
    "    \n",
    "arguments\n",
    "            "
   ]
  },
  {
   "cell_type": "code",
   "execution_count": 180,
   "metadata": {},
   "outputs": [
    {
     "data": {
      "text/latex": [
       "$\\displaystyle \\left[\\begin{matrix}0 & 0 & 0 & 0 & 0 & 0 & 0 & 0\\\\0 & w & g & 0 & 0 & 0 & 0 & 0\\\\0 & g & w & 0 & g & 0 & 0 & 0\\\\0 & 0 & 0 & 2 w & 0 & g & 0 & 0\\\\0 & 0 & g & 0 & w & 0 & 0 & 0\\\\0 & 0 & 0 & g & 0 & 2 w & g & 0\\\\0 & 0 & 0 & 0 & 0 & g & 2 w & 0\\\\0 & 0 & 0 & 0 & 0 & 0 & 0 & 3 w\\end{matrix}\\right]$"
      ],
      "text/plain": [
       "Matrix([\n",
       "[0, 0, 0,   0, 0,   0,   0,   0],\n",
       "[0, w, g,   0, 0,   0,   0,   0],\n",
       "[0, g, w,   0, g,   0,   0,   0],\n",
       "[0, 0, 0, 2*w, 0,   g,   0,   0],\n",
       "[0, 0, g,   0, w,   0,   0,   0],\n",
       "[0, 0, 0,   g, 0, 2*w,   g,   0],\n",
       "[0, 0, 0,   0, 0,   g, 2*w,   0],\n",
       "[0, 0, 0,   0, 0,   0,   0, 3*w]])"
      ]
     },
     "execution_count": 180,
     "metadata": {},
     "output_type": "execute_result"
    }
   ],
   "source": [
    "from sympy import Matrix, Symbol\n",
    "from sympy.physics.quantum import TensorProduct\n",
    "identity = Matrix([[1, 0],[0, 1]])\n",
    "\n",
    "ket_0 = Matrix([[1],[0]])\n",
    "ket_1 = Matrix([[0],[1]])\n",
    "\n",
    "sigma = ket_0*ket_1.transpose()\n",
    "sigma_1 = TensorProduct(sigma, identity, identity)\n",
    "sigma_2 = TensorProduct(identity, sigma, identity)\n",
    "sigma_3 = TensorProduct(identity, identity, sigma)\n",
    "\n",
    "omega = Symbol('w')\n",
    "g = Symbol('g')\n",
    "\n",
    "H = omega*(sigma_1.transpose()*sigma_1 + sigma_2.transpose()*sigma_2 + sigma_3.transpose()*sigma_3)+ g*(sigma_1.transpose()*sigma_2 + sigma_1*sigma_2.transpose() + sigma_2.transpose()*sigma_3 + sigma_2*sigma_3.transpose())\n",
    "H"
   ]
  },
  {
   "cell_type": "code",
   "execution_count": 194,
   "metadata": {},
   "outputs": [
    {
     "data": {
      "text/plain": [
       "array([[3*w, 0, 0, 0, 0, 0, 0, 0],\n",
       "       [0, 2*w, g, 0, 0, 0, 0, 0],\n",
       "       [0, g, 2*w, 0, g, 0, 0, 0],\n",
       "       [0, 0, 0, w, 0, g, 0, 0],\n",
       "       [0, 0, g, 0, 2*w, 0, 0, 0],\n",
       "       [0, 0, 0, g, 0, w, g, 0],\n",
       "       [0, 0, 0, 0, 0, g, w, 0],\n",
       "       [0, 0, 0, 0, 0, 0, 0, 0]], dtype=object)"
      ]
     },
     "execution_count": 194,
     "metadata": {},
     "output_type": "execute_result"
    }
   ],
   "source": [
    "diag = np.diagonal(H)\n",
    "\n",
    "# Reverse the diagonal elements\n",
    "reversed_diag = diag[::-1]\n",
    "\n",
    "# Create a copy of the original matrix to modify\n",
    "reversed_matrix = np.array(H).copy()\n",
    "\n",
    "# Replace the diagonal with the reversed diagonal\n",
    "np.fill_diagonal(reversed_matrix, reversed_diag)\n",
    "reversed_matrix\n",
    "\n",
    "# THIS MATRIX MATCHES QISKITS ORDERING (the same as sympys ordering but with a reversed diagonal)"
   ]
  },
  {
   "cell_type": "code",
   "execution_count": 193,
   "metadata": {},
   "outputs": [
    {
     "data": {
      "text/plain": [
       "array([3*w, 2*w, 2*w, w, 2*w, w, w, 0], dtype=object)"
      ]
     },
     "execution_count": 193,
     "metadata": {},
     "output_type": "execute_result"
    }
   ],
   "source": [
    "reversed_diag"
   ]
  },
  {
   "cell_type": "code",
   "execution_count": 79,
   "metadata": {},
   "outputs": [
    {
     "name": "stdout",
     "output_type": "stream",
     "text": [
      "0.9990146195126476*exp(i-2.9998796280884625)\n"
     ]
    }
   ],
   "source": [
    "import cmath\n",
    "\n",
    "r, theta = cmath.polar(complex(-0.989, -0.1411))\n",
    "print(f'{r}*exp(i{theta})')"
   ]
  },
  {
   "cell_type": "code",
   "execution_count": 4,
   "metadata": {},
   "outputs": [
    {
     "data": {
      "image/png": "[encoded data removed]",
      "text/plain": [
       "<Figure size 640x480 with 1 Axes>"
      ]
     },
     "metadata": {},
     "output_type": "display_data"
    },
    {
     "data": {
      "image/png": "[encoded data removed]",
      "text/plain": [
       "<Figure size 640x480 with 1 Axes>"
      ]
     },
     "metadata": {},
     "output_type": "display_data"
    }
   ],
   "source": [
    "import numpy as np\n",
    "import matplotlib.pyplot as plt\n",
    "import colorsys\n",
    "plt.rcParams['text.usetex'] = True\n",
    "plt.rcParams['figure.dpi'] = 100\n",
    "plt.rcParams['savefig.dpi'] = 600\n",
    "\n",
    "t = np.loadtxt(\"emitters_6_nsteps10.txt\")[:, 0]\n",
    "adag_a = np.loadtxt(\"emitters_6_nsteps10.txt\")[:, 1]\n",
    "sgimaplus_simgamm = np.loadtxt(\"emitters_6_nsteps10.txt\")[:, 2]\n",
    "adag_a_qutip = np.loadtxt(\"emitters_6_nsteps10.txt\")[:, 3]\n",
    "sgimaplus_simgamm_qutip = np.loadtxt(\"emitters_6_nsteps10.txt\")[:, 4]\n",
    "\n",
    "plt.plot(t, adag_a_qutip, color = 'black', linestyle = 'solid', label = 'Classical simulator')\n",
    "plt.plot(t, adag_a, color = 'red', linestyle = 'dashed', label = 'Quantum simulator')\n",
    "plt.xlabel('time ($1/g$)')\n",
    "plt.ylabel('Plasmon population')\n",
    "plt.legend()\n",
    "plt.savefig('plasmon pop jonny 6 emitters')\n",
    "plt.show()\n",
    "\n",
    "plt.plot(t, adag_a_qutip, color = 'black', linestyle = 'solid', label = 'Classical simulator')\n",
    "plt.plot(t, adag_a, color = 'lightgreen', linestyle = 'dashed', label = 'Quantum simulator')\n",
    "plt.xlabel('time ($1/g$)')\n",
    "plt.ylabel('QE population')\n",
    "plt.legend()\n",
    "plt.savefig('molecule pop jonny 6 emitters')\n",
    "plt.show()"
   ]
  },
  {
   "cell_type": "code",
   "execution_count": 5,
   "metadata": {},
   "outputs": [
    {
     "name": "stdout",
     "output_type": "stream",
     "text": [
      "Matrix([[$\\gamma$*$\\rho_{11}$, -0.5*$\\gamma$*$\\rho_{01}$], [-0.5*$\\gamma$*$\\rho_{10}$, -1.0*$\\gamma$*$\\rho_{11}$]])\n"
     ]
    }
   ],
   "source": [
    "import sympy as sp\n",
    "from sympy import Matrix\n",
    "from sympy import Symbol\n",
    "import numpy as np\n",
    "\n",
    "rho_00 = Symbol('$\\\\rho_{00}$')\n",
    "rho_01 = Symbol('$\\\\rho_{01}$')\n",
    "rho_10 = Symbol('$\\\\rho_{10}$')\n",
    "rho_11 = Symbol('$\\\\rho_{11}$')\n",
    "\n",
    "gamma = Symbol('$\\\\gamma$')\n",
    "\n",
    "rho = Matrix([[rho_00, rho_01],[rho_10, rho_11]])\n",
    "sigma = Matrix([[0, 1],[0, 0]])\n",
    "sigmapm = sigma.transpose()*sigma\n",
    "\n",
    "D = gamma*(sigma*rho*sigma.transpose() - 0.5*(sigmapm*rho + rho*sigmapm))\n",
    "print(D)"
   ]
  },
  {
   "cell_type": "code",
   "execution_count": 2,
   "metadata": {},
   "outputs": [
    {
     "name": "stdout",
     "output_type": "stream",
     "text": [
      "Matrix([[-1.0*$\\Lambda$*$\\rho_{00}$, -0.5*$\\Lambda$*$\\rho_{01}$], [-0.5*$\\Lambda$*$\\rho_{10}$, $\\Lambda$*$\\rho_{00}$]])\n"
     ]
    }
   ],
   "source": [
    "import sympy as sp\n",
    "from sympy import Matrix\n",
    "from sympy import Symbol\n",
    "import numpy as np\n",
    "\n",
    "rho_00 = Symbol('$\\\\rho_{00}$')\n",
    "rho_01 = Symbol('$\\\\rho_{01}$')\n",
    "rho_10 = Symbol('$\\\\rho_{10}$')\n",
    "rho_11 = Symbol('$\\\\rho_{11}$')\n",
    "\n",
    "lam = Symbol('$\\\\Lambda$')\n",
    "\n",
    "rho = Matrix([[rho_00, rho_01],[rho_10, rho_11]])\n",
    "sigma = Matrix([[0, 1],[0, 0]])\n",
    "sigmamp = sigma*sigma.transpose()\n",
    "\n",
    "D = lam*(sigma.transpose()*rho*sigma - 0.5*(sigmamp*rho + rho*sigmamp))\n",
    "print(D)"
   ]
  },
  {
   "cell_type": "markdown",
   "metadata": {},
   "source": [
    "getting delRe kraus operators"
   ]
  },
  {
   "cell_type": "code",
   "execution_count": 99,
   "metadata": {},
   "outputs": [
    {
     "name": "stdout",
     "output_type": "stream",
     "text": [
      "The channel is CPTP\n"
     ]
    },
    {
     "data": {
      "text/plain": [
       "[Matrix([\n",
       " [sqrt(1 - p_0),             0],\n",
       " [            0, sqrt(1 - p_1)]]),\n",
       " Matrix([\n",
       " [        0, 0],\n",
       " [sqrt(p_0), 0]]),\n",
       " Matrix([\n",
       " [0, sqrt(p_1)],\n",
       " [0,         0]]),\n",
       " Matrix([\n",
       " [0, 0],\n",
       " [0, 0]])]"
      ]
     },
     "execution_count": 99,
     "metadata": {},
     "output_type": "execute_result"
    }
   ],
   "source": [
    "from get_kraus_TEST import get_kraus, get_unitary\n",
    "from sympy import Matrix, Symbol, sqrt\n",
    "from sympy.physics.quantum import TensorProduct\n",
    "\n",
    "p_0 = Symbol('p_0')\n",
    "p_1 = Symbol('p_1')\n",
    "\n",
    "ket_0 = Matrix([[1],[0]])\n",
    "ket_1 = Matrix([[0],[1]])\n",
    "\n",
    "ket_00 = TensorProduct(ket_0, ket_0)\n",
    "ket_01 = TensorProduct(ket_0, ket_1)\n",
    "ket_10 = TensorProduct(ket_1, ket_0)\n",
    "ket_11 = TensorProduct(ket_1, ket_1)\n",
    "\n",
    "\n",
    "first_prime = sqrt(1-p_0)*TensorProduct(ket_0, ket_00) + sqrt(p_0)*TensorProduct(ket_1, ket_01)\n",
    "second_prime = sqrt(1-p_1)*TensorProduct(ket_1, ket_00) + sqrt(p_1)*TensorProduct(ket_0, ket_10)\n",
    "\n",
    "transformed_kets = [first_prime, second_prime]\n",
    "basis = 'computational'\n",
    "\n",
    "kraus = get_kraus(transformed_kets, basis)\n",
    "u = get_unitary(kraus, basis)\n",
    "kraus"
   ]
  },
  {
   "cell_type": "markdown",
   "metadata": {},
   "source": [
    "and computing the evolved density matrix"
   ]
  },
  {
   "cell_type": "code",
   "execution_count": 103,
   "metadata": {},
   "outputs": [
    {
     "name": "stdout",
     "output_type": "stream",
     "text": [
      "Matrix([[-$\\rho_{00}$*($p_{1}$ - 1) + $\\rho_{11}$*$p_{2}$, $\\rho_{01}$*sqrt(1 - $p_{1}$)*sqrt(1 - $p_{2}$)], [$\\rho_{10}$*sqrt(1 - $p_{1}$)*sqrt(1 - $p_{2}$), $\\rho_{00}$*$p_{1}$ - $\\rho_{11}$*($p_{2}$ - 1)]])\n"
     ]
    }
   ],
   "source": [
    "import sympy as sp\n",
    "from sympy import Matrix, Symbol, sqrt\n",
    "import numpy as np\n",
    "\n",
    "rho_00 = Symbol('$\\\\rho_{00}$')\n",
    "rho_01 = Symbol('$\\\\rho_{01}$')\n",
    "rho_10 = Symbol('$\\\\rho_{10}$')\n",
    "rho_11 = Symbol('$\\\\rho_{11}$')\n",
    "\n",
    "p_1 = Symbol('$p_{1}$')\n",
    "p_2 = Symbol('$p_{2}$')\n",
    "\n",
    "rho = Matrix([[rho_00, rho_01],[rho_10, rho_11]])\n",
    "\n",
    "k_0 = Matrix([[sqrt(1-p_1), 0], [0, sqrt(1-p_2)]])\n",
    "k_1 = Matrix([[0, 0],[sqrt(p_1), 0]])\n",
    "k_2 = Matrix([[0, sqrt(p_2)],[0, 0]])\n",
    "\n",
    "rho_evolved = k_0*rho*k_0.transpose() + k_1*rho*k_1.transpose() + k_2*rho*k_2.transpose()\n",
    "print(sp.simplify(rho_evolved))"
   ]
  },
  {
   "cell_type": "markdown",
   "metadata": {},
   "source": [
    "now doing the same for my circuit"
   ]
  },
  {
   "cell_type": "code",
   "execution_count": 2,
   "metadata": {},
   "outputs": [
    {
     "name": "stdout",
     "output_type": "stream",
     "text": [
      "The channel is CPTP\n"
     ]
    },
    {
     "data": {
      "text/plain": [
       "[Matrix([\n",
       " [sqrt(1 - p_1),             0],\n",
       " [            0, sqrt(1 - p_2)]]),\n",
       " Matrix([\n",
       " [        0, sqrt(p_2)],\n",
       " [sqrt(p_1),         0]])]"
      ]
     },
     "execution_count": 2,
     "metadata": {},
     "output_type": "execute_result"
    }
   ],
   "source": [
    "from get_kraus_TEST import get_kraus, get_unitary\n",
    "from sympy import Matrix, Symbol, sqrt\n",
    "from sympy.physics.quantum import TensorProduct\n",
    "\n",
    "system_dim = 2\n",
    "ancilla_dim = 2\n",
    "\n",
    "p_1 = Symbol('p_1')\n",
    "p_2 = Symbol('p_2')\n",
    "\n",
    "ket_0 = Matrix([[1],[0]])\n",
    "ket_1 = Matrix([[0],[1]])\n",
    "\n",
    "first_prime = sqrt(1-p_1)*TensorProduct(ket_0, ket_0) + sqrt(p_1)*TensorProduct(ket_1, ket_1)\n",
    "second_prime = sqrt(1-p_2)*TensorProduct(ket_1, ket_0) + sqrt(p_2)*TensorProduct(ket_0, ket_1)\n",
    "\n",
    "transformed_kets = [first_prime, second_prime]\n",
    "basis = 'computational'\n",
    "\n",
    "kraus = get_kraus(transformed_kets, basis, system_dim, ancilla_dim)\n",
    "u = get_unitary(kraus, basis)\n",
    "kraus"
   ]
  },
  {
   "cell_type": "code",
   "execution_count": 3,
   "metadata": {},
   "outputs": [
    {
     "name": "stdout",
     "output_type": "stream",
     "text": [
      "Matrix([[-$\\rho_{00}$*($p_{1}$ - 1) + $\\rho_{11}$*$p_{2}$, $\\rho_{01}$*sqrt(1 - $p_{1}$)*sqrt(1 - $p_{2}$) + $\\rho_{10}$*sqrt($p_{1}$)*sqrt($p_{2}$)], [$\\rho_{01}$*sqrt($p_{1}$)*sqrt($p_{2}$) + $\\rho_{10}$*sqrt(1 - $p_{1}$)*sqrt(1 - $p_{2}$), $\\rho_{00}$*$p_{1}$ - $\\rho_{11}$*($p_{2}$ - 1)]])\n"
     ]
    }
   ],
   "source": [
    "import sympy as sp\n",
    "from sympy import Matrix, Symbol, sqrt\n",
    "import numpy as np\n",
    "\n",
    "rho_00 = Symbol('$\\\\rho_{00}$')\n",
    "rho_01 = Symbol('$\\\\rho_{01}$')\n",
    "rho_10 = Symbol('$\\\\rho_{10}$')\n",
    "rho_11 = Symbol('$\\\\rho_{11}$')\n",
    "\n",
    "p_1 = Symbol('$p_{1}$')\n",
    "p_2 = Symbol('$p_{2}$')\n",
    "\n",
    "rho = Matrix([[rho_00, rho_01],[rho_10, rho_11]])\n",
    "\n",
    "k_0 = Matrix([[sqrt(1-p_1), 0], [0, sqrt(1-p_2)]])\n",
    "k_1 = Matrix([[0, sqrt(p_2)],[sqrt(p_1), 0]])\n",
    "\n",
    "rho_evolved = k_0*rho*k_0.transpose() + k_1*rho*k_1.transpose() \n",
    "print(sp.simplify(rho_evolved))"
   ]
  },
  {
   "cell_type": "markdown",
   "metadata": {},
   "source": [
    "calculando el efecto de los disipadores cruzados en la matriz densidad"
   ]
  },
  {
   "cell_type": "code",
   "execution_count": 19,
   "metadata": {},
   "outputs": [
    {
     "name": "stdout",
     "output_type": "stream",
     "text": [
      "Matrix([[$\\rho_{00}$, $\\rho_{01}$, $\\rho_{02}$, $\\rho_{03}$], [$\\rho_{10}$, $\\rho_{11}$, $\\rho_{12}$, $\\rho_{13}$], [$\\rho_{20}$, $\\rho_{21}$, $\\rho_{22}$, $\\rho_{23}$], [$\\rho_{30}$, $\\rho_{31}$, $\\rho_{32}$, $\\rho_{33}$]])\n"
     ]
    }
   ],
   "source": [
    "import sympy as sp\n",
    "from sympy import Matrix, Symbol, sqrt\n",
    "import numpy as np\n",
    "\n",
    "rho_00 = Symbol('$\\\\rho_{00}$')\n",
    "rho_01 = Symbol('$\\\\rho_{01}$')\n",
    "rho_02 = Symbol('$\\\\rho_{02}$')\n",
    "rho_03 = Symbol('$\\\\rho_{03}$')\n",
    "\n",
    "rho_10 = Symbol('$\\\\rho_{10}$')\n",
    "rho_11 = Symbol('$\\\\rho_{11}$')\n",
    "rho_12 = Symbol('$\\\\rho_{12}$')\n",
    "rho_13 = Symbol('$\\\\rho_{13}$')\n",
    "\n",
    "rho_20 = Symbol('$\\\\rho_{20}$')\n",
    "rho_21 = Symbol('$\\\\rho_{21}$')\n",
    "rho_22 = Symbol('$\\\\rho_{22}$')\n",
    "rho_23 = Symbol('$\\\\rho_{23}$')\n",
    "\n",
    "rho_30 = Symbol('$\\\\rho_{30}$')\n",
    "rho_31 = Symbol('$\\\\rho_{31}$')\n",
    "rho_32 = Symbol('$\\\\rho_{32}$')\n",
    "rho_33 = Symbol('$\\\\rho_{33}$')\n",
    "\n",
    "\n",
    "rho = Matrix([[rho_00, rho_01, rho_02, rho_03],[rho_10, rho_11, rho_12, rho_13], [rho_20, rho_21, rho_22, rho_23], [rho_30, rho_31, rho_32, rho_33]])\n",
    "\n",
    "#P = Matrix([[1, 0, 0, 0], [0, -1/np.sqrt(2), 1/np.sqrt(2), 0], [0, 1/np.sqrt(2), 1/np.sqrt(2), 0], [0, 0, 0, 1]])\n",
    "\n",
    "#rho_prime = P.transpose()*rho*P\n",
    "print(rho)"
   ]
  },
  {
   "cell_type": "code",
   "execution_count": 20,
   "metadata": {},
   "outputs": [
    {
     "name": "stdout",
     "output_type": "stream",
     "text": [
      "Matrix([[0, 0, $\\rho_{23}$, 0], [0, 0, 0, 0], [0, 0, 0, 0], [0, 0, 0, 0]])\n"
     ]
    }
   ],
   "source": [
    "gr = Matrix([[1],[0],[0],[0]])\n",
    "lambda_minus = Matrix([[0],[1],[0],[0]])\n",
    "lambda_plus = Matrix([[0],[0],[1],[0]])\n",
    "e = Matrix([[0],[0],[0],[1]])\n",
    "\n",
    "# Operators definition\n",
    "\n",
    "sigma_gplus = gr*lambda_plus.transpose()\n",
    "sigma_gminus = gr*lambda_minus.transpose()\n",
    "sigma_pluse = lambda_plus*e.transpose()\n",
    "sigma_minuse = lambda_minus*e.transpose()\n",
    "\n",
    "# Dissipator\n",
    "\n",
    "d_gplus_pluse = sigma_gplus*rho*sigma_pluse.transpose() - 0.5*(sigma_pluse.transpose()*sigma_gplus*rho + rho*sigma_pluse.transpose()*sigma_gplus)\n",
    "#d_gplus_pluse = sigma_gplus*rho*sigma_pluse.transpose() - 0.5*(sigma_pluse.transpose()*sigma_gplus*rho + rho*sigma_pluse.transpose()*sigma_gplus)\n",
    "print(sp.simplify(d_gplus_pluse))"
   ]
  },
  {
   "cell_type": "markdown",
   "metadata": {},
   "source": [
    "calculando ahora el efecto de los 4 disipadores diagonales en la matriz densidad"
   ]
  },
  {
   "cell_type": "code",
   "execution_count": 26,
   "metadata": {},
   "outputs": [
    {
     "name": "stdout",
     "output_type": "stream",
     "text": [
      "Matrix([[$g_{+}$*$p_{22}$ + $g_{-}$*$p_{11}$, -0.5*$g_{-}$*$p_{01}$, -0.5*$g_{+}$*$p_{02}$, 0.5*$p_{03}$*(-$g_{+}$ - $g_{-}$)], [-0.5*$g_{-}$*$p_{10}$, $g_{-}$*(-1.0*$p_{11}$ + $p_{33}$), 0.5*$p_{12}$*(-$g_{+}$ - $g_{-}$), $p_{13}$*(-0.5*$g_{+}$ - 1.0*$g_{-}$)], [-0.5*$g_{+}$*$p_{20}$, 0.5*$p_{21}$*(-$g_{+}$ - $g_{-}$), $g_{+}$*(-1.0*$p_{22}$ + $p_{33}$), $p_{23}$*(-1.0*$g_{+}$ - 0.5*$g_{-}$)], [0.5*$p_{30}$*(-$g_{+}$ - $g_{-}$), $p_{31}$*(-0.5*$g_{+}$ - 1.0*$g_{-}$), $p_{32}$*(-1.0*$g_{+}$ - 0.5*$g_{-}$), 1.0*$p_{33}$*(-$g_{+}$ - $g_{-}$)]])\n"
     ]
    }
   ],
   "source": [
    "import sympy as sp\n",
    "from sympy import Matrix, Symbol, sqrt\n",
    "import numpy as np\n",
    "\n",
    "rho_00 = Symbol('$p_{00}$')\n",
    "rho_01 = Symbol('$p_{01}$')\n",
    "rho_02 = Symbol('$p_{02}$')\n",
    "rho_03 = Symbol('$p_{03}$')\n",
    "\n",
    "rho_10 = Symbol('$p_{10}$')\n",
    "rho_11 = Symbol('$p_{11}$')\n",
    "rho_12 = Symbol('$p_{12}$')\n",
    "rho_13 = Symbol('$p_{13}$')\n",
    "\n",
    "rho_20 = Symbol('$p_{20}$')\n",
    "rho_21 = Symbol('$p_{21}$')\n",
    "rho_22 = Symbol('$p_{22}$')\n",
    "rho_23 = Symbol('$p_{23}$')\n",
    "\n",
    "rho_30 = Symbol('$p_{30}$')\n",
    "rho_31 = Symbol('$p_{31}$')\n",
    "rho_32 = Symbol('$p_{32}$')\n",
    "rho_33 = Symbol('$p_{33}$')\n",
    "\n",
    "\n",
    "rho = Matrix([[rho_00, rho_01, rho_02, rho_03],[rho_10, rho_11, rho_12, rho_13], [rho_20, rho_21, rho_22, rho_23], [rho_30, rho_31, rho_32, rho_33]])\n",
    "\n",
    "gr = Matrix([[1],[0],[0],[0]])\n",
    "lambda_minus = Matrix([[0],[1],[0],[0]])\n",
    "lambda_plus = Matrix([[0],[0],[1],[0]])\n",
    "e = Matrix([[0],[0],[0],[1]])\n",
    "\n",
    "# Operators definition\n",
    "\n",
    "sigma_gplus = gr*lambda_plus.transpose()\n",
    "sigma_gminus = gr*lambda_minus.transpose()\n",
    "sigma_pluse = lambda_plus*e.transpose()\n",
    "sigma_minuse = lambda_minus*e.transpose()\n",
    "\n",
    "# Decay constants\n",
    "\n",
    "gamma_plus = Symbol('$g_{+}$')\n",
    "gamma_minus = Symbol('$g_{-}$')\n",
    "\n",
    "# Dissipators\n",
    "\n",
    "d_gplus = gamma_plus*(sigma_gplus*rho*sigma_gplus.transpose() - 0.5*(sigma_gplus.transpose()*sigma_gplus*rho + rho*sigma_gplus.transpose()*sigma_gplus))\n",
    "d_gminus = gamma_minus*(sigma_gminus*rho*sigma_gminus.transpose() - 0.5*(sigma_gminus.transpose()*sigma_gminus*rho + rho*sigma_gminus.transpose()*sigma_gminus))\n",
    "d_pluse = gamma_plus*(sigma_pluse*rho*sigma_pluse.transpose() - 0.5*(sigma_pluse.transpose()*sigma_pluse*rho + rho*sigma_pluse.transpose()*sigma_pluse))\n",
    "d_minuse = gamma_minus*(sigma_minuse*rho*sigma_minuse.transpose() - 0.5*(sigma_minuse.transpose()*sigma_minuse*rho + rho*sigma_minuse.transpose()*sigma_minuse))\n",
    "\n",
    "evolved_rho = d_gplus + d_gminus + d_pluse + d_minuse\n",
    "final_rho = sp.simplify(evolved_rho)\n",
    "print(final_rho)\n",
    "#print(sp.simplify(evolved_rho))"
   ]
  },
  {
   "cell_type": "markdown",
   "metadata": {},
   "source": [
    "action of P on the density matrix"
   ]
  },
  {
   "cell_type": "code",
   "execution_count": 30,
   "metadata": {},
   "outputs": [
    {
     "name": "stdout",
     "output_type": "stream",
     "text": [
      "Matrix([[$\\rho_{00}$, -0.707106781186547*$\\rho_{01}$ + 0.707106781186547*$\\rho_{02}$, 0.707106781186547*$\\rho_{01}$ + 0.707106781186547*$\\rho_{02}$, $\\rho_{03}$], [-0.707106781186547*$\\rho_{10}$ + 0.707106781186547*$\\rho_{20}$, 0.5*$\\rho_{11}$ - 0.5*$\\rho_{12}$ - 0.5*$\\rho_{21}$ + 0.5*$\\rho_{22}$, -0.5*$\\rho_{11}$ - 0.5*$\\rho_{12}$ + 0.5*$\\rho_{21}$ + 0.5*$\\rho_{22}$, -0.707106781186547*$\\rho_{13}$ + 0.707106781186547*$\\rho_{23}$], [0.707106781186547*$\\rho_{10}$ + 0.707106781186547*$\\rho_{20}$, -0.5*$\\rho_{11}$ + 0.5*$\\rho_{12}$ - 0.5*$\\rho_{21}$ + 0.5*$\\rho_{22}$, 0.5*$\\rho_{11}$ + 0.5*$\\rho_{12}$ + 0.5*$\\rho_{21}$ + 0.5*$\\rho_{22}$, 0.707106781186547*$\\rho_{13}$ + 0.707106781186547*$\\rho_{23}$], [$\\rho_{30}$, -0.707106781186547*$\\rho_{31}$ + 0.707106781186547*$\\rho_{32}$, 0.707106781186547*$\\rho_{31}$ + 0.707106781186547*$\\rho_{32}$, $\\rho_{33}$]])\n"
     ]
    }
   ],
   "source": [
    "import sympy as sp\n",
    "from sympy import Matrix, Symbol, sqrt\n",
    "import numpy as np\n",
    "\n",
    "rho_00 = Symbol('$\\\\rho_{00}$')\n",
    "rho_01 = Symbol('$\\\\rho_{01}$')\n",
    "rho_02 = Symbol('$\\\\rho_{02}$')\n",
    "rho_03 = Symbol('$\\\\rho_{03}$')\n",
    "\n",
    "rho_10 = Symbol('$\\\\rho_{10}$')\n",
    "rho_11 = Symbol('$\\\\rho_{11}$')\n",
    "rho_12 = Symbol('$\\\\rho_{12}$')\n",
    "rho_13 = Symbol('$\\\\rho_{13}$')\n",
    "\n",
    "rho_20 = Symbol('$\\\\rho_{20}$')\n",
    "rho_21 = Symbol('$\\\\rho_{21}$')\n",
    "rho_22 = Symbol('$\\\\rho_{22}$')\n",
    "rho_23 = Symbol('$\\\\rho_{23}$')\n",
    "\n",
    "rho_30 = Symbol('$\\\\rho_{30}$')\n",
    "rho_31 = Symbol('$\\\\rho_{31}$')\n",
    "rho_32 = Symbol('$\\\\rho_{32}$')\n",
    "rho_33 = Symbol('$\\\\rho_{33}$')\n",
    "\n",
    "\n",
    "rho = Matrix([[rho_00, rho_01, rho_02, rho_03],[rho_10, rho_11, rho_12, rho_13], [rho_20, rho_21, rho_22, rho_23], [rho_30, rho_31, rho_32, rho_33]])\n",
    "\n",
    "P = Matrix([[1, 0, 0, 0], [0, -1/np.sqrt(2), 1/np.sqrt(2), 0], [0, 1/np.sqrt(2), 1/np.sqrt(2), 0], [0, 0, 0, 1]])\n",
    "\n",
    "rho_prime = P.transpose()*rho*P\n",
    "print(rho_prime)"
   ]
  },
  {
   "cell_type": "markdown",
   "metadata": {},
   "source": [
    "getting the Kraus representation of my two emitter quantum circuit"
   ]
  },
  {
   "cell_type": "code",
   "execution_count": 25,
   "metadata": {},
   "outputs": [
    {
     "name": "stdout",
     "output_type": "stream",
     "text": [
      "The channel is CPTP\n"
     ]
    },
    {
     "data": {
      "text/plain": [
       "[Matrix([\n",
       " [1,               0,               0,                               0],\n",
       " [0, sqrt(1 - p_{-}),               0,                               0],\n",
       " [0,               0, sqrt(1 - p_{+}),                               0],\n",
       " [0,               0,               0, sqrt(1 - p_{+})*sqrt(1 - p_{-})]]),\n",
       " Matrix([\n",
       " [0, sqrt(p_{-}), 0,                           0],\n",
       " [0,           0, 0,                           0],\n",
       " [0,           0, 0, sqrt(p_{-})*sqrt(1 - p_{+})],\n",
       " [0,           0, 0,                           0]]),\n",
       " Matrix([\n",
       " [0, 0, sqrt(p_{+}),                           0],\n",
       " [0, 0,           0, sqrt(p_{+})*sqrt(1 - p_{-})],\n",
       " [0, 0,           0,                           0],\n",
       " [0, 0,           0,                           0]]),\n",
       " Matrix([\n",
       " [0, 0, 0, sqrt(p_{+})*sqrt(p_{-})],\n",
       " [0, 0, 0,                       0],\n",
       " [0, 0, 0,                       0],\n",
       " [0, 0, 0,                       0]])]"
      ]
     },
     "execution_count": 25,
     "metadata": {},
     "output_type": "execute_result"
    }
   ],
   "source": [
    "import sys\n",
    "sys.path.append(r'C:\\Users\\Benjamin\\iCloudDrive\\PhD\\Quantum Computing\\dissipative dynamics')\n",
    "from utils.get_kraus_TEST import get_kraus\n",
    "from sympy import Matrix, Symbol, sqrt\n",
    "from sympy.physics.quantum import TensorProduct\n",
    "\n",
    "ancilla_dim = 4\n",
    "system_dim = 4\n",
    "\n",
    "p_plus = Symbol('p_{+}')\n",
    "p_minus = Symbol('p_{-}')\n",
    "\n",
    "ket_0 = Matrix([[1],[0]])\n",
    "ket_1 = Matrix([[0],[1]])\n",
    "\n",
    "ket_00 = TensorProduct(ket_0, ket_0)\n",
    "ket_01 = TensorProduct(ket_0, ket_1)\n",
    "ket_10 = TensorProduct(ket_1, ket_0)\n",
    "ket_11 = TensorProduct(ket_1, ket_1)\n",
    "\n",
    "\n",
    "first_prime = TensorProduct(ket_00, ket_00) \n",
    "second_prime = sqrt(1-p_minus)*TensorProduct(ket_01, ket_00) + sqrt(p_minus)*TensorProduct(ket_00, ket_01)\n",
    "third_prime = sqrt(1-p_plus)*TensorProduct(ket_10, ket_00) + sqrt(p_plus)*TensorProduct(ket_00, ket_10)\n",
    "fourth_prime = sqrt(1-p_minus)*sqrt(1-p_plus)*TensorProduct(ket_11, ket_00) + sqrt(1 - p_plus)*sqrt(p_minus)*TensorProduct(ket_10, ket_01) + sqrt(1 - p_minus)*sqrt(p_plus)*TensorProduct(ket_01, ket_10) +sqrt(p_minus)*sqrt(p_plus)*TensorProduct(ket_00, ket_11) \n",
    "\n",
    "transformed_kets = [first_prime, second_prime, third_prime, fourth_prime]\n",
    "basis = 'computational'\n",
    "\n",
    "kraus = get_kraus(transformed_kets, basis, system_dim, ancilla_dim)\n",
    "#u = get_unitary(kraus, basis)\n",
    "kraus"
   ]
  },
  {
   "cell_type": "code",
   "execution_count": 27,
   "metadata": {},
   "outputs": [
    {
     "name": "stdout",
     "output_type": "stream",
     "text": [
      "Matrix([[$\\rho_{00}$ + $\\rho_{11}$*p_{-} + $\\rho_{22}$*p_{+} + $\\rho_{33}$*p_{+}*p_{-}, sqrt(1 - p_{-})*($\\rho_{01}$ + $\\rho_{23}$*p_{+}), sqrt(1 - p_{+})*($\\rho_{02}$ + $\\rho_{13}$*p_{-}), $\\rho_{03}$*sqrt(1 - p_{+})*sqrt(1 - p_{-})], [sqrt(1 - p_{-})*($\\rho_{10}$ + $\\rho_{32}$*p_{+}), (-$\\rho_{11}$ - $\\rho_{33}$*p_{+})*(p_{-} - 1), $\\rho_{12}$*sqrt(1 - p_{+})*sqrt(1 - p_{-}), $\\rho_{13}$*sqrt(1 - p_{+})*(1 - p_{-})], [sqrt(1 - p_{+})*($\\rho_{20}$ + $\\rho_{31}$*p_{-}), $\\rho_{21}$*sqrt(1 - p_{+})*sqrt(1 - p_{-}), (-$\\rho_{22}$ - $\\rho_{33}$*p_{-})*(p_{+} - 1), $\\rho_{23}$*(1 - p_{+})*sqrt(1 - p_{-})], [$\\rho_{30}$*sqrt(1 - p_{+})*sqrt(1 - p_{-}), $\\rho_{31}$*sqrt(1 - p_{+})*(1 - p_{-}), $\\rho_{32}$*(1 - p_{+})*sqrt(1 - p_{-}), $\\rho_{33}$*(p_{+} - 1)*(p_{-} - 1)]])\n"
     ]
    }
   ],
   "source": [
    "import sympy as sp\n",
    "from sympy import Matrix, Symbol, sqrt\n",
    "import numpy as np\n",
    "\n",
    "rho_00 = Symbol('$\\\\rho_{00}$')\n",
    "rho_01 = Symbol('$\\\\rho_{01}$')\n",
    "rho_02 = Symbol('$\\\\rho_{02}$')\n",
    "rho_03 = Symbol('$\\\\rho_{03}$')\n",
    "\n",
    "rho_10 = Symbol('$\\\\rho_{10}$')\n",
    "rho_11 = Symbol('$\\\\rho_{11}$')\n",
    "rho_12 = Symbol('$\\\\rho_{12}$')\n",
    "rho_13 = Symbol('$\\\\rho_{13}$')\n",
    "\n",
    "rho_20 = Symbol('$\\\\rho_{20}$')\n",
    "rho_21 = Symbol('$\\\\rho_{21}$')\n",
    "rho_22 = Symbol('$\\\\rho_{22}$')\n",
    "rho_23 = Symbol('$\\\\rho_{23}$')\n",
    "\n",
    "rho_30 = Symbol('$\\\\rho_{30}$')\n",
    "rho_31 = Symbol('$\\\\rho_{31}$')\n",
    "rho_32 = Symbol('$\\\\rho_{32}$')\n",
    "rho_33 = Symbol('$\\\\rho_{33}$')\n",
    "\n",
    "\n",
    "rho = Matrix([[rho_00, rho_01, rho_02, rho_03],[rho_10, rho_11, rho_12, rho_13], [rho_20, rho_21, rho_22, rho_23], [rho_30, rho_31, rho_32, rho_33]])\n",
    "\n",
    "evolved_rho = kraus[0]*rho*kraus[0].transpose() + kraus[1]*rho*kraus[1].transpose() + kraus[2]*rho*kraus[2].transpose() + kraus[3]*rho*kraus[3].transpose()\n",
    "print(sp.simplify(evolved_rho))"
   ]
  },
  {
   "cell_type": "markdown",
   "metadata": {},
   "source": [
    "And now computing the effect of this channel onto the density matrix"
   ]
  },
  {
   "cell_type": "code",
   "execution_count": 1,
   "metadata": {},
   "outputs": [
    {
     "ename": "ValueError",
     "evalue": "Input matrix is not unitary.",
     "output_type": "error",
     "traceback": [
      "\u001b[1;31m---------------------------------------------------------------------------\u001b[0m",
      "\u001b[1;31mValueError\u001b[0m                                Traceback (most recent call last)",
      "Cell \u001b[1;32mIn[1], line 29\u001b[0m\n\u001b[0;32m     26\u001b[0m optimization_level \u001b[38;5;241m=\u001b[39m \u001b[38;5;241m0\u001b[39m\n\u001b[0;32m     27\u001b[0m options \u001b[38;5;241m=\u001b[39m {\u001b[38;5;124m'\u001b[39m\u001b[38;5;124mdefault_shots\u001b[39m\u001b[38;5;124m'\u001b[39m : \u001b[38;5;241m10\u001b[39m\u001b[38;5;241m*\u001b[39m\u001b[38;5;241m*\u001b[39m\u001b[38;5;241m3\u001b[39m}\n\u001b[1;32m---> 29\u001b[0m evs_ancilla \u001b[38;5;241m=\u001b[39m \u001b[43msampler_solver\u001b[49m\u001b[43m(\u001b[49m\u001b[43mn\u001b[49m\u001b[43m,\u001b[49m\u001b[43m \u001b[49m\u001b[43momega_m\u001b[49m\u001b[43m,\u001b[49m\u001b[43m \u001b[49m\u001b[43momega_c\u001b[49m\u001b[43m,\u001b[49m\u001b[43m \u001b[49m\u001b[43mgamma\u001b[49m\u001b[43m,\u001b[49m\u001b[43m \u001b[49m\u001b[43mg\u001b[49m\u001b[43m,\u001b[49m\u001b[43m \u001b[49m\u001b[43mkappa\u001b[49m\u001b[43m,\u001b[49m\u001b[43m \u001b[49m\u001b[43mt\u001b[49m\u001b[43m,\u001b[49m\u001b[43m \u001b[49m\u001b[43mr\u001b[49m\u001b[43m,\u001b[49m\u001b[43m \u001b[49m\u001b[43minitial_state\u001b[49m\u001b[43m,\u001b[49m\u001b[43m \u001b[49m\u001b[43mbackend\u001b[49m\u001b[43m,\u001b[49m\u001b[43m \u001b[49m\u001b[43moptimization_level\u001b[49m\u001b[43m,\u001b[49m\u001b[43m \u001b[49m\u001b[43moptions\u001b[49m\u001b[43m,\u001b[49m\u001b[43m \u001b[49m\u001b[38;5;124;43m'\u001b[39;49m\u001b[38;5;124;43mone ancilla\u001b[39;49m\u001b[38;5;124;43m'\u001b[39;49m\u001b[43m)\u001b[49m\n\u001b[0;32m     30\u001b[0m evs_markov \u001b[38;5;241m=\u001b[39m solve_master_equation(n, omega_m, omega_c, gamma, kappa, g, t, initial_state, \u001b[38;5;124m'\u001b[39m\u001b[38;5;124mmarkovian\u001b[39m\u001b[38;5;124m'\u001b[39m)\n\u001b[0;32m     31\u001b[0m colors \u001b[38;5;241m=\u001b[39m generate_complementary_colors(\u001b[38;5;28mlen\u001b[39m(evs_markov\u001b[38;5;241m.\u001b[39mkeys()), palette_type \u001b[38;5;241m=\u001b[39m \u001b[38;5;124m'\u001b[39m\u001b[38;5;124mdefault\u001b[39m\u001b[38;5;124m'\u001b[39m, start_color \u001b[38;5;241m=\u001b[39m \u001b[38;5;124m'\u001b[39m\u001b[38;5;124mhotpink\u001b[39m\u001b[38;5;124m'\u001b[39m)\n",
      "File \u001b[1;32mc:\\Users\\Benjamin\\iCloudDrive\\PhD\\Quantum Computing\\molecule-plasmon int\\Code\\ordenadito\\sampler_solver_WORKS_one_ancilla.py:19\u001b[0m, in \u001b[0;36msampler_solver\u001b[1;34m(n, omega_m, omega_c, gamma, g, kappa, t, r, initial_state, backend, optimization_level, options, type)\u001b[0m\n\u001b[0;32m     16\u001b[0m \u001b[38;5;28;01mdef\u001b[39;00m \u001b[38;5;21msampler_solver\u001b[39m(n:\u001b[38;5;28mint\u001b[39m, omega_m:\u001b[38;5;28mlist\u001b[39m, omega_c:\u001b[38;5;28mfloat\u001b[39m, gamma:\u001b[38;5;28mlist\u001b[39m, g:\u001b[38;5;28mfloat\u001b[39m, kappa:\u001b[38;5;28mlist\u001b[39m, t:\u001b[38;5;28mlist\u001b[39m, r:\u001b[38;5;28mint\u001b[39m, initial_state:\u001b[38;5;28mlist\u001b[39m,\n\u001b[0;32m     17\u001b[0m                   backend:Union[\u001b[38;5;28mstr\u001b[39m, BackendV1, BackendV2], optimization_level:\u001b[38;5;28mint\u001b[39m, options:\u001b[38;5;28mdict\u001b[39m, \u001b[38;5;28mtype\u001b[39m:\u001b[38;5;28mstr\u001b[39m) \u001b[38;5;241m-\u001b[39m\u001b[38;5;241m>\u001b[39m \u001b[38;5;28mdict\u001b[39m:\n\u001b[1;32m---> 19\u001b[0m     qc, init_layout \u001b[38;5;241m=\u001b[39m \u001b[43mget_circuit_sampler\u001b[49m\u001b[43m(\u001b[49m\u001b[43mn\u001b[49m\u001b[43m,\u001b[49m\u001b[43m \u001b[49m\u001b[43momega_m\u001b[49m\u001b[43m,\u001b[49m\u001b[43m \u001b[49m\u001b[43momega_c\u001b[49m\u001b[43m,\u001b[49m\u001b[43m \u001b[49m\u001b[43mg\u001b[49m\u001b[43m,\u001b[49m\u001b[43m \u001b[49m\u001b[43mgamma\u001b[49m\u001b[43m,\u001b[49m\u001b[43m \u001b[49m\u001b[43mkappa\u001b[49m\u001b[43m,\u001b[49m\u001b[43m \u001b[49m\u001b[43minitial_state\u001b[49m\u001b[43m,\u001b[49m\u001b[43m \u001b[49m\u001b[43mr\u001b[49m\u001b[43m,\u001b[49m\u001b[43m \u001b[49m\u001b[38;5;28;43mtype\u001b[39;49m\u001b[43m)\u001b[49m\n\u001b[0;32m     21\u001b[0m     \u001b[38;5;66;03m#service = QiskitRuntimeService(\u001b[39;00m\n\u001b[0;32m     22\u001b[0m         \u001b[38;5;66;03m#channel='ibm_quantum',\u001b[39;00m\n\u001b[0;32m     23\u001b[0m         \u001b[38;5;66;03m#instance='ibm-q-ikerbasque/upv-ehu/dynamics-of-mole',\u001b[39;00m\n\u001b[1;32m   (...)\u001b[0m\n\u001b[0;32m     26\u001b[0m     \u001b[38;5;66;03m#session = Session(service = service, backend = backend)\u001b[39;00m\n\u001b[0;32m     27\u001b[0m     \u001b[38;5;66;03m#sampler = SamplerV2(session = session, backend = backend, options = options)\u001b[39;00m\n\u001b[0;32m     29\u001b[0m     shots \u001b[38;5;241m=\u001b[39m options[\u001b[38;5;124m'\u001b[39m\u001b[38;5;124mdefault_shots\u001b[39m\u001b[38;5;124m'\u001b[39m]\n",
      "File \u001b[1;32mc:\\Users\\Benjamin\\iCloudDrive\\PhD\\Quantum Computing\\molecule-plasmon int\\Code\\ordenadito\\c_if_sampler_WORKS_one_ancilla.py:120\u001b[0m, in \u001b[0;36mget_circuit_sampler\u001b[1;34m(n, omega_m, omega_c, g, gamma, kappa, initial_state, r, type)\u001b[0m\n\u001b[0;32m    116\u001b[0m minus_root \u001b[38;5;241m=\u001b[39m \u001b[38;5;241m-\u001b[39momega_eff[\u001b[38;5;241m1\u001b[39m]\u001b[38;5;241m/\u001b[39mg_eff[\u001b[38;5;241m0\u001b[39m] \u001b[38;5;241m+\u001b[39m (\u001b[38;5;241m1\u001b[39m\u001b[38;5;241m/\u001b[39mg_eff[\u001b[38;5;241m0\u001b[39m])\u001b[38;5;241m*\u001b[39m((omega_eff[\u001b[38;5;241m0\u001b[39m] \u001b[38;5;241m+\u001b[39m omega_eff[\u001b[38;5;241m1\u001b[39m])\u001b[38;5;241m/\u001b[39m\u001b[38;5;241m2\u001b[39m \u001b[38;5;241m+\u001b[39m (np\u001b[38;5;241m.\u001b[39msqrt(\u001b[38;5;241m4\u001b[39m\u001b[38;5;241m*\u001b[39m(g_eff[\u001b[38;5;241m0\u001b[39m]\u001b[38;5;241m*\u001b[39m\u001b[38;5;241m*\u001b[39m\u001b[38;5;241m2\u001b[39m) \u001b[38;5;241m+\u001b[39m (omega_eff[\u001b[38;5;241m0\u001b[39m] \u001b[38;5;241m-\u001b[39m omega_eff[\u001b[38;5;241m1\u001b[39m])\u001b[38;5;241m*\u001b[39m\u001b[38;5;241m*\u001b[39m\u001b[38;5;241m2\u001b[39m)\u001b[38;5;241m/\u001b[39m\u001b[38;5;241m2\u001b[39m))\n\u001b[0;32m    118\u001b[0m P \u001b[38;5;241m=\u001b[39m np\u001b[38;5;241m.\u001b[39marray([[\u001b[38;5;241m1\u001b[39m, \u001b[38;5;241m0\u001b[39m, \u001b[38;5;241m0\u001b[39m, \u001b[38;5;241m0\u001b[39m], [\u001b[38;5;241m0\u001b[39m, minus_root\u001b[38;5;241m/\u001b[39m(np\u001b[38;5;241m.\u001b[39msqrt(minus_root\u001b[38;5;241m*\u001b[39m\u001b[38;5;241m*\u001b[39m\u001b[38;5;241m2\u001b[39m \u001b[38;5;241m+\u001b[39m \u001b[38;5;241m1\u001b[39m)), \u001b[38;5;241m1\u001b[39m\u001b[38;5;241m/\u001b[39m(np\u001b[38;5;241m.\u001b[39msqrt(plus_root\u001b[38;5;241m*\u001b[39m\u001b[38;5;241m*\u001b[39m\u001b[38;5;241m2\u001b[39m \u001b[38;5;241m+\u001b[39m \u001b[38;5;241m1\u001b[39m)), \u001b[38;5;241m0\u001b[39m], [\u001b[38;5;241m0\u001b[39m, \u001b[38;5;241m1\u001b[39m\u001b[38;5;241m/\u001b[39m(np\u001b[38;5;241m.\u001b[39msqrt(minus_root\u001b[38;5;241m*\u001b[39m\u001b[38;5;241m*\u001b[39m\u001b[38;5;241m2\u001b[39m \u001b[38;5;241m+\u001b[39m \u001b[38;5;241m1\u001b[39m)), plus_root\u001b[38;5;241m/\u001b[39m(np\u001b[38;5;241m.\u001b[39msqrt(plus_root\u001b[38;5;241m*\u001b[39m\u001b[38;5;241m*\u001b[39m\u001b[38;5;241m2\u001b[39m \u001b[38;5;241m+\u001b[39m \u001b[38;5;241m1\u001b[39m)), \u001b[38;5;241m0\u001b[39m], [\u001b[38;5;241m0\u001b[39m, \u001b[38;5;241m0\u001b[39m, \u001b[38;5;241m0\u001b[39m, \u001b[38;5;241m1\u001b[39m]])\n\u001b[1;32m--> 120\u001b[0m P_gate \u001b[38;5;241m=\u001b[39m \u001b[43mOperator\u001b[49m\u001b[43m(\u001b[49m\u001b[43mP\u001b[49m\u001b[43m)\u001b[49m\u001b[38;5;241;43m.\u001b[39;49m\u001b[43mto_instruction\u001b[49m\u001b[43m(\u001b[49m\u001b[43m)\u001b[49m\n\u001b[0;32m    122\u001b[0m P_dag_gate \u001b[38;5;241m=\u001b[39m Operator(P\u001b[38;5;241m.\u001b[39mtranspose())\u001b[38;5;241m.\u001b[39mto_instruction()\n\u001b[0;32m    124\u001b[0m \u001b[38;5;66;03m# Now we apply P to the first layer and do the classical check\u001b[39;00m\n",
      "File \u001b[1;32mc:\\Users\\Benjamin\\AppData\\Local\\Programs\\Python\\Python312\\Lib\\site-packages\\qiskit\\quantum_info\\operators\\operator.py:478\u001b[0m, in \u001b[0;36mOperator.to_instruction\u001b[1;34m(self)\u001b[0m\n\u001b[0;32m    475\u001b[0m \u001b[38;5;66;03m# pylint: disable=cyclic-import\u001b[39;00m\n\u001b[0;32m    476\u001b[0m \u001b[38;5;28;01mfrom\u001b[39;00m \u001b[38;5;21;01mqiskit\u001b[39;00m\u001b[38;5;21;01m.\u001b[39;00m\u001b[38;5;21;01mcircuit\u001b[39;00m\u001b[38;5;21;01m.\u001b[39;00m\u001b[38;5;21;01mlibrary\u001b[39;00m\u001b[38;5;21;01m.\u001b[39;00m\u001b[38;5;21;01mgeneralized_gates\u001b[39;00m\u001b[38;5;21;01m.\u001b[39;00m\u001b[38;5;21;01munitary\u001b[39;00m \u001b[38;5;28;01mimport\u001b[39;00m UnitaryGate\n\u001b[1;32m--> 478\u001b[0m \u001b[38;5;28;01mreturn\u001b[39;00m \u001b[43mUnitaryGate\u001b[49m\u001b[43m(\u001b[49m\u001b[38;5;28;43mself\u001b[39;49m\u001b[38;5;241;43m.\u001b[39;49m\u001b[43mdata\u001b[49m\u001b[43m)\u001b[49m\n",
      "File \u001b[1;32mc:\\Users\\Benjamin\\AppData\\Local\\Programs\\Python\\Python312\\Lib\\site-packages\\qiskit\\circuit\\library\\generalized_gates\\unitary.py:102\u001b[0m, in \u001b[0;36mUnitaryGate.__init__\u001b[1;34m(self, data, label, check_input, num_qubits)\u001b[0m\n\u001b[0;32m     99\u001b[0m \u001b[38;5;28;01mif\u001b[39;00m check_input:\n\u001b[0;32m    100\u001b[0m     \u001b[38;5;66;03m# Check input is unitary\u001b[39;00m\n\u001b[0;32m    101\u001b[0m     \u001b[38;5;28;01mif\u001b[39;00m \u001b[38;5;129;01mnot\u001b[39;00m is_unitary_matrix(data):\n\u001b[1;32m--> 102\u001b[0m         \u001b[38;5;28;01mraise\u001b[39;00m \u001b[38;5;167;01mValueError\u001b[39;00m(\u001b[38;5;124m\"\u001b[39m\u001b[38;5;124mInput matrix is not unitary.\u001b[39m\u001b[38;5;124m\"\u001b[39m)\n\u001b[0;32m    103\u001b[0m     \u001b[38;5;66;03m# Check input is N-qubit matrix\u001b[39;00m\n\u001b[0;32m    104\u001b[0m     \u001b[38;5;28;01mif\u001b[39;00m input_dim \u001b[38;5;241m!=\u001b[39m output_dim \u001b[38;5;129;01mor\u001b[39;00m \u001b[38;5;241m2\u001b[39m\u001b[38;5;241m*\u001b[39m\u001b[38;5;241m*\u001b[39mnum_qubits \u001b[38;5;241m!=\u001b[39m input_dim:\n",
      "\u001b[1;31mValueError\u001b[0m: Input matrix is not unitary."
     ]
    }
   ],
   "source": [
    "from sampler_solver_WORKS_one_ancilla import sampler_solver\n",
    "from merge_methods_CHAIN import solve_master_equation\n",
    "from efficient_qiskit_solver_markovian_CHAIN import markovian_qiskit_solver\n",
    "import numpy as np\n",
    "import matplotlib.pyplot as plt\n",
    "from qiskit_aer import AerSimulator\n",
    "import colorsys\n",
    "from generate_complementary_colors import generate_complementary_colors\n",
    "plt.rcParams['text.usetex'] = True\n",
    "plt.rcParams['figure.dpi'] = 100\n",
    "plt.rcParams['savefig.dpi'] = 600\n",
    "\n",
    "omega_c = 1.1\n",
    "n = 2\n",
    "kappa = [0.2]\n",
    "omega_m = [1.1, 1.3]\n",
    "g = [0.01]*(2*(n-1))\n",
    "gamma = [0.8*(10**-6)]*n\n",
    "initial_state = [0]*(2**n)\n",
    "initial_state[-1] = 1\n",
    "\n",
    "t = np.linspace(0, 750, 250)\n",
    "r = 5\n",
    "\n",
    "backend = AerSimulator()\n",
    "optimization_level = 0\n",
    "options = {'default_shots' : 10**3}\n",
    "\n",
    "evs_ancilla = sampler_solver(n, omega_m, omega_c, gamma, g, kappa, t, r, initial_state, backend, optimization_level, options, 'one ancilla')\n",
    "evs_markov = solve_master_equation(n, omega_m, omega_c, gamma, kappa, g, t, initial_state, 'markovian')\n",
    "colors = generate_complementary_colors(len(evs_markov.keys()), palette_type = 'default', start_color = 'hotpink')\n",
    "\n",
    "for key in evs_markov:\n",
    "\n",
    "    plt.plot(t, evs_markov[key], color = colors[int(key)], linestyle = 'solid')\n",
    "    plt.plot(t, evs_ancilla[key], color = colors[int(key)], linestyle = 'dotted')\n",
    "    plt.plot(np.NaN, np.NaN, linestyle = 'None', marker = '.', color =  colors[int(key)], label = '$q_{%i}$' %int(key))\n",
    "\n",
    "plt.plot(np.NaN, np.NaN, linestyle = 'solid', color = 'black', label = 'QuTiP')\n",
    "plt.plot(np.NaN, np.NaN, linestyle = 'dotted', color = 'black', label = 'Quantum simulation')\n",
    "plt.xlabel('t')\n",
    "plt.ylabel('population')\n",
    "#plt.yscale('log')\n",
    "plt.title('population of $\\\\left.|1 \\\\right>_{q_i}$')\n",
    "plt.legend()\n",
    "#plt.savefig('markovian circuit for %s' %key)\n",
    "plt.show()  "
   ]
  },
  {
   "cell_type": "code",
   "execution_count": 2,
   "metadata": {},
   "outputs": [
    {
     "name": "stdout",
     "output_type": "stream",
     "text": [
      "Matrix([[$g_{+}$*$p_{22}$ + $g_{-}$*$p_{11}$, -0.353553390593274*$g_{+}$*$p_{02}$ + 0.353553390593274*$g_{-}$*$p_{01}$, -0.353553390593274*$g_{+}$*$p_{02}$ - 0.353553390593274*$g_{-}$*$p_{01}$, -0.5*$p_{03}$*($g_{+}$ + $g_{-}$)], [-0.353553390593274*$g_{+}$*$p_{20}$ + 0.353553390593274*$g_{-}$*$p_{10}$, -0.5*$g_{+}$*(1.0*$p_{22}$ - $p_{33}$) - 0.5*$g_{-}$*(1.0*$p_{11}$ - $p_{33}$) + 0.25*$p_{12}$*($g_{+}$ + $g_{-}$) + 0.25*$p_{21}$*($g_{+}$ + $g_{-}$), -0.5*$g_{+}$*(1.0*$p_{22}$ - $p_{33}$) + 0.5*$g_{-}$*(1.0*$p_{11}$ - $p_{33}$) + 0.25*$p_{12}$*($g_{+}$ + $g_{-}$) - 0.25*$p_{21}$*($g_{+}$ + $g_{-}$), 0.707106781186547*$p_{13}$*(0.5*$g_{+}$ + 1.0*$g_{-}$) - 0.707106781186547*$p_{23}$*(1.0*$g_{+}$ + 0.5*$g_{-}$)], [-0.353553390593274*$g_{+}$*$p_{20}$ - 0.353553390593274*$g_{-}$*$p_{10}$, -0.5*$g_{+}$*(1.0*$p_{22}$ - $p_{33}$) + 0.5*$g_{-}$*(1.0*$p_{11}$ - $p_{33}$) - 0.25*$p_{12}$*($g_{+}$ + $g_{-}$) + 0.25*$p_{21}$*($g_{+}$ + $g_{-}$), -0.5*$g_{+}$*(1.0*$p_{22}$ - $p_{33}$) - 0.5*$g_{-}$*(1.0*$p_{11}$ - $p_{33}$) - 0.25*$p_{12}$*($g_{+}$ + $g_{-}$) - 0.25*$p_{21}$*($g_{+}$ + $g_{-}$), -0.707106781186547*$p_{13}$*(0.5*$g_{+}$ + 1.0*$g_{-}$) - 0.707106781186547*$p_{23}$*(1.0*$g_{+}$ + 0.5*$g_{-}$)], [-0.5*$p_{30}$*($g_{+}$ + $g_{-}$), 0.707106781186547*$p_{31}$*(0.5*$g_{+}$ + 1.0*$g_{-}$) - 0.707106781186547*$p_{32}$*(1.0*$g_{+}$ + 0.5*$g_{-}$), -0.707106781186547*$p_{31}$*(0.5*$g_{+}$ + 1.0*$g_{-}$) - 0.707106781186547*$p_{32}$*(1.0*$g_{+}$ + 0.5*$g_{-}$), -1.0*$p_{33}$*($g_{+}$ + $g_{-}$)]])\n"
     ]
    }
   ],
   "source": [
    "import sympy as sp\n",
    "from sympy import Matrix, Symbol, sqrt\n",
    "import numpy as np\n",
    "\n",
    "rho_00 = Symbol('$p_{00}$')\n",
    "rho_01 = Symbol('$p_{01}$')\n",
    "rho_02 = Symbol('$p_{02}$')\n",
    "rho_03 = Symbol('$p_{03}$')\n",
    "\n",
    "rho_10 = Symbol('$p_{10}$')\n",
    "rho_11 = Symbol('$p_{11}$')\n",
    "rho_12 = Symbol('$p_{12}$')\n",
    "rho_13 = Symbol('$p_{13}$')\n",
    "\n",
    "rho_20 = Symbol('$p_{20}$')\n",
    "rho_21 = Symbol('$p_{21}$')\n",
    "rho_22 = Symbol('$p_{22}$')\n",
    "rho_23 = Symbol('$p_{23}$')\n",
    "\n",
    "rho_30 = Symbol('$p_{30}$')\n",
    "rho_31 = Symbol('$p_{31}$')\n",
    "rho_32 = Symbol('$p_{32}$')\n",
    "rho_33 = Symbol('$p_{33}$')\n",
    "\n",
    "\n",
    "rho = Matrix([[rho_00, rho_01, rho_02, rho_03],[rho_10, rho_11, rho_12, rho_13], [rho_20, rho_21, rho_22, rho_23], [rho_30, rho_31, rho_32, rho_33]])\n",
    "\n",
    "gr = Matrix([[1],[0],[0],[0]])\n",
    "lambda_minus = Matrix([[0],[1],[0],[0]])\n",
    "lambda_plus = Matrix([[0],[0],[1],[0]])\n",
    "e = Matrix([[0],[0],[0],[1]])\n",
    "\n",
    "# Operators definition\n",
    "\n",
    "sigma_gplus = gr*lambda_plus.transpose()\n",
    "sigma_gminus = gr*lambda_minus.transpose()\n",
    "sigma_pluse = lambda_plus*e.transpose()\n",
    "sigma_minuse = lambda_minus*e.transpose()\n",
    "\n",
    "# Decay constants\n",
    "\n",
    "gamma_plus = Symbol('$g_{+}$')\n",
    "gamma_minus = Symbol('$g_{-}$')\n",
    "\n",
    "# Dissipators\n",
    "\n",
    "d_gplus = gamma_plus*(sigma_gplus*rho*sigma_gplus.transpose() - 0.5*(sigma_gplus.transpose()*sigma_gplus*rho + rho*sigma_gplus.transpose()*sigma_gplus))\n",
    "d_gminus = gamma_minus*(sigma_gminus*rho*sigma_gminus.transpose() - 0.5*(sigma_gminus.transpose()*sigma_gminus*rho + rho*sigma_gminus.transpose()*sigma_gminus))\n",
    "d_pluse = gamma_plus*(sigma_pluse*rho*sigma_pluse.transpose() - 0.5*(sigma_pluse.transpose()*sigma_pluse*rho + rho*sigma_pluse.transpose()*sigma_pluse))\n",
    "d_minuse = gamma_minus*(sigma_minuse*rho*sigma_minuse.transpose() - 0.5*(sigma_minuse.transpose()*sigma_minuse*rho + rho*sigma_minuse.transpose()*sigma_minuse))\n",
    "\n",
    "evolved_rho = d_gplus + d_gminus + d_pluse + d_minuse\n",
    "final_rho = sp.simplify(evolved_rho)\n",
    "P = Matrix([[1, 0, 0, 0], [0, -1/np.sqrt(2), 1/np.sqrt(2), 0], [0, 1/np.sqrt(2), 1/np.sqrt(2), 0], [0, 0, 0, 1]])\n",
    "rho_prime = P.transpose()*final_rho*P\n",
    "print(sp.simplify(rho_prime))"
   ]
  },
  {
   "cell_type": "code",
   "execution_count": 1,
   "metadata": {},
   "outputs": [],
   "source": [
    "from qiskit_ibm_runtime import QiskitRuntimeService\n",
    "from sampler_solver_WORKS_one_ancilla import sampler_solver\n",
    "from merge_methods_CHAIN import solve_master_equation\n",
    "from merge_methods_WORKS import solve_master_equation as diagonal_solver\n",
    "from qiskit_aer import AerSimulator\n",
    "import numpy as np\n",
    "from qiskit_aer.noise import NoiseModel\n",
    "from qiskit_ibm_runtime.fake_provider import FakeTorino\n",
    "\n",
    "backend = AerSimulator()\n",
    "optimization_level = 3\n",
    "options = {'default_shots' : 10**4}\n",
    "\n",
    "omega_c = 1.1\n",
    "n = 2\n",
    "kappa = [1.1]\n",
    "omega_m = [0.8]*n\n",
    "g = [0.01]*(2*(n-1))\n",
    "gamma = [0.8*(10**-6)]*n\n",
    "initial_state = [0]*(2**n)\n",
    "initial_state[-1] = 1\n",
    "t = np.linspace(0, 750, 250)\n",
    "r = 3\n",
    "\n",
    "evs_qc = sampler_solver(n, omega_m, omega_c, gamma, g, kappa, t, r, initial_state, backend, optimization_level, options, 'one ancilla')\n",
    "evs_markov = solve_master_equation(n, omega_m, omega_c, gamma, kappa, g, t, initial_state, 'markovian')\n",
    "#evs_diagonal = diagonal_solver(omega_m, omega_c, gamma, kappa, g, t, initial_state, 'diagonal')"
   ]
  },
  {
   "cell_type": "code",
   "execution_count": 6,
   "metadata": {},
   "outputs": [
    {
     "data": {
      "image/png": "[encoded data removed]",
      "text/plain": [
       "<Figure size 640x480 with 1 Axes>"
      ]
     },
     "metadata": {},
     "output_type": "display_data"
    }
   ],
   "source": [
    "# Constants needed for the analytical solution\n",
    "\n",
    "delta = [ x - omega_c for x in omega_m ]\n",
    "omega_eff = [ omega_m[i] + (delta[i]*(g[i]**2))/((0.5*kappa[0])**2 + delta[i]**2) for i in range(n) ]\n",
    "g_eff = [ (0.5*g[i]*g[i+1]*(delta[i] + delta[i+1]))/((kappa[0]/2)**2 + delta[i]*delta[i+1]) for i in range(n-1) ]\n",
    "gamma_eff = [ gamma[i] + (kappa[0]*(g[i]**2))/((0.5*kappa[0])**2 + delta[i]**2) for i in range(n) ]\n",
    "gamma_cross = [ (g[i]*g[i+1]*(kappa[0]))/((kappa[0]/2)**2 + delta[i]*delta[i+1]) for i in range(n-1)]  \n",
    "gamma_plus = [(gamma_eff[i] + gamma_eff[i+1])/2 + gamma_cross[i] for i in range(n-1)]\n",
    "gamma_minus = [(gamma_eff[i] + gamma_eff[i+1])/2 - gamma_cross[i] for i in range(n-1)]\n",
    "\n",
    "\n",
    "import numpy as np\n",
    "import matplotlib.pyplot as plt\n",
    "plt.rcParams['text.usetex'] = True\n",
    "plt.rcParams['figure.dpi'] = 100\n",
    "plt.rcParams['savefig.dpi'] = 600\n",
    "from generate_complementary_colors import generate_complementary_colors\n",
    "\n",
    "colors = generate_complementary_colors(n, 'pastel', 'turquoise')\n",
    "\n",
    "for key in evs_qc:\n",
    "\n",
    "    plt.plot(t, evs_markov[key], linestyle = 'solid', alpha = 0.5, color = colors[int(key)])\n",
    "    #plt.plot(t, evs_diagonal[key], linestyle = 'solid', color = colors[int(key)])\n",
    "    plt.plot(t, evs_qc[key], linestyle = 'dashed', color = colors[int(key)])\n",
    "    #plt.plot(t, 1/2*((gamma_plus[0]/gamma_minus[0])*(1 - np.exp(-gamma_minus[0]*t)) + (gamma_minus[0]/gamma_plus[0])*(1-np.exp(-gamma_plus[0]*t))) + np.exp(-(gamma_plus[0] + gamma_minus[0])*t) , linestyle = 'dotted', color = colors[int(key)])\n",
    "    #plt.plot(t, (gamma_plus[0]/gamma_minus[0])*(1 - np.exp(-gamma_minus[0]*t)) + np.exp(-(gamma_plus[0] + gamma_minus[0])*t) , linestyle = 'dotted', color = colors[int(key)])\n",
    "    plt.plot(t, 1/2*((gamma_plus[0]/gamma_minus[0])*(np.exp(-gamma_plus[0]*t) - np.exp(-(gamma_plus[0] + gamma_minus[0])*t)) + (gamma_minus[0]/gamma_plus[0])*(np.exp(-gamma_minus[0]*t) - np.exp(-(gamma_plus[0] + gamma_minus[0])*t))) + np.exp(-(gamma_plus[0] + gamma_minus[0])*t) , linestyle = 'dotted', color = colors[int(key)])\n",
    "    plt.plot(np.NaN, np.NaN, marker = '.', color = colors[int(key)], label = f'$q_{int(key)}$')\n",
    "\n",
    "plt.plot(np.NaN, np.NaN, color = 'black', alpha = 0.5, linestyle = 'solid', label = 'Markovian ME')\n",
    "#plt.plot(np.NaN, np.NaN, color = 'black', linestyle = 'solid', label = 'Diagonal approximated ME')\n",
    "plt.plot(np.NaN, np.NaN, color = 'black', linestyle = 'dashed', label = 'Qiskit')\n",
    "plt.plot(np.NaN, np.NaN, color = 'black', linestyle = 'dotted', label = 'Analytical')\n",
    "plt.xlabel('t')\n",
    "plt.ylabel('population of $\\\\left.|1 \\\\right>_{q_i}$')\n",
    "plt.legend()\n",
    "#plt.savefig('two_qubit_real_backend_sim_one_trotter')\n",
    "plt.show()"
   ]
  },
  {
   "cell_type": "code",
   "execution_count": 7,
   "metadata": {},
   "outputs": [
    {
     "data": {
      "text/plain": [
       "[8.000000000000194e-07]"
      ]
     },
     "execution_count": 7,
     "metadata": {},
     "output_type": "execute_result"
    }
   ],
   "source": [
    "gamma_minus"
   ]
  },
  {
   "cell_type": "code",
   "execution_count": 8,
   "metadata": {},
   "outputs": [
    {
     "data": {
      "text/plain": [
       "[0.0005613095541401274]"
      ]
     },
     "execution_count": 8,
     "metadata": {},
     "output_type": "execute_result"
    }
   ],
   "source": [
    "gamma_plus"
   ]
  },
  {
   "cell_type": "markdown",
   "metadata": {},
   "source": [
    "Diagonalization of 2 qubit Hamiltonian"
   ]
  },
  {
   "cell_type": "code",
   "execution_count": 96,
   "metadata": {},
   "outputs": [
    {
     "data": {
      "text/latex": [
       "$\\displaystyle \\left[\\begin{matrix}0 & 0 & 0 & 0\\\\0 & $w_{2}$ & $g$ & 0\\\\0 & $g$ & $w_{1}$ & 0\\\\0 & 0 & 0 & $w_{1}$ + $w_{2}$\\end{matrix}\\right]$"
      ],
      "text/plain": [
       "Matrix([\n",
       "[0,       0,       0,                 0],\n",
       "[0, $w_{2}$,     $g$,                 0],\n",
       "[0,     $g$, $w_{1}$,                 0],\n",
       "[0,       0,       0, $w_{1}$ + $w_{2}$]])"
      ]
     },
     "execution_count": 96,
     "metadata": {},
     "output_type": "execute_result"
    }
   ],
   "source": [
    "import sympy as sp\n",
    "from sympy import Matrix\n",
    "from sympy.physics.quantum import TensorProduct\n",
    "from sympy import Symbol, sqrt\n",
    "import numpy as np\n",
    "\n",
    "omega_1 = Symbol('$w_{1}$')\n",
    "omega_2 = Symbol('$w_{2}$')\n",
    "g = Symbol('$g$')\n",
    "\n",
    "#omega_1 =  2\n",
    "#omega_2 = 4\n",
    "\n",
    "H = Matrix([[0, 0, 0, 0],[0, omega_2, g, 0], [0, g, omega_1, 0],[0, 0, 0, omega_1 + omega_2]])\n",
    "H"
   ]
  },
  {
   "cell_type": "code",
   "execution_count": 65,
   "metadata": {},
   "outputs": [
    {
     "data": {
      "text/latex": [
       "$\\displaystyle \\left[\\begin{matrix}1 & 0 & 0 & 0\\\\0 & 1 & 0 & 0\\\\0 & 0 & \\frac{4 $g$^{2} - \\sqrt{4 $g$^{2} + 1} + 1}{2 $g$^{2}} & 0\\\\0 & 0 & 0 & \\frac{4 $g$^{2} + \\sqrt{4 $g$^{2} + 1} + 1}{2 $g$^{2}}\\end{matrix}\\right]$"
      ],
      "text/plain": [
       "Matrix([\n",
       "[1, 0,                                              0,                                              0],\n",
       "[0, 1,                                              0,                                              0],\n",
       "[0, 0, (4*$g$**2 - sqrt(4*$g$**2 + 1) + 1)/(2*$g$**2),                                              0],\n",
       "[0, 0,                                              0, (4*$g$**2 + sqrt(4*$g$**2 + 1) + 1)/(2*$g$**2)]])"
      ]
     },
     "execution_count": 65,
     "metadata": {},
     "output_type": "execute_result"
    }
   ],
   "source": [
    "sp.simplify(A.transpose()*A)"
   ]
  },
  {
   "cell_type": "code",
   "execution_count": 51,
   "metadata": {},
   "outputs": [
    {
     "data": {
      "text/latex": [
       "$\\displaystyle \\left[\\begin{matrix}1 & 0 & 0 & 0\\\\0 & 1.0 & 0 & 0\\\\0 & 0 & 1.0 & 0\\\\0 & 0 & 0 & 1\\end{matrix}\\right]$"
      ],
      "text/plain": [
       "Matrix([\n",
       "[1,   0,   0, 0],\n",
       "[0, 1.0,   0, 0],\n",
       "[0,   0, 1.0, 0],\n",
       "[0,   0,   0, 1]])"
      ]
     },
     "execution_count": 51,
     "metadata": {},
     "output_type": "execute_result"
    }
   ],
   "source": [
    "P = Matrix([[1, 0, 0, 0], [0, -1/np.sqrt(2), 1/np.sqrt(2), 0], [0, 1/np.sqrt(2), 1/np.sqrt(2), 0], [0, 0, 0, 1]])\n",
    "P*P.transpose()"
   ]
  },
  {
   "cell_type": "code",
   "execution_count": 55,
   "metadata": {},
   "outputs": [
    {
     "data": {
      "text/latex": [
       "$\\displaystyle \\left[\\begin{matrix}1 & 0 & 0 & 0\\\\0 & 1 & 0 & 0\\\\0 & 0 & 1 & 0\\\\0 & 0 & 0 & 1\\end{matrix}\\right]$"
      ],
      "text/plain": [
       "Matrix([\n",
       "[1, 0, 0, 0],\n",
       "[0, 1, 0, 0],\n",
       "[0, 0, 1, 0],\n",
       "[0, 0, 0, 1]])"
      ]
     },
     "execution_count": 55,
     "metadata": {},
     "output_type": "execute_result"
    }
   ],
   "source": [
    "Matrix.eye(P.rows)"
   ]
  },
  {
   "cell_type": "code",
   "execution_count": 53,
   "metadata": {},
   "outputs": [
    {
     "data": {
      "text/latex": [
       "$\\displaystyle \\left[\\begin{matrix}1 & 0 & 0 & 0\\\\0 & 1.0 & 0 & 0\\\\0 & 0 & 1.0 & 0\\\\0 & 0 & 0 & 1\\end{matrix}\\right]$"
      ],
      "text/plain": [
       "Matrix([\n",
       "[1,   0,   0, 0],\n",
       "[0, 1.0,   0, 0],\n",
       "[0,   0, 1.0, 0],\n",
       "[0,   0,   0, 1]])"
      ]
     },
     "execution_count": 53,
     "metadata": {},
     "output_type": "execute_result"
    }
   ],
   "source": [
    "P*P.H"
   ]
  },
  {
   "cell_type": "code",
   "execution_count": 97,
   "metadata": {},
   "outputs": [
    {
     "name": "stdout",
     "output_type": "stream",
     "text": [
      "Matrix([[0, 0, 0, 1], [0, (-$w_{1}$/$g$ + ($w_{1}$/2 + $w_{2}$/2 - sqrt(4*$g$**2 + $w_{1}$**2 - 2*$w_{1}$*$w_{2}$ + $w_{2}$**2)/2)/$g$)/sqrt((-$w_{1}$/$g$ + ($w_{1}$/2 + $w_{2}$/2 - sqrt(4*$g$**2 + $w_{1}$**2 - 2*$w_{1}$*$w_{2}$ + $w_{2}$**2)/2)/$g$)**2 + 1), (-$w_{1}$/$g$ + ($w_{1}$/2 + $w_{2}$/2 + sqrt(4*$g$**2 + $w_{1}$**2 - 2*$w_{1}$*$w_{2}$ + $w_{2}$**2)/2)/$g$)/sqrt((-$w_{1}$/$g$ + ($w_{1}$/2 + $w_{2}$/2 + sqrt(4*$g$**2 + $w_{1}$**2 - 2*$w_{1}$*$w_{2}$ + $w_{2}$**2)/2)/$g$)**2 + 1), 0], [0, 1/sqrt((-$w_{1}$/$g$ + ($w_{1}$/2 + $w_{2}$/2 - sqrt(4*$g$**2 + $w_{1}$**2 - 2*$w_{1}$*$w_{2}$ + $w_{2}$**2)/2)/$g$)**2 + 1), 1/sqrt((-$w_{1}$/$g$ + ($w_{1}$/2 + $w_{2}$/2 + sqrt(4*$g$**2 + $w_{1}$**2 - 2*$w_{1}$*$w_{2}$ + $w_{2}$**2)/2)/$g$)**2 + 1), 0], [1, 0, 0, 0]])\n"
     ]
    }
   ],
   "source": [
    "columns = []\n",
    "M = sp.eye(4,1)\n",
    "for i in range(4):\n",
    "    eigenvec = H.eigenvects()[i][2][0]\n",
    "    norm = sqrt(sum(sp.matrices.dense.matrix_multiply_elementwise(eigenvec, eigenvec)))\n",
    "    M = M.col_insert(i, eigenvec/norm)\n",
    "\n",
    "M.col_del(0)\n",
    "print(M)"
   ]
  },
  {
   "cell_type": "code",
   "execution_count": 98,
   "metadata": {},
   "outputs": [
    {
     "data": {
      "text/latex": [
       "$\\displaystyle \\left[\\begin{matrix}1 & 0 & 0 & 0\\\\0 & 1 & 0 & 0\\\\0 & 0 & 1 & 0\\\\0 & 0 & 0 & 1\\end{matrix}\\right]$"
      ],
      "text/plain": [
       "Matrix([\n",
       "[1, 0, 0, 0],\n",
       "[0, 1, 0, 0],\n",
       "[0, 0, 1, 0],\n",
       "[0, 0, 0, 1]])"
      ]
     },
     "execution_count": 98,
     "metadata": {},
     "output_type": "execute_result"
    }
   ],
   "source": [
    "sp.simplify(M.transpose()*M)"
   ]
  },
  {
   "cell_type": "code",
   "execution_count": 32,
   "metadata": {},
   "outputs": [
    {
     "name": "stdout",
     "output_type": "stream",
     "text": [
      "Matrix([[1, 0, 0, 0], [0, 0, (-$w_{1}$ + $w_{2}$ - sqrt(4*$g$**2 + $w_{1}$**2 - 2*$w_{1}$*$w_{2}$ + $w_{2}$**2))/(2*$g$), (-$w_{1}$ + $w_{2}$ + sqrt(4*$g$**2 + $w_{1}$**2 - 2*$w_{1}$*$w_{2}$ + $w_{2}$**2))/(2*$g$)], [0, 0, 1, 1], [0, 1, 0, 0]])\n"
     ]
    }
   ],
   "source": [
    "print(H.diagonalize()[0])"
   ]
  },
  {
   "cell_type": "markdown",
   "metadata": {},
   "source": [
    "Making P unitary (P_unit = P*(P^{\\dag}*P)^{-1})"
   ]
  },
  {
   "cell_type": "code",
   "execution_count": 33,
   "metadata": {},
   "outputs": [
    {
     "name": "stdout",
     "output_type": "stream",
     "text": [
      "Matrix([[1, 0, 0, 0], [0, 0, 0.707106781186548*(-$w_{1}$ + $w_{2}$ - sqrt(4*$g$**2 + $w_{1}$**2 - 2*$w_{1}$*$w_{2}$ + $w_{2}$**2))/($g$*((4*$g$**2 + $w_{1}$**2 - 2*$w_{1}$*$w_{2}$ + $w_{1}$*sqrt(4*$g$**2 + $w_{1}$**2 - 2*$w_{1}$*$w_{2}$ + $w_{2}$**2) + $w_{2}$**2 - $w_{2}$*sqrt(4*$g$**2 + $w_{1}$**2 - 2*$w_{1}$*$w_{2}$ + $w_{2}$**2))/$g$**2)**0.5), 0.707106781186548*(-$w_{1}$ + $w_{2}$ + sqrt(4*$g$**2 + $w_{1}$**2 - 2*$w_{1}$*$w_{2}$ + $w_{2}$**2))/($g$*((4*$g$**2 + $w_{1}$**2 - 2*$w_{1}$*$w_{2}$ - $w_{1}$*sqrt(4*$g$**2 + $w_{1}$**2 - 2*$w_{1}$*$w_{2}$ + $w_{2}$**2) + $w_{2}$**2 + $w_{2}$*sqrt(4*$g$**2 + $w_{1}$**2 - 2*$w_{1}$*$w_{2}$ + $w_{2}$**2))/$g$**2)**0.5)], [0, 0, 1.4142135623731/((4*$g$**2 + $w_{1}$**2 - 2*$w_{1}$*$w_{2}$ + $w_{1}$*sqrt(4*$g$**2 + $w_{1}$**2 - 2*$w_{1}$*$w_{2}$ + $w_{2}$**2) + $w_{2}$**2 - $w_{2}$*sqrt(4*$g$**2 + $w_{1}$**2 - 2*$w_{1}$*$w_{2}$ + $w_{2}$**2))/$g$**2)**0.5, 1.4142135623731/((4*$g$**2 + $w_{1}$**2 - 2*$w_{1}$*$w_{2}$ - $w_{1}$*sqrt(4*$g$**2 + $w_{1}$**2 - 2*$w_{1}$*$w_{2}$ + $w_{2}$**2) + $w_{2}$**2 + $w_{2}$*sqrt(4*$g$**2 + $w_{1}$**2 - 2*$w_{1}$*$w_{2}$ + $w_{2}$**2))/$g$**2)**0.5], [0, 1, 0, 0]])\n"
     ]
    }
   ],
   "source": [
    "P = H.diagonalize()[0]\n",
    "pdag_p = (P.transpose()*P)\n",
    "powered = pdag_p**(1/2)\n",
    "inverted = powered.inv()\n",
    "final = P*inverted\n",
    "print(sp.simplify(final))"
   ]
  },
  {
   "cell_type": "code",
   "execution_count": 34,
   "metadata": {},
   "outputs": [
    {
     "data": {
      "text/plain": [
       "False"
      ]
     },
     "execution_count": 34,
     "metadata": {},
     "output_type": "execute_result"
    }
   ],
   "source": [
    "b = is_unitary(final)\n",
    "b"
   ]
  },
  {
   "cell_type": "code",
   "execution_count": null,
   "metadata": {},
   "outputs": [],
   "source": []
  }
 ],
 "metadata": {
  "kernelspec": {
   "display_name": "Python 3",
   "language": "python",
   "name": "python3"
  },
  "language_info": {
   "codemirror_mode": {
    "name": "ipython",
    "version": 3
   },
   "file_extension": ".py",
   "mimetype": "text/x-python",
   "name": "python",
   "nbconvert_exporter": "python",
   "pygments_lexer": "ipython3",
   "version": "3.12.3"
  }
 },
 "nbformat": 4,
 "nbformat_minor": 2
}
